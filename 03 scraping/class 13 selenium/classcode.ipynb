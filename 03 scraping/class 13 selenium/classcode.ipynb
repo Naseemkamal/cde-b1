{
 "cells": [
  {
   "cell_type": "code",
   "execution_count": 1,
   "id": "115177cd-023d-45fa-a257-401b6b8319fe",
   "metadata": {},
   "outputs": [
    {
     "name": "stdout",
     "output_type": "stream",
     "text": [
      "Collecting selenium\n",
      "  Downloading selenium-4.27.1-py3-none-any.whl.metadata (7.1 kB)\n",
      "Requirement already satisfied: urllib3<3,>=1.26 in c:\\users\\smit\\anaconda3\\lib\\site-packages (from urllib3[socks]<3,>=1.26->selenium) (2.2.3)\n",
      "Collecting trio~=0.17 (from selenium)\n",
      "  Downloading trio-0.28.0-py3-none-any.whl.metadata (8.5 kB)\n",
      "Collecting trio-websocket~=0.9 (from selenium)\n",
      "  Downloading trio_websocket-0.11.1-py3-none-any.whl.metadata (4.7 kB)\n",
      "Requirement already satisfied: certifi>=2021.10.8 in c:\\users\\smit\\anaconda3\\lib\\site-packages (from selenium) (2024.8.30)\n",
      "Requirement already satisfied: typing_extensions~=4.9 in c:\\users\\smit\\anaconda3\\lib\\site-packages (from selenium) (4.11.0)\n",
      "Requirement already satisfied: websocket-client~=1.8 in c:\\users\\smit\\anaconda3\\lib\\site-packages (from selenium) (1.8.0)\n",
      "Collecting attrs>=23.2.0 (from trio~=0.17->selenium)\n",
      "  Downloading attrs-24.3.0-py3-none-any.whl.metadata (11 kB)\n",
      "Requirement already satisfied: sortedcontainers in c:\\users\\smit\\anaconda3\\lib\\site-packages (from trio~=0.17->selenium) (2.4.0)\n",
      "Requirement already satisfied: idna in c:\\users\\smit\\anaconda3\\lib\\site-packages (from trio~=0.17->selenium) (3.7)\n",
      "Collecting outcome (from trio~=0.17->selenium)\n",
      "  Downloading outcome-1.3.0.post0-py2.py3-none-any.whl.metadata (2.6 kB)\n",
      "Requirement already satisfied: sniffio>=1.3.0 in c:\\users\\smit\\anaconda3\\lib\\site-packages (from trio~=0.17->selenium) (1.3.0)\n",
      "Requirement already satisfied: cffi>=1.14 in c:\\users\\smit\\anaconda3\\lib\\site-packages (from trio~=0.17->selenium) (1.17.1)\n",
      "Collecting wsproto>=0.14 (from trio-websocket~=0.9->selenium)\n",
      "  Downloading wsproto-1.2.0-py3-none-any.whl.metadata (5.6 kB)\n",
      "Requirement already satisfied: pysocks!=1.5.7,<2.0,>=1.5.6 in c:\\users\\smit\\anaconda3\\lib\\site-packages (from urllib3[socks]<3,>=1.26->selenium) (1.7.1)\n",
      "Requirement already satisfied: pycparser in c:\\users\\smit\\anaconda3\\lib\\site-packages (from cffi>=1.14->trio~=0.17->selenium) (2.21)\n",
      "Requirement already satisfied: h11<1,>=0.9.0 in c:\\users\\smit\\anaconda3\\lib\\site-packages (from wsproto>=0.14->trio-websocket~=0.9->selenium) (0.14.0)\n",
      "Downloading selenium-4.27.1-py3-none-any.whl (9.7 MB)\n",
      "   ---------------------------------------- 0.0/9.7 MB ? eta -:--:--\n",
      "   ---------------- ----------------------- 3.9/9.7 MB 33.7 MB/s eta 0:00:01\n",
      "   ------------------------------- -------- 7.6/9.7 MB 19.6 MB/s eta 0:00:01\n",
      "   ---------------------------------------- 9.7/9.7 MB 18.9 MB/s eta 0:00:00\n",
      "Downloading trio-0.28.0-py3-none-any.whl (486 kB)\n",
      "Downloading trio_websocket-0.11.1-py3-none-any.whl (17 kB)\n",
      "Downloading attrs-24.3.0-py3-none-any.whl (63 kB)\n",
      "Downloading wsproto-1.2.0-py3-none-any.whl (24 kB)\n",
      "Downloading outcome-1.3.0.post0-py2.py3-none-any.whl (10 kB)\n",
      "Installing collected packages: wsproto, attrs, outcome, trio, trio-websocket, selenium\n",
      "  Attempting uninstall: attrs\n",
      "    Found existing installation: attrs 23.1.0\n",
      "    Uninstalling attrs-23.1.0:\n",
      "      Successfully uninstalled attrs-23.1.0\n",
      "Successfully installed attrs-24.3.0 outcome-1.3.0.post0 selenium-4.27.1 trio-0.28.0 trio-websocket-0.11.1 wsproto-1.2.0\n",
      "Note: you may need to restart the kernel to use updated packages.\n"
     ]
    }
   ],
   "source": [
    "pip install selenium"
   ]
  },
  {
   "cell_type": "code",
   "execution_count": 3,
   "id": "88f312ac-3be5-4ec0-a269-d8b72c72bba5",
   "metadata": {},
   "outputs": [],
   "source": [
    "from selenium import webdriver\n",
    "from selenium.webdriver.common.by import By\n",
    "from selenium.webdriver.chrome.options import Options"
   ]
  },
  {
   "cell_type": "code",
   "execution_count": 1,
   "id": "636be73a-1d53-4c18-beed-ed7bffb33ac8",
   "metadata": {},
   "outputs": [],
   "source": [
    " # google driver  https://googlechromelabs.github.io/chrome-for-testing/#stable\n",
    " # firefox "
   ]
  },
  {
   "cell_type": "code",
   "execution_count": 12,
   "id": "5076a96a-e28f-444d-96f3-cb5a67fe8a88",
   "metadata": {},
   "outputs": [],
   "source": [
    "# 1st way to initialize driver"
   ]
  },
  {
   "cell_type": "code",
   "execution_count": null,
   "id": "0848ec14-c07f-46b9-9ff8-f7f806c9a32b",
   "metadata": {},
   "outputs": [],
   "source": [
    "path = 'chromedriver.exe'\n",
    "driver = webdriver.Chrome('chromedriver.exe')\n",
    "# Error"
   ]
  },
  {
   "cell_type": "code",
   "execution_count": 13,
   "id": "63ac4a00-85af-47da-8ec9-8cd59a996982",
   "metadata": {},
   "outputs": [],
   "source": [
    "# 2nd way to initialize"
   ]
  },
  {
   "cell_type": "code",
   "execution_count": 15,
   "id": "2c08dde3-f8a8-457e-8561-780f6b1f0281",
   "metadata": {},
   "outputs": [],
   "source": [
    "from selenium import webdriver\n",
    "from selenium.webdriver.common.by import By\n",
    "from selenium.webdriver.chrome.options import Options\n",
    "\n",
    "options = Options()\n",
    "# headless\n",
    "options.add_argument('--start-maximized')\n",
    "driver = webdriver.Chrome(options=options)\n"
   ]
  },
  {
   "cell_type": "code",
   "execution_count": 17,
   "id": "f704cd9d-4d3b-4f23-8152-b523b9c8e08a",
   "metadata": {},
   "outputs": [],
   "source": [
    "driver.get('https://airforshare.com/')"
   ]
  },
  {
   "cell_type": "code",
   "execution_count": 18,
   "id": "381ec014-ae5d-447f-8477-3a820fb2f8e1",
   "metadata": {},
   "outputs": [],
   "source": [
    "#  3rd way to initialize "
   ]
  },
  {
   "cell_type": "code",
   "execution_count": 19,
   "id": "6200811e-462f-4b22-bd2b-c5f35696653a",
   "metadata": {},
   "outputs": [
    {
     "name": "stdout",
     "output_type": "stream",
     "text": [
      "Collecting webdriver-manager\n",
      "  Downloading webdriver_manager-4.0.2-py2.py3-none-any.whl.metadata (12 kB)\n",
      "Requirement already satisfied: requests in c:\\users\\smit\\anaconda3\\lib\\site-packages (from webdriver-manager) (2.32.3)\n",
      "Requirement already satisfied: python-dotenv in c:\\users\\smit\\anaconda3\\lib\\site-packages (from webdriver-manager) (0.21.0)\n",
      "Requirement already satisfied: packaging in c:\\users\\smit\\appdata\\roaming\\python\\python312\\site-packages (from webdriver-manager) (24.1)\n",
      "Requirement already satisfied: charset-normalizer<4,>=2 in c:\\users\\smit\\anaconda3\\lib\\site-packages (from requests->webdriver-manager) (3.3.2)\n",
      "Requirement already satisfied: idna<4,>=2.5 in c:\\users\\smit\\anaconda3\\lib\\site-packages (from requests->webdriver-manager) (3.7)\n",
      "Requirement already satisfied: urllib3<3,>=1.21.1 in c:\\users\\smit\\anaconda3\\lib\\site-packages (from requests->webdriver-manager) (2.2.3)\n",
      "Requirement already satisfied: certifi>=2017.4.17 in c:\\users\\smit\\anaconda3\\lib\\site-packages (from requests->webdriver-manager) (2024.8.30)\n",
      "Downloading webdriver_manager-4.0.2-py2.py3-none-any.whl (27 kB)\n",
      "Installing collected packages: webdriver-manager\n",
      "Successfully installed webdriver-manager-4.0.2\n",
      "Note: you may need to restart the kernel to use updated packages.\n"
     ]
    }
   ],
   "source": [
    "pip install webdriver-manager"
   ]
  },
  {
   "cell_type": "code",
   "execution_count": 20,
   "id": "c059dc65-63b5-4fa3-9626-b656c0788ff1",
   "metadata": {},
   "outputs": [],
   "source": [
    "from selenium.webdriver.chrome.service import Service \n",
    "from webdriver_manager.chrome import ChromeDriverManager"
   ]
  },
  {
   "cell_type": "code",
   "execution_count": 22,
   "id": "3b474946-56d3-4510-8fd7-ccfefa8093fd",
   "metadata": {},
   "outputs": [],
   "source": [
    "driver = webdriver.Chrome(service=Service(ChromeDriverManager().install()))"
   ]
  },
  {
   "cell_type": "code",
   "execution_count": 23,
   "id": "60f45e0d-f889-4521-a9a7-1ea9bbe7f218",
   "metadata": {},
   "outputs": [],
   "source": [
    "url = 'https://www.geeksforgeeks.org/how-to-use-selenium-and-selenium-webdriver-manager-to-login-to-a-website-with-python/'\n",
    "driver.get(url)"
   ]
  },
  {
   "cell_type": "code",
   "execution_count": 25,
   "id": "50576227-52a8-4f68-920f-dbc1a606e20f",
   "metadata": {},
   "outputs": [
    {
     "name": "stdout",
     "output_type": "stream",
     "text": [
      "How to use Selenium and Selenium WebDriver Manager to Login to a Website with Python?\n"
     ]
    }
   ],
   "source": [
    "title = driver.find_element(By.CLASS_NAME,'article-title')\n",
    "print(title.text)"
   ]
  },
  {
   "cell_type": "code",
   "execution_count": 27,
   "id": "d2be511b-d206-4908-b688-10bbdc5ec2ad",
   "metadata": {},
   "outputs": [
    {
     "name": "stdout",
     "output_type": "stream",
     "text": [
      "How to use Selenium and Selenium WebDriver Manager to Login to a Website with Python?\n"
     ]
    }
   ],
   "source": [
    "title = driver.find_element(By.XPATH,'/html/body/div[2]/div[2]/div/div[2]/div/div/div[1]/article/div[1]/div/div[1]').text\n",
    "print(title)"
   ]
  },
  {
   "cell_type": "code",
   "execution_count": null,
   "id": "4a71c085-e78b-4a47-bb5f-ec4c8848e63f",
   "metadata": {},
   "outputs": [],
   "source": [
    "# CLASS_NAME\n",
    "# ID\n",
    "# XPATH\n",
    "#JavaScript\n"
   ]
  },
  {
   "cell_type": "code",
   "execution_count": null,
   "id": "90c172f1-073f-4082-a65b-54773b3aef86",
   "metadata": {},
   "outputs": [],
   "source": [
    "# find_element for a single element\n",
    "# find_elements  for multiple elements"
   ]
  }
 ],
 "metadata": {
  "kernelspec": {
   "display_name": "Python 3 (ipykernel)",
   "language": "python",
   "name": "python3"
  },
  "language_info": {
   "codemirror_mode": {
    "name": "ipython",
    "version": 3
   },
   "file_extension": ".py",
   "mimetype": "text/x-python",
   "name": "python",
   "nbconvert_exporter": "python",
   "pygments_lexer": "ipython3",
   "version": "3.12.7"
  }
 },
 "nbformat": 4,
 "nbformat_minor": 5
}
