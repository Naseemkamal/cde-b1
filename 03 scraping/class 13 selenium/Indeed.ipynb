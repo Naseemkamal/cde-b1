{
 "cells": [
  {
   "cell_type": "code",
   "execution_count": 4,
   "id": "b2b9e618-78d0-4498-9627-1bc5a2fc53c2",
   "metadata": {},
   "outputs": [],
   "source": [
    "from selenium import webdriver\n",
    "from selenium.webdriver.common.by import By\n",
    "from selenium.webdriver.chrome.options import Options\n"
   ]
  },
  {
   "cell_type": "code",
   "execution_count": 20,
   "id": "2d170951-43e8-456d-a4c4-d39ca9c31e7f",
   "metadata": {},
   "outputs": [],
   "source": [
    "options = Options()\n",
    "# headless\n",
    "options.add_argument('--start-maximized')\n",
    "options.add_argument(\"--disable-extensions\")\n",
    "\n",
    "driver = webdriver.Chrome(options=options)\n",
    "driver.get('https://pk.indeed.com/')"
   ]
  },
  {
   "cell_type": "code",
   "execution_count": 15,
   "id": "ee2a9f3d-483f-4e4d-a4a5-ff4949f74d9f",
   "metadata": {},
   "outputs": [],
   "source": []
  },
  {
   "cell_type": "code",
   "execution_count": 10,
   "id": "89475118-3dd6-4b34-82c8-8f15b91f43ca",
   "metadata": {},
   "outputs": [],
   "source": [
    "from selenium.webdriver.chrome.service import Service \n",
    "from webdriver_manager.chrome import ChromeDriverManager"
   ]
  },
  {
   "cell_type": "code",
   "execution_count": 11,
   "id": "46107132-6934-45c1-9fa6-808f534f13b1",
   "metadata": {},
   "outputs": [],
   "source": [
    "driver = webdriver.Chrome(service=Service(ChromeDriverManager().install()))"
   ]
  },
  {
   "cell_type": "code",
   "execution_count": 21,
   "id": "7982566d-8a41-4127-a3b9-98a19ef2ac65",
   "metadata": {},
   "outputs": [],
   "source": [
    "data_list = driver.find_elements(By.CLASS_NAME,'css-1ac2h1w eu4oa1w0')"
   ]
  },
  {
   "cell_type": "code",
   "execution_count": 25,
   "id": "52892f31-da30-4a81-9521-72a611d57e31",
   "metadata": {},
   "outputs": [
    {
     "data": {
      "text/plain": [
       "{'identifier': '2'}"
      ]
     },
     "execution_count": 25,
     "metadata": {},
     "output_type": "execute_result"
    }
   ],
   "source": [
    "from selenium import webdriver\n",
    "from selenium.webdriver.chrome.service import Service\n",
    "from selenium.webdriver.chrome.options import Options\n",
    "from selenium.webdriver.common.by import By\n",
    "from webdriver_manager.chrome import ChromeDriverManager\n",
    "\n",
    "options = Options()\n",
    "options.add_argument(\"--disable-blink-features=AutomationControlled\")\n",
    "options.add_experimental_option(\"excludeSwitches\", [\"enable-automation\"])\n",
    "options.add_experimental_option(\"useAutomationExtension\", False)\n",
    "\n",
    "driver = webdriver.Chrome(service=Service(ChromeDriverManager().install()), options=options)\n",
    "driver.execute_cdp_cmd(\"Page.addScriptToEvaluateOnNewDocument\", {\n",
    "    \"source\": \"\"\"\n",
    "    Object.defineProperty(navigator, 'webdriver', {\n",
    "      get: () => undefined\n",
    "    })\n",
    "    \"\"\"\n",
    "})"
   ]
  },
  {
   "cell_type": "code",
   "execution_count": 26,
   "id": "27f35bc9-c293-4221-b25b-e6c60add57e4",
   "metadata": {},
   "outputs": [],
   "source": [
    "driver.get('https://pk.indeed.com/')"
   ]
  },
  {
   "cell_type": "code",
   "execution_count": 27,
   "id": "ab264422-a160-4f49-8d14-76569cffc63b",
   "metadata": {},
   "outputs": [],
   "source": [
    "job_input = driver.find_element(By.ID,'text-input-what')\n",
    "job_input.send_keys('Data Engineer')\n",
    "\n",
    "location_input = driver.find_element(By.ID,'text-input-where')\n",
    "location_input.send_keys('karachi')"
   ]
  },
  {
   "cell_type": "code",
   "execution_count": 28,
   "id": "0eeeba44-561e-4383-979e-935880e63b9d",
   "metadata": {},
   "outputs": [],
   "source": [
    "find_job_button = driver.find_element(By.XPATH,'//*[@id=\"jobsearch\"]/div/div[2]/button')\n",
    "find_job_button.click()"
   ]
  },
  {
   "cell_type": "code",
   "execution_count": null,
   "id": "7cedd699-bd32-4069-aab2-b1306afdde80",
   "metadata": {},
   "outputs": [],
   "source": []
  },
  {
   "cell_type": "code",
   "execution_count": 29,
   "id": "4f2dcf6c-d7e6-46b2-90aa-35dc44c25b6b",
   "metadata": {},
   "outputs": [],
   "source": [
    "jobs_data = driver.find_elements(By.CLASS_NAME,'css-1ac2h1w.eu4oa1w0')\n",
    "# replace spaces between class name (.)\n",
    "jobs_data[1].click() \n"
   ]
  },
  {
   "cell_type": "code",
   "execution_count": 30,
   "id": "737e9ba9-b013-48f8-bb47-3a4d9934a56e",
   "metadata": {},
   "outputs": [
    {
     "name": "stdout",
     "output_type": "stream",
     "text": [
      "Data Engineer\n",
      "- job post\n"
     ]
    }
   ],
   "source": [
    "job_title = driver.find_element(By.XPATH,'//*[@id=\"jobsearch-ViewjobPaneWrapper\"]/div/div[2]/div[2]/div[1]/div/div[1]/div[1]/h2/span')\n",
    "print(job_title.text)"
   ]
  },
  {
   "cell_type": "code",
   "execution_count": 32,
   "id": "db1aa066-7868-4f57-93bf-4dc9aceaadec",
   "metadata": {},
   "outputs": [
    {
     "name": "stdout",
     "output_type": "stream",
     "text": [
      "Systems Limited\n"
     ]
    }
   ],
   "source": [
    "company = driver.find_element(By.XPATH,'//*[@id=\"jobsearch-ViewjobPaneWrapper\"]/div/div[2]/div[2]/div[1]/div/div[1]/div[2]/div/div/div/div[1]/div[1]/span')\n",
    "print(company.text)"
   ]
  },
  {
   "cell_type": "code",
   "execution_count": 35,
   "id": "cd0c433c-c057-4225-a0be-ceceb7242838",
   "metadata": {},
   "outputs": [
    {
     "name": "stdout",
     "output_type": "stream",
     "text": [
      "https://pk.indeed.com/cmp/Systems-Limited?campaignid=mobvjcmp&from=mobviewjob&tk=1ihsh0itk2fug000&fromjk=70b71651b3365a89\n"
     ]
    }
   ],
   "source": [
    "company_link = driver.find_element(By.XPATH,'//*[@id=\"jobsearch-ViewjobPaneWrapper\"]/div/div[2]/div[2]/div[1]/div/div[1]/div[2]/div/div/div/div[1]/div[1]/span/a')\n",
    "link= company_link.get_attribute('href')\n",
    "print(link)"
   ]
  },
  {
   "cell_type": "code",
   "execution_count": 10,
   "id": "c3c9bb7a-d753-4f4a-a29f-a01f8abc5ae8",
   "metadata": {},
   "outputs": [
    {
     "ename": "ElementNotInteractableException",
     "evalue": "Message: element not interactable\n  (Session info: chrome=132.0.6834.84)\nStacktrace:\n\tGetHandleVerifier [0x00630A13+25091]\n\t(No symbol) [0x005BA584]\n\t(No symbol) [0x0049B229]\n\t(No symbol) [0x004E03B6]\n\t(No symbol) [0x004D5345]\n\t(No symbol) [0x00501EAC]\n\t(No symbol) [0x004D4DE4]\n\t(No symbol) [0x00502144]\n\t(No symbol) [0x0051B43E]\n\t(No symbol) [0x00501C46]\n\t(No symbol) [0x004D3175]\n\t(No symbol) [0x004D42FD]\n\tGetHandleVerifier [0x00926493+3128451]\n\tGetHandleVerifier [0x0093994B+3207483]\n\tGetHandleVerifier [0x009345F2+3186146]\n\tGetHandleVerifier [0x006C70C0+641200]\n\t(No symbol) [0x005C36BD]\n\t(No symbol) [0x005C0738]\n\t(No symbol) [0x005C08D6]\n\t(No symbol) [0x005B3040]\n\tBaseThreadInitThunk [0x76E5FCC9+25]\n\tRtlGetAppContainerNamedObjectPath [0x77E17C6E+286]\n\tRtlGetAppContainerNamedObjectPath [0x77E17C3E+238]\n",
     "output_type": "error",
     "traceback": [
      "\u001b[1;31m---------------------------------------------------------------------------\u001b[0m",
      "\u001b[1;31mElementNotInteractableException\u001b[0m           Traceback (most recent call last)",
      "Cell \u001b[1;32mIn[10], line 2\u001b[0m\n\u001b[0;32m      1\u001b[0m \u001b[38;5;28;01mfor\u001b[39;00m job \u001b[38;5;129;01min\u001b[39;00m jobs_data:\n\u001b[1;32m----> 2\u001b[0m     \u001b[43mjob\u001b[49m\u001b[38;5;241;43m.\u001b[39;49m\u001b[43mclick\u001b[49m\u001b[43m(\u001b[49m\u001b[43m)\u001b[49m\n\u001b[0;32m      3\u001b[0m     \u001b[38;5;28;01mbreak\u001b[39;00m\n",
      "File \u001b[1;32m~\\anaconda3\\Lib\\site-packages\\selenium\\webdriver\\remote\\webelement.py:94\u001b[0m, in \u001b[0;36mWebElement.click\u001b[1;34m(self)\u001b[0m\n\u001b[0;32m     92\u001b[0m \u001b[38;5;28;01mdef\u001b[39;00m \u001b[38;5;21mclick\u001b[39m(\u001b[38;5;28mself\u001b[39m) \u001b[38;5;241m-\u001b[39m\u001b[38;5;241m>\u001b[39m \u001b[38;5;28;01mNone\u001b[39;00m:\n\u001b[0;32m     93\u001b[0m \u001b[38;5;250m    \u001b[39m\u001b[38;5;124;03m\"\"\"Clicks the element.\"\"\"\u001b[39;00m\n\u001b[1;32m---> 94\u001b[0m     \u001b[38;5;28;43mself\u001b[39;49m\u001b[38;5;241;43m.\u001b[39;49m\u001b[43m_execute\u001b[49m\u001b[43m(\u001b[49m\u001b[43mCommand\u001b[49m\u001b[38;5;241;43m.\u001b[39;49m\u001b[43mCLICK_ELEMENT\u001b[49m\u001b[43m)\u001b[49m\n",
      "File \u001b[1;32m~\\anaconda3\\Lib\\site-packages\\selenium\\webdriver\\remote\\webelement.py:395\u001b[0m, in \u001b[0;36mWebElement._execute\u001b[1;34m(self, command, params)\u001b[0m\n\u001b[0;32m    393\u001b[0m     params \u001b[38;5;241m=\u001b[39m {}\n\u001b[0;32m    394\u001b[0m params[\u001b[38;5;124m\"\u001b[39m\u001b[38;5;124mid\u001b[39m\u001b[38;5;124m\"\u001b[39m] \u001b[38;5;241m=\u001b[39m \u001b[38;5;28mself\u001b[39m\u001b[38;5;241m.\u001b[39m_id\n\u001b[1;32m--> 395\u001b[0m \u001b[38;5;28;01mreturn\u001b[39;00m \u001b[38;5;28;43mself\u001b[39;49m\u001b[38;5;241;43m.\u001b[39;49m\u001b[43m_parent\u001b[49m\u001b[38;5;241;43m.\u001b[39;49m\u001b[43mexecute\u001b[49m\u001b[43m(\u001b[49m\u001b[43mcommand\u001b[49m\u001b[43m,\u001b[49m\u001b[43m \u001b[49m\u001b[43mparams\u001b[49m\u001b[43m)\u001b[49m\n",
      "File \u001b[1;32m~\\anaconda3\\Lib\\site-packages\\selenium\\webdriver\\remote\\webdriver.py:384\u001b[0m, in \u001b[0;36mWebDriver.execute\u001b[1;34m(self, driver_command, params)\u001b[0m\n\u001b[0;32m    382\u001b[0m response \u001b[38;5;241m=\u001b[39m \u001b[38;5;28mself\u001b[39m\u001b[38;5;241m.\u001b[39mcommand_executor\u001b[38;5;241m.\u001b[39mexecute(driver_command, params)\n\u001b[0;32m    383\u001b[0m \u001b[38;5;28;01mif\u001b[39;00m response:\n\u001b[1;32m--> 384\u001b[0m     \u001b[38;5;28;43mself\u001b[39;49m\u001b[38;5;241;43m.\u001b[39;49m\u001b[43merror_handler\u001b[49m\u001b[38;5;241;43m.\u001b[39;49m\u001b[43mcheck_response\u001b[49m\u001b[43m(\u001b[49m\u001b[43mresponse\u001b[49m\u001b[43m)\u001b[49m\n\u001b[0;32m    385\u001b[0m     response[\u001b[38;5;124m\"\u001b[39m\u001b[38;5;124mvalue\u001b[39m\u001b[38;5;124m\"\u001b[39m] \u001b[38;5;241m=\u001b[39m \u001b[38;5;28mself\u001b[39m\u001b[38;5;241m.\u001b[39m_unwrap_value(response\u001b[38;5;241m.\u001b[39mget(\u001b[38;5;124m\"\u001b[39m\u001b[38;5;124mvalue\u001b[39m\u001b[38;5;124m\"\u001b[39m, \u001b[38;5;28;01mNone\u001b[39;00m))\n\u001b[0;32m    386\u001b[0m     \u001b[38;5;28;01mreturn\u001b[39;00m response\n",
      "File \u001b[1;32m~\\anaconda3\\Lib\\site-packages\\selenium\\webdriver\\remote\\errorhandler.py:232\u001b[0m, in \u001b[0;36mErrorHandler.check_response\u001b[1;34m(self, response)\u001b[0m\n\u001b[0;32m    230\u001b[0m         alert_text \u001b[38;5;241m=\u001b[39m value[\u001b[38;5;124m\"\u001b[39m\u001b[38;5;124malert\u001b[39m\u001b[38;5;124m\"\u001b[39m]\u001b[38;5;241m.\u001b[39mget(\u001b[38;5;124m\"\u001b[39m\u001b[38;5;124mtext\u001b[39m\u001b[38;5;124m\"\u001b[39m)\n\u001b[0;32m    231\u001b[0m     \u001b[38;5;28;01mraise\u001b[39;00m exception_class(message, screen, stacktrace, alert_text)  \u001b[38;5;66;03m# type: ignore[call-arg]  # mypy is not smart enough here\u001b[39;00m\n\u001b[1;32m--> 232\u001b[0m \u001b[38;5;28;01mraise\u001b[39;00m exception_class(message, screen, stacktrace)\n",
      "\u001b[1;31mElementNotInteractableException\u001b[0m: Message: element not interactable\n  (Session info: chrome=132.0.6834.84)\nStacktrace:\n\tGetHandleVerifier [0x00630A13+25091]\n\t(No symbol) [0x005BA584]\n\t(No symbol) [0x0049B229]\n\t(No symbol) [0x004E03B6]\n\t(No symbol) [0x004D5345]\n\t(No symbol) [0x00501EAC]\n\t(No symbol) [0x004D4DE4]\n\t(No symbol) [0x00502144]\n\t(No symbol) [0x0051B43E]\n\t(No symbol) [0x00501C46]\n\t(No symbol) [0x004D3175]\n\t(No symbol) [0x004D42FD]\n\tGetHandleVerifier [0x00926493+3128451]\n\tGetHandleVerifier [0x0093994B+3207483]\n\tGetHandleVerifier [0x009345F2+3186146]\n\tGetHandleVerifier [0x006C70C0+641200]\n\t(No symbol) [0x005C36BD]\n\t(No symbol) [0x005C0738]\n\t(No symbol) [0x005C08D6]\n\t(No symbol) [0x005B3040]\n\tBaseThreadInitThunk [0x76E5FCC9+25]\n\tRtlGetAppContainerNamedObjectPath [0x77E17C6E+286]\n\tRtlGetAppContainerNamedObjectPath [0x77E17C3E+238]\n"
     ]
    }
   ],
   "source": [
    "for job in jobs_data:\n",
    "    job.click()\n",
    "    break"
   ]
  },
  {
   "cell_type": "code",
   "execution_count": null,
   "id": "dd939922-ef35-4711-ae8b-babd710a314d",
   "metadata": {},
   "outputs": [],
   "source": []
  }
 ],
 "metadata": {
  "kernelspec": {
   "display_name": "Python 3 (ipykernel)",
   "language": "python",
   "name": "python3"
  },
  "language_info": {
   "codemirror_mode": {
    "name": "ipython",
    "version": 3
   },
   "file_extension": ".py",
   "mimetype": "text/x-python",
   "name": "python",
   "nbconvert_exporter": "python",
   "pygments_lexer": "ipython3",
   "version": "3.12.7"
  }
 },
 "nbformat": 4,
 "nbformat_minor": 5
}
