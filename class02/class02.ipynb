{
 "cells": [
  {
   "cell_type": "markdown",
   "id": "3bacc28f-4221-4b6b-b275-6bb97b4babf8",
   "metadata": {},
   "source": [
    "## Shortcut of Jupyter Notebook\n",
    "\n",
    "- ESC + 1,2,3 (To convert cell create heading)\n",
    "- ESC + M (convert selected cell into markdown)\n",
    "- ESC + A (crerate a cell above)\n",
    "- ESC + B (create a cell belwo)\n",
    "- ESC + DD (to delete any selected cell)\n",
    "- ESC + Y (convert any cell into code)\n",
    "- SHIFT + ENTER  (execuete the cell and goto new cell)\n",
    "- CRTL + ENTER ( exectue but stay in that cell)\n",
    "- CRTL + SHIFT + H ( to get all shortcut commands)"
   ]
  },
  {
   "cell_type": "markdown",
   "id": "1afebd49-05da-42b9-b0a6-0ef53cd27d46",
   "metadata": {},
   "source": [
    "## RECAP"
   ]
  },
  {
   "cell_type": "code",
   "execution_count": 1,
   "id": "da1f2d7f-158a-4288-96e4-c1fbd230b4e3",
   "metadata": {},
   "outputs": [
    {
     "name": "stdout",
     "output_type": "stream",
     "text": [
      "Hello, Saylani Students\n"
     ]
    }
   ],
   "source": [
    "print(\"Hello, Saylani Students\")"
   ]
  },
  {
   "cell_type": "code",
   "execution_count": 1,
   "id": "a03e5ecc-3da4-4d3f-a7c9-5183b47ec437",
   "metadata": {},
   "outputs": [],
   "source": [
    "# Data Types: INTEGER, STRING, FLOAT, BOOLEAN\n",
    "name = \"Qasim\" # String\n",
    "age = 20 # Integer\n",
    "weight = 20.5 #Float\n",
    "is_present = True #Boolean"
   ]
  },
  {
   "cell_type": "code",
   "execution_count": 5,
   "id": "0da1f46d-3456-42e7-a8b4-eda0c170c5e8",
   "metadata": {},
   "outputs": [
    {
     "name": "stdout",
     "output_type": "stream",
     "text": [
      "<class 'str'> <class 'int'> <class 'float'> <class 'bool'>\n"
     ]
    },
    {
     "data": {
      "text/plain": [
       "(str, int, float, bool)"
      ]
     },
     "execution_count": 5,
     "metadata": {},
     "output_type": "execute_result"
    }
   ],
   "source": [
    "# TAB is used to guess & auto complete\n",
    "# printing more then one vaiavle convert it into TUPLE(we'll cover it later)\n",
    "# Jupyter Notebook ayutomatically print last line into console\n",
    "type(name), type(age), type(weight), type(is_present)\n",
    "print(type(name), type(age), type(weight), type(is_present))\n",
    "type(name), type(age), type(weight), type(is_present)"
   ]
  },
  {
   "cell_type": "markdown",
   "id": "e922d222-edcd-499b-89c1-e843520a634c",
   "metadata": {},
   "source": [
    "- varibale can't have special characters excep underscore (_)\n",
    "- number cannot be in the start of variable name\n",
    "- already reserve word by pyhton can't be a variable name e.g: print = \"Qasim\"\n",
    "- name should be precise and meaningful"
   ]
  },
  {
   "cell_type": "markdown",
   "id": "80097ed5-4cb5-4d01-b94b-5ec0ae0c7063",
   "metadata": {},
   "source": [
    "## Math expressions: Eliminating ambiguity"
   ]
  },
  {
   "cell_type": "code",
   "execution_count": 6,
   "id": "ab232ecb-28cb-46a0-b66e-02d33c506549",
   "metadata": {},
   "outputs": [
    {
     "data": {
      "text/plain": [
       "5.5"
      ]
     },
     "execution_count": 6,
     "metadata": {},
     "output_type": "execute_result"
    }
   ],
   "source": [
    "(3+8)/(2-1)/2"
   ]
  },
  {
   "cell_type": "code",
   "execution_count": null,
   "id": "6b5c4e4f-5425-439c-844d-6c5da9292b3b",
   "metadata": {},
   "outputs": [],
   "source": [
    "((2 * 4) * 4) + 2"
   ]
  },
  {
   "cell_type": "code",
   "execution_count": null,
   "id": "5a7e4ded-a5b6-490f-9068-7e6a21c1521c",
   "metadata": {},
   "outputs": [],
   "source": [
    "(2 * 4) * (4 + 2)"
   ]
  },
  {
   "cell_type": "markdown",
   "id": "e1e5d938-b04a-4413-b87f-aead19853037",
   "metadata": {},
   "source": [
    "### Math expressions: familiar operators\n",
    "\n",
    "-  +, -, *, /\n",
    "\n",
    "### Math expressions: Unfamiliar operators\n",
    "\n",
    "-  power(**), floor(//), Remainder(%), incremenrtal operators ( +=, -=, *=)"
   ]
  },
  {
   "cell_type": "code",
   "execution_count": 8,
   "id": "66a195f6-84a3-48b1-a737-649fa74b6182",
   "metadata": {},
   "outputs": [
    {
     "data": {
      "text/plain": [
       "25"
      ]
     },
     "execution_count": 8,
     "metadata": {},
     "output_type": "execute_result"
    }
   ],
   "source": [
    "5**2"
   ]
  },
  {
   "cell_type": "code",
   "execution_count": 10,
   "id": "34a683f5-3c82-4cf5-90ff-e5b38614c6d5",
   "metadata": {},
   "outputs": [
    {
     "data": {
      "text/plain": [
       "3"
      ]
     },
     "execution_count": 10,
     "metadata": {},
     "output_type": "execute_result"
    }
   ],
   "source": [
    "7//2"
   ]
  },
  {
   "cell_type": "code",
   "execution_count": 11,
   "id": "e36b9fdf-c27b-45a3-a938-e4290cd19de9",
   "metadata": {},
   "outputs": [
    {
     "data": {
      "text/plain": [
       "1"
      ]
     },
     "execution_count": 11,
     "metadata": {},
     "output_type": "execute_result"
    }
   ],
   "source": [
    "7%2 # remiander"
   ]
  },
  {
   "cell_type": "code",
   "execution_count": 13,
   "id": "08dc5855-08ea-4264-80be-2dc3bee217b3",
   "metadata": {},
   "outputs": [],
   "source": [
    "age = age + 2"
   ]
  },
  {
   "cell_type": "code",
   "execution_count": 20,
   "id": "1f8c6833-f069-462a-bf0e-4344842d5b61",
   "metadata": {},
   "outputs": [],
   "source": [
    "age += 22"
   ]
  },
  {
   "cell_type": "code",
   "execution_count": 21,
   "id": "8e3b36cc-b061-4858-b46a-0ec8fe895864",
   "metadata": {},
   "outputs": [
    {
     "data": {
      "text/plain": [
       "24"
      ]
     },
     "execution_count": 21,
     "metadata": {},
     "output_type": "execute_result"
    }
   ],
   "source": [
    "age"
   ]
  },
  {
   "cell_type": "code",
   "execution_count": 17,
   "id": "2057f244-b37a-4e49-be3a-0a88755cd995",
   "metadata": {},
   "outputs": [
    {
     "data": {
      "text/plain": [
       "20.5"
      ]
     },
     "execution_count": 17,
     "metadata": {},
     "output_type": "execute_result"
    }
   ],
   "source": [
    "weight"
   ]
  },
  {
   "cell_type": "code",
   "execution_count": 22,
   "id": "88031b17-bf87-48e7-b5c6-bee92e6fd5fe",
   "metadata": {},
   "outputs": [],
   "source": [
    "num = 3"
   ]
  },
  {
   "cell_type": "code",
   "execution_count": 23,
   "id": "65bd1a45-e072-4f7a-8e37-3afe8354b947",
   "metadata": {},
   "outputs": [],
   "source": [
    "num *= 2"
   ]
  },
  {
   "cell_type": "code",
   "execution_count": 24,
   "id": "ad70bad4-5fb6-4a57-8378-8cf9eb8a140b",
   "metadata": {},
   "outputs": [
    {
     "data": {
      "text/plain": [
       "6"
      ]
     },
     "execution_count": 24,
     "metadata": {},
     "output_type": "execute_result"
    }
   ],
   "source": [
    "num"
   ]
  },
  {
   "cell_type": "code",
   "execution_count": 26,
   "id": "80caae92-0cc7-402e-b7a8-e75bd95c2d27",
   "metadata": {},
   "outputs": [
    {
     "data": {
      "text/plain": [
       "20"
      ]
     },
     "execution_count": 26,
     "metadata": {},
     "output_type": "execute_result"
    }
   ],
   "source": [
    "import math # we'll look inot it bit later in detail\n",
    "math.floor(weight)"
   ]
  },
  {
   "cell_type": "code",
   "execution_count": 27,
   "id": "6b4822a9-16cf-4791-a777-796b02d140b6",
   "metadata": {},
   "outputs": [
    {
     "data": {
      "text/plain": [
       "20.5"
      ]
     },
     "execution_count": 27,
     "metadata": {},
     "output_type": "execute_result"
    }
   ],
   "source": [
    "weight"
   ]
  },
  {
   "cell_type": "markdown",
   "id": "dc577f99-691b-4e2b-b205-5ea16b0a1874",
   "metadata": {},
   "source": [
    "## Concatenating text strings"
   ]
  },
  {
   "cell_type": "code",
   "execution_count": 29,
   "id": "82880cf7-6e3e-4652-b03f-a01630b8f719",
   "metadata": {},
   "outputs": [
    {
     "data": {
      "text/plain": [
       "'Hello, Saylani Students !!!'"
      ]
     },
     "execution_count": 29,
     "metadata": {},
     "output_type": "execute_result"
    }
   ],
   "source": [
    "\"Hello, Saylani Students\" + \" !!!\""
   ]
  },
  {
   "cell_type": "code",
   "execution_count": 32,
   "id": "1d44551b-a992-49bf-a2ce-7351422c85d3",
   "metadata": {},
   "outputs": [
    {
     "name": "stdout",
     "output_type": "stream",
     "text": [
      "Hello, Saylani Students  !!!\n"
     ]
    }
   ],
   "source": [
    "print(\"Hello, Saylani Students\", \" !!!\")"
   ]
  },
  {
   "cell_type": "code",
   "execution_count": 37,
   "id": "7f5c5e25-5f7c-42b1-ad00-ebc52a82af6b",
   "metadata": {},
   "outputs": [
    {
     "data": {
      "text/plain": [
       "'My name is Qasim, my age is 24, my weight is 20.5'"
      ]
     },
     "execution_count": 37,
     "metadata": {},
     "output_type": "execute_result"
    }
   ],
   "source": [
    "\"My name is \" + name + \", my age is \" +  str(age) + \", my weight is \"+ str(weight)"
   ]
  },
  {
   "cell_type": "code",
   "execution_count": 39,
   "id": "04c33916-cbed-4c95-a3ac-0c357541a0a8",
   "metadata": {},
   "outputs": [
    {
     "data": {
      "text/plain": [
       "'My name is Qasim, my age is 24, my weight is 20.5'"
      ]
     },
     "execution_count": 39,
     "metadata": {},
     "output_type": "execute_result"
    }
   ],
   "source": [
    "f\"My name is {name}, my age is {age}, my weight is {weight}\" # f string"
   ]
  },
  {
   "cell_type": "code",
   "execution_count": 40,
   "id": "80d0f051-c03e-43be-a70e-119e80ae6741",
   "metadata": {},
   "outputs": [
    {
     "data": {
      "text/plain": [
       "'My name is Qasim, my age is 24, my weight is 20.5'"
      ]
     },
     "execution_count": 40,
     "metadata": {},
     "output_type": "execute_result"
    }
   ],
   "source": [
    "\"My name is {}, my age is {}, my weight is {}\".format(name, age, weight)"
   ]
  },
  {
   "cell_type": "code",
   "execution_count": 43,
   "id": "4a50391c-eb86-4f1d-9830-a2f8e07acb8e",
   "metadata": {},
   "outputs": [
    {
     "ename": "TypeError",
     "evalue": "can only concatenate str (not \"int\") to str",
     "output_type": "error",
     "traceback": [
      "\u001b[1;31m---------------------------------------------------------------------------\u001b[0m",
      "\u001b[1;31mTypeError\u001b[0m                                 Traceback (most recent call last)",
      "Cell \u001b[1;32mIn[43], line 3\u001b[0m\n\u001b[0;32m      1\u001b[0m \u001b[38;5;66;03m# from book\u001b[39;00m\n\u001b[1;32m----> 3\u001b[0m \u001b[38;5;28mprint\u001b[39m(\u001b[38;5;124;43m\"\u001b[39;49m\u001b[38;5;124;43mThe sum of 2 plus 2 is \u001b[39;49m\u001b[38;5;124;43m\"\u001b[39;49m\u001b[43m \u001b[49m\u001b[38;5;241;43m+\u001b[39;49m\u001b[43m \u001b[49m\u001b[38;5;241;43m4\u001b[39;49m)\n",
      "\u001b[1;31mTypeError\u001b[0m: can only concatenate str (not \"int\") to str"
     ]
    }
   ],
   "source": [
    "# from book\n",
    "\n",
    "print(\"The sum of 2 plus 2 is \" + 4)"
   ]
  },
  {
   "cell_type": "code",
   "execution_count": 44,
   "id": "8fcee5cf-61c3-4740-81d2-8c4bea5a531a",
   "metadata": {},
   "outputs": [
    {
     "name": "stdout",
     "output_type": "stream",
     "text": [
      "The sum of 2 plus 2 is 4\n"
     ]
    }
   ],
   "source": [
    "print(\"The sum of 2 plus 2 is \" + \"4\")"
   ]
  },
  {
   "cell_type": "markdown",
   "id": "1536c920-4378-48e1-8782-7fb858090fe5",
   "metadata": {},
   "source": [
    "### Conditional Statements: if elif else"
   ]
  },
  {
   "cell_type": "raw",
   "id": "6610ce77-372f-4c9c-a37f-fa72b69b0ae0",
   "metadata": {},
   "source": [
    "syntax:\n",
    "-------\n",
    "\n",
    "if <condition-TRUE>:\n",
    "    <if-body>\n",
    "else:\n",
    "    <second-body>\n",
    "\n",
    "- body of if-else alweays have 4 spaces/indented\n",
    "- after colon the body will start"
   ]
  }
 ],
 "metadata": {
  "kernelspec": {
   "display_name": "Python 3 (ipykernel)",
   "language": "python",
   "name": "python3"
  },
  "language_info": {
   "codemirror_mode": {
    "name": "ipython",
    "version": 3
   },
   "file_extension": ".py",
   "mimetype": "text/x-python",
   "name": "python",
   "nbconvert_exporter": "python",
   "pygments_lexer": "ipython3",
   "version": "3.12.1"
  }
 },
 "nbformat": 4,
 "nbformat_minor": 5
}
