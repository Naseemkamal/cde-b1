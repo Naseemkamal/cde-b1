{
 "cells": [
  {
   "cell_type": "markdown",
   "id": "6fd3e2fc-1d23-406c-be68-7a74f1eca453",
   "metadata": {},
   "source": [
    "JSON handling "
   ]
  },
  {
   "cell_type": "markdown",
   "id": "0be1199e-56f5-43bd-b19b-55ce8c2fa3f9",
   "metadata": {},
   "source": [
    "JavaScript Object Notation "
   ]
  },
  {
   "cell_type": "code",
   "execution_count": 1,
   "id": "65b4a6e7-79e7-43f5-94ca-bde7a10586d9",
   "metadata": {},
   "outputs": [
    {
     "data": {
      "text/plain": [
       "{'name': 'Ayan', 'phone_no': 1111111111}"
      ]
     },
     "execution_count": 1,
     "metadata": {},
     "output_type": "execute_result"
    }
   ],
   "source": [
    "# Syntax \n",
    "# key value based \n",
    "{'name': 'Ayan','phone_no':1111111111}"
   ]
  },
  {
   "cell_type": "code",
   "execution_count": 5,
   "id": "20d3187f-dbed-4c8f-a961-dbc9d9ed3ef6",
   "metadata": {},
   "outputs": [],
   "source": [
    "names = '[\"Qasim\",\"Uzair\",\"Ayan\"]'\n",
    "with open(\"names.txt\",\"w\") as file:\n",
    "        file.write(names)"
   ]
  },
  {
   "cell_type": "code",
   "execution_count": null,
   "id": "78b7c0ae-a7f0-4146-b05c-6e6d70959a5c",
   "metadata": {},
   "outputs": [],
   "source": [
    "# json.dump - string to json\n",
    "# json.loads - "
   ]
  },
  {
   "cell_type": "code",
   "execution_count": 8,
   "id": "07c2397f-a1a9-4826-afa1-d66038b201d5",
   "metadata": {},
   "outputs": [],
   "source": [
    "import json\n",
    "names = [\"Qasim\",\"Uzair\",\"Ayan\"]\n",
    "with open(\"names1.txt\",\"w\") as file:\n",
    "        json.dump(names,file)"
   ]
  },
  {
   "cell_type": "code",
   "execution_count": 11,
   "id": "1c76dbeb-ca69-4e60-9f24-7742ce82d8bf",
   "metadata": {},
   "outputs": [],
   "source": [
    "names = [\"Qasim\",\"Uzair\",\"Ayan\"]\n",
    "# fp ->  file path\n",
    "# json.dump(obj, fp, *)\n",
    "# json.dump(obj, fp, *, skipkeys=False, ensure_ascii=True, check_circular=True, allow_nan=True, cls=None, indent=None, separators=None, default=None, sort_keys=False, **kw)\n",
    "\n",
    "with open(\"names.json\",\"w\") as file:\n",
    "        json.dump(names,file)"
   ]
  },
  {
   "cell_type": "code",
   "execution_count": null,
   "id": "f08a4b97-6e9e-4cb2-a0a1-b465d8055573",
   "metadata": {},
   "outputs": [],
   "source": [
    "info = {'name': 'Ayan','phone_no':1111111111}"
   ]
  },
  {
   "cell_type": "code",
   "execution_count": 9,
   "id": "bb05b8f5-d01e-4c34-b073-e73550ef3850",
   "metadata": {},
   "outputs": [
    {
     "name": "stdout",
     "output_type": "stream",
     "text": [
      "['Qasim', 'Uzair', 'Ayan']\n"
     ]
    }
   ],
   "source": [
    "import json\n",
    "\n",
    "# json.load(fp, *, cls=None, object_hook=None, parse_float=None, parse_int=None, parse_constant=None, object_pairs_hook=None, **kw)\n",
    "\n",
    "with open(\"names.json\") as file:\n",
    "        data = json.load(file)\n",
    "        print(data)"
   ]
  },
  {
   "cell_type": "markdown",
   "id": "fe0685cf-e930-4363-ac93-fa9a6c027c57",
   "metadata": {},
   "source": [
    "1. Write a Python function to parse a JSON string into a Python dictionary.\n",
    "2. \n",
    "To parse a JSON string into a Python dictionary, use the json.loads() method from the json module. This method converts a JSON string into a Python dictionary.\n",
    "\n",
    "\n",
    "json_string = '{\"name\": \"John\", \"age\": 30, \"city\": \"New York\"}'\n",
    "\n"
   ]
  },
  {
   "cell_type": "code",
   "execution_count": 18,
   "id": "40c7fb7a-5716-475b-bb28-a7120cd23bc4",
   "metadata": {},
   "outputs": [
    {
     "name": "stdout",
     "output_type": "stream",
     "text": [
      "{'name': 'John', 'age': 30, 'city': 'New York'}\n"
     ]
    }
   ],
   "source": [
    "import json\n",
    "def json_to_dict(j):\n",
    "    return json.loads(j)\n",
    "\n",
    "json_string = '{\"name\": \"John\", \"age\": 30, \"city\": \"New York\"}'\n",
    "value = json_to_dict(json_string)\n",
    "print(value)"
   ]
  },
  {
   "cell_type": "code",
   "execution_count": null,
   "id": "cf38dcdb-7880-4afb-8e96-fa91250d9954",
   "metadata": {},
   "outputs": [],
   "source": []
  },
  {
   "cell_type": "markdown",
   "id": "d28a704f-a255-40f0-8fae-fd1fa8f2e1e8",
   "metadata": {},
   "source": [
    "Error handling"
   ]
  },
  {
   "cell_type": "code",
   "execution_count": 19,
   "id": "612d7190-8d7c-4183-8fa2-c997715fb56e",
   "metadata": {},
   "outputs": [
    {
     "ename": "FileNotFoundError",
     "evalue": "[Errno 2] No such file or directory: 'names2.json'",
     "output_type": "error",
     "traceback": [
      "\u001b[1;31m---------------------------------------------------------------------------\u001b[0m",
      "\u001b[1;31mFileNotFoundError\u001b[0m                         Traceback (most recent call last)",
      "Cell \u001b[1;32mIn[19], line 1\u001b[0m\n\u001b[1;32m----> 1\u001b[0m \u001b[38;5;28;01mwith\u001b[39;00m \u001b[38;5;28;43mopen\u001b[39;49m\u001b[43m(\u001b[49m\u001b[38;5;124;43m\"\u001b[39;49m\u001b[38;5;124;43mnames2.json\u001b[39;49m\u001b[38;5;124;43m\"\u001b[39;49m\u001b[43m)\u001b[49m \u001b[38;5;28;01mas\u001b[39;00m file:\n\u001b[0;32m      2\u001b[0m         data \u001b[38;5;241m=\u001b[39m json\u001b[38;5;241m.\u001b[39mload(file)\n\u001b[0;32m      3\u001b[0m         \u001b[38;5;28mprint\u001b[39m(data)\n",
      "File \u001b[1;32m~\\AppData\\Roaming\\Python\\Python312\\site-packages\\IPython\\core\\interactiveshell.py:324\u001b[0m, in \u001b[0;36m_modified_open\u001b[1;34m(file, *args, **kwargs)\u001b[0m\n\u001b[0;32m    317\u001b[0m \u001b[38;5;28;01mif\u001b[39;00m file \u001b[38;5;129;01min\u001b[39;00m {\u001b[38;5;241m0\u001b[39m, \u001b[38;5;241m1\u001b[39m, \u001b[38;5;241m2\u001b[39m}:\n\u001b[0;32m    318\u001b[0m     \u001b[38;5;28;01mraise\u001b[39;00m \u001b[38;5;167;01mValueError\u001b[39;00m(\n\u001b[0;32m    319\u001b[0m         \u001b[38;5;124mf\u001b[39m\u001b[38;5;124m\"\u001b[39m\u001b[38;5;124mIPython won\u001b[39m\u001b[38;5;124m'\u001b[39m\u001b[38;5;124mt let you open fd=\u001b[39m\u001b[38;5;132;01m{\u001b[39;00mfile\u001b[38;5;132;01m}\u001b[39;00m\u001b[38;5;124m by default \u001b[39m\u001b[38;5;124m\"\u001b[39m\n\u001b[0;32m    320\u001b[0m         \u001b[38;5;124m\"\u001b[39m\u001b[38;5;124mas it is likely to crash IPython. If you know what you are doing, \u001b[39m\u001b[38;5;124m\"\u001b[39m\n\u001b[0;32m    321\u001b[0m         \u001b[38;5;124m\"\u001b[39m\u001b[38;5;124myou can use builtins\u001b[39m\u001b[38;5;124m'\u001b[39m\u001b[38;5;124m open.\u001b[39m\u001b[38;5;124m\"\u001b[39m\n\u001b[0;32m    322\u001b[0m     )\n\u001b[1;32m--> 324\u001b[0m \u001b[38;5;28;01mreturn\u001b[39;00m \u001b[43mio_open\u001b[49m\u001b[43m(\u001b[49m\u001b[43mfile\u001b[49m\u001b[43m,\u001b[49m\u001b[43m \u001b[49m\u001b[38;5;241;43m*\u001b[39;49m\u001b[43margs\u001b[49m\u001b[43m,\u001b[49m\u001b[43m \u001b[49m\u001b[38;5;241;43m*\u001b[39;49m\u001b[38;5;241;43m*\u001b[39;49m\u001b[43mkwargs\u001b[49m\u001b[43m)\u001b[49m\n",
      "\u001b[1;31mFileNotFoundError\u001b[0m: [Errno 2] No such file or directory: 'names2.json'"
     ]
    }
   ],
   "source": [
    "# fake file path\n",
    "with open(\"names2.json\") as file:\n",
    "        data = json.load(file)\n",
    "        print(data)"
   ]
  },
  {
   "cell_type": "code",
   "execution_count": null,
   "id": "10d42d84-707a-431d-9f99-e074d29a549c",
   "metadata": {},
   "outputs": [],
   "source": [
    "# Syntax\n",
    "\n",
    "try:\n",
    "    # error might be expected \n",
    "except:\n",
    "    # after error orrcured \n",
    "else:\n",
    "    # run after try block\n",
    "finally:\n",
    "    # always executed "
   ]
  },
  {
   "cell_type": "code",
   "execution_count": 20,
   "id": "9d777b46-ce7c-4fc5-97e3-4f71b8657343",
   "metadata": {},
   "outputs": [
    {
     "name": "stdout",
     "output_type": "stream",
     "text": [
      "Error\n"
     ]
    }
   ],
   "source": [
    "try:\n",
    "    with open(\"names2.json\") as file:\n",
    "        data = json.load(file)\n",
    "        print(data)\n",
    "except:\n",
    "    print(\"Error\")\n",
    "    pass"
   ]
  },
  {
   "cell_type": "code",
   "execution_count": 21,
   "id": "90bde144-6d4d-43df-9ae0-e13063f8d91f",
   "metadata": {},
   "outputs": [
    {
     "name": "stdout",
     "output_type": "stream",
     "text": [
      "1\n",
      "Error\n"
     ]
    }
   ],
   "source": [
    "try:\n",
    "    print(1)\n",
    "    with open(\"names2.json\") as file:\n",
    "        print(2)\n",
    "        data = json.load(file)\n",
    "        print(data)\n",
    "except:\n",
    "    print(\"Error\")\n",
    "    pass"
   ]
  },
  {
   "cell_type": "code",
   "execution_count": 22,
   "id": "43f09964-44d6-44c0-8c99-6e36269bf90b",
   "metadata": {},
   "outputs": [
    {
     "name": "stdout",
     "output_type": "stream",
     "text": [
      "1\n",
      "2\n",
      "['Qasim', 'Uzair', 'Ayan']\n"
     ]
    }
   ],
   "source": [
    "try:\n",
    "    print(1)\n",
    "    with open(\"names.json\") as file:\n",
    "        print(2)\n",
    "        data = json.load(file)\n",
    "        print(data)\n",
    "except:\n",
    "    print(\"Error\")\n",
    "    pass"
   ]
  },
  {
   "cell_type": "code",
   "execution_count": 24,
   "id": "2b492be1-1b53-47d3-b417-2e6ed5f04988",
   "metadata": {},
   "outputs": [
    {
     "name": "stdin",
     "output_type": "stream",
     "text": [
      "Enter a number:  5\n"
     ]
    },
    {
     "name": "stdout",
     "output_type": "stream",
     "text": [
      "error\n"
     ]
    }
   ],
   "source": [
    "try:\n",
    "    value = int(input((\"Enter a number: \")))\n",
    "    result = \"your number is \" + value\n",
    "    print(result)\n",
    "except:\n",
    "    print(\"error\")"
   ]
  },
  {
   "cell_type": "code",
   "execution_count": 25,
   "id": "5f78611c-0677-48f3-a0d9-3effd9ccd437",
   "metadata": {},
   "outputs": [],
   "source": [
    "# Exception "
   ]
  },
  {
   "cell_type": "code",
   "execution_count": 27,
   "id": "d7392a1e-1855-40ee-96a5-e19477af2182",
   "metadata": {},
   "outputs": [
    {
     "name": "stdin",
     "output_type": "stream",
     "text": [
      "Enter a number:  11\n"
     ]
    },
    {
     "name": "stdout",
     "output_type": "stream",
     "text": [
      "can only concatenate str (not \"int\") to str\n"
     ]
    }
   ],
   "source": [
    "try:\n",
    "    value = int(input((\"Enter a number: \")))\n",
    "    result = \"your number is \" + value\n",
    "    print(result)\n",
    "except Exception as e:\n",
    "    print(e)\n"
   ]
  },
  {
   "cell_type": "code",
   "execution_count": 29,
   "id": "18041356-e72b-468a-8435-94bbb23c5e4e",
   "metadata": {},
   "outputs": [
    {
     "name": "stdin",
     "output_type": "stream",
     "text": [
      "Enter a number:  abc\n"
     ]
    },
    {
     "name": "stdout",
     "output_type": "stream",
     "text": [
      "your number is abc\n"
     ]
    }
   ],
   "source": [
    "try:\n",
    "    value = input((\"Enter a number: \"))\n",
    "    result = \"your number is \" + value\n",
    "    print(result)\n",
    "except Exception as e:\n",
    "    print(e)\n"
   ]
  },
  {
   "cell_type": "code",
   "execution_count": 30,
   "id": "83188a7f-92f7-443d-98e7-18f4b50788f9",
   "metadata": {},
   "outputs": [
    {
     "name": "stdout",
     "output_type": "stream",
     "text": [
      "[Errno 2] No such file or directory: 'names2.json'\n"
     ]
    }
   ],
   "source": [
    "try:\n",
    "    with open(\"names2.json\") as file:\n",
    "        data = json.load(file)\n",
    "        print(data)\n",
    "except Exception as e:\n",
    "    print(e)"
   ]
  },
  {
   "cell_type": "code",
   "execution_count": 33,
   "id": "a5e4aaed-cd70-420f-8567-347b117671fc",
   "metadata": {},
   "outputs": [
    {
     "name": "stdin",
     "output_type": "stream",
     "text": [
      "Enter a number:  4\n"
     ]
    },
    {
     "name": "stdout",
     "output_type": "stream",
     "text": [
      "can only concatenate str (not \"int\") to str\n"
     ]
    },
    {
     "name": "stdin",
     "output_type": "stream",
     "text": [
      "Enter a number:  4\n"
     ]
    },
    {
     "name": "stdout",
     "output_type": "stream",
     "text": [
      "your number is 4\n"
     ]
    }
   ],
   "source": [
    "try:\n",
    "    value = int(input((\"Enter a number: \")))\n",
    "    result = \"your number is \" + value\n",
    "    print(result)\n",
    "except Exception as e:\n",
    "    print(e)\n",
    "    value = input(\"Enter a number: \")\n",
    "    result = \"your number is \" + value\n",
    "    print(result)\n",
    "\n"
   ]
  },
  {
   "cell_type": "markdown",
   "id": "46fa7d2b-aea1-437e-97c8-26523add4ad8",
   "metadata": {},
   "source": [
    "# SyntaxError"
   ]
  },
  {
   "cell_type": "code",
   "execution_count": 79,
   "id": "5ad7c87c-1a9d-42ad-8142-777ec9b08923",
   "metadata": {},
   "outputs": [
    {
     "ename": "IndentationError",
     "evalue": "expected an indented block after function definition on line 2 (1064848826.py, line 3)",
     "output_type": "error",
     "traceback": [
      "\u001b[1;36m  Cell \u001b[1;32mIn[79], line 3\u001b[1;36m\u001b[0m\n\u001b[1;33m    return \"DataCamp\"\u001b[0m\n\u001b[1;37m    ^\u001b[0m\n\u001b[1;31mIndentationError\u001b[0m\u001b[1;31m:\u001b[0m expected an indented block after function definition on line 2\n"
     ]
    }
   ],
   "source": [
    "try:\n",
    "    def fun():\n",
    "    return \"DataCamp\"  \n",
    "except SyntaxError as e:\n",
    "    print(\"error\")\n",
    "    print(e)\n",
    "except Exception as e:\n",
    "    print(e)"
   ]
  },
  {
   "cell_type": "code",
   "execution_count": 65,
   "id": "8d3790ce-5ad0-485e-a071-5d8067a1b6fb",
   "metadata": {},
   "outputs": [
    {
     "name": "stdout",
     "output_type": "stream",
     "text": [
      "error\n",
      "name 'name1' is not defined\n"
     ]
    }
   ],
   "source": [
    "names = [\"Qasim\",\"Uzair\",\"Ayan\"]\n",
    "try:\n",
    "    print(name1)\n",
    "except NameError as e:\n",
    "    print(\"error\")\n",
    "    print(e)\n",
    "except Exception as e:\n",
    "    print(e)"
   ]
  },
  {
   "cell_type": "code",
   "execution_count": 67,
   "id": "4321203f-5f70-4268-b7c6-58c04c46f24e",
   "metadata": {},
   "outputs": [
    {
     "name": "stdout",
     "output_type": "stream",
     "text": [
      "['Qasim', 'Uzair', 'Ayan']\n",
      "Executed\n"
     ]
    }
   ],
   "source": [
    "names = [\"Qasim\",\"Uzair\",\"Ayan\"]\n",
    "try:\n",
    "    print(names)\n",
    "except NameError as e:\n",
    "    print(\"error\")\n",
    "    print(e)\n",
    "except Exception as e:\n",
    "    print(e)\n",
    "finally:\n",
    "    print(\"Executed\")"
   ]
  },
  {
   "cell_type": "code",
   "execution_count": null,
   "id": "009e05cc-b8ac-47f4-aa5a-83044e5c0428",
   "metadata": {},
   "outputs": [],
   "source": [
    "# ZeroDivision Error\n",
    "\n",
    "# Take an int input number and divide 100 from that number\n"
   ]
  },
  {
   "cell_type": "code",
   "execution_count": 69,
   "id": "34de2f4a-6571-444b-b6d7-4785fad0877a",
   "metadata": {},
   "outputs": [
    {
     "name": "stdout",
     "output_type": "stream",
     "text": [
      "[Errno 2] No such file or directory: 'names2.json'\n"
     ]
    }
   ],
   "source": [
    "# FileNotFoundError:\n",
    "\n",
    "try:\n",
    "    with open(\"names2.json\") as file:\n",
    "        data = json.load(file)\n",
    "        print(data)\n",
    "except FileNotFoundError as e:\n",
    "    print(e)"
   ]
  },
  {
   "cell_type": "markdown",
   "id": "6677fccb-7d2a-4de9-8a23-b84ad475a01f",
   "metadata": {},
   "source": [
    "# Question:\n",
    "\n",
    "Write a Python program that opens a file and handles a PermissionError exception if there is a permission issue.\n",
    "\n",
    "#    except PermissionError:\n",
    "\n"
   ]
  },
  {
   "cell_type": "code",
   "execution_count": 1,
   "id": "7543ba06-9d07-4abe-bbe6-e713b85f2783",
   "metadata": {},
   "outputs": [
    {
     "name": "stdin",
     "output_type": "stream",
     "text": [
      "Input a file name:  C:\\Windows\\System32\\test.txt\n"
     ]
    },
    {
     "name": "stdout",
     "output_type": "stream",
     "text": [
      "permission Error\n",
      "Error: Permission denied to open the file.\n"
     ]
    }
   ],
   "source": [
    "# Define a function named open_file that takes a filename as a parameter.\n",
    "def open_file(filename):\n",
    "    try:\n",
    "        # Attempt to open the specified file in write mode ('w') using a 'with' statement.\n",
    "        with open(filename, 'w') as file:\n",
    "            # Try to read the contents of the file, but this code will not be executed because the file is opened in write mode.\n",
    "            contents = file.read()\n",
    "            # Print a message to indicate that the file contents will be displayed (this will not happen).\n",
    "            print(\"File contents:\")\n",
    "            # Print the contents of the file (this will not happen).\n",
    "            print(contents)\n",
    "    except PermissionError:\n",
    "        print(\"permission Error\")\n",
    "        # Handle the exception if there is a permission denied error while opening the file.\n",
    "        print(\"Error: Permission denied to open the file.\")\n",
    "\n",
    "# Usage\n",
    "# Prompt the user to input a file name and store it in the 'file_name' variable.\n",
    "file_name = input(\"Input a file name: \")\n",
    "# Call the open_file function with the provided file name, attempting to open the file in write mode.\n",
    "open_file(file_name)\n"
   ]
  },
  {
   "cell_type": "code",
   "execution_count": 5,
   "id": "0df914ce-3f89-4276-af79-2e810922d9d9",
   "metadata": {},
   "outputs": [],
   "source": [
    "from io import UnsupportedOperation"
   ]
  },
  {
   "cell_type": "code",
   "execution_count": 6,
   "id": "12de24aa-478e-4774-af29-bff8c73baf6b",
   "metadata": {},
   "outputs": [
    {
     "name": "stdin",
     "output_type": "stream",
     "text": [
      "Input a file name:  emp.csv\n"
     ]
    },
    {
     "name": "stdout",
     "output_type": "stream",
     "text": [
      "UnsupportedOperation\n",
      "not readable\n"
     ]
    }
   ],
   "source": [
    "# Define a function named open_file that takes a filename as a parameter.\n",
    "def open_file(filename):\n",
    "    try:\n",
    "        # Attempt to open the specified file in write mode ('w') using a 'with' statement.\n",
    "        with open(filename, 'w') as file:\n",
    "            # Try to read the contents of the file, but this code will not be executed because the file is opened in write mode.\n",
    "            contents = file.read()\n",
    "            # Print a message to indicate that the file contents will be displayed (this will not happen).\n",
    "            print(\"File contents:\")\n",
    "            # Print the contents of the file (this will not happen).\n",
    "            print(contents)\n",
    "    except UnsupportedOperation as e:\n",
    "        print(\"UnsupportedOperation\")\n",
    "        print(e)\n",
    "    except PermissionError:\n",
    "        print(\"permission Error\")\n",
    "        # Handle the exception if there is a permission denied error while opening the file.\n",
    "        print(\"Error: Permission denied to open the file.\")\n",
    "\n",
    "# Usage\n",
    "# Prompt the user to input a file name and store it in the 'file_name' variable.\n",
    "file_name = input(\"Input a file name: \")\n",
    "# Call the open_file function with the provided file name, attempting to open the file in write mode.\n",
    "open_file(file_name)\n"
   ]
  },
  {
   "cell_type": "code",
   "execution_count": 80,
   "id": "16b78cfc-9f8a-4ba9-a08f-244c1b21de16",
   "metadata": {},
   "outputs": [
    {
     "name": "stdout",
     "output_type": "stream",
     "text": [
      "not readable\n"
     ]
    }
   ],
   "source": [
    "\n",
    "try:\n",
    "    try:\n",
    "        # Attempt to open the specified file in write mode ('w') using a 'with' statement.\n",
    "        with open('employees.csv', 'w') as file:\n",
    "            # Try to read the contents of the file, but this code will not be executed because the file is opened in write mode.\n",
    "            contents = file.read()\n",
    "            # Print a message to indicate that the file contents will be displayed (this will not happen).\n",
    "            print(\"File contents:\")\n",
    "            # Print the contents of the file (this will not happen).\n",
    "            print(contents)\n",
    "    except Exception as e:\n",
    "        print(e)\n",
    "    except PermissionError:\n",
    "        print(\"permission Error\")\n",
    "        # Handle the exception if there is a permission denied error while opening the file.\n",
    "        print(\"Error: Permission denied to open the file.\")\n",
    "except:\n",
    "    print(\"error\")"
   ]
  },
  {
   "cell_type": "code",
   "execution_count": null,
   "id": "cf3eff32-9842-4533-b9c5-aaa27411ac07",
   "metadata": {},
   "outputs": [],
   "source": [
    "try:\n",
    "\n",
    "    with open(\"studentd.txt\", \"r\") as file:\n",
    "        content = file.read()\n",
    "        print(\"File content:\")\n",
    "        print(content)\n",
    "\n",
    "except PermissionError:\n",
    "    print(\"PermifwefssionError: You do not have permission to access this file.\")\n",
    "\n",
    "except FileNotFoundError:\n",
    "    print(\"FileNotFoundError: The file does not exist. Please check the file name.\")\n",
    "except Exception as e:\n",
    "    print(f\"An unexpected error occurred: {e}\")"
   ]
  }
 ],
 "metadata": {
  "kernelspec": {
   "display_name": "Python 3 (ipykernel)",
   "language": "python",
   "name": "python3"
  },
  "language_info": {
   "codemirror_mode": {
    "name": "ipython",
    "version": 3
   },
   "file_extension": ".py",
   "mimetype": "text/x-python",
   "name": "python",
   "nbconvert_exporter": "python",
   "pygments_lexer": "ipython3",
   "version": "3.12.7"
  }
 },
 "nbformat": 4,
 "nbformat_minor": 5
}
