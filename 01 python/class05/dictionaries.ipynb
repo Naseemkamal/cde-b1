{
 "cells": [
  {
   "cell_type": "markdown",
   "id": "8b8d4a20-04b2-4a23-a239-0f8a1ae57fbe",
   "metadata": {},
   "source": [
    "### Dictionaries: What they are & how to code\n",
    "- list (collection of values, mutable)\n",
    "- Tuples (collection of values, immutable)\n",
    "- Ditionary ( multiple collection of values)\n",
    "    - key:values"
   ]
  },
  {
   "cell_type": "code",
   "execution_count": 1,
   "id": "ee5efbd7-8f3c-448a-a26f-c35b0637f951",
   "metadata": {},
   "outputs": [],
   "source": [
    "customer_786 = {\"f_name\": \"Qasim\",\n",
    "            \"l_name\": \"Hassan\",\n",
    "            \"adress\": \"Street786\",\n",
    "            \"order_price\": 120}"
   ]
  },
  {
   "cell_type": "code",
   "execution_count": 2,
   "id": "c778ca6c-a3fe-47b8-bdc6-653ef95cd9de",
   "metadata": {},
   "outputs": [
    {
     "data": {
      "text/plain": [
       "{'f_name': 'Qasim',\n",
       " 'l_name': 'Hassan',\n",
       " 'adress': 'Street786',\n",
       " 'order_price': 120}"
      ]
     },
     "execution_count": 2,
     "metadata": {},
     "output_type": "execute_result"
    }
   ],
   "source": [
    "customer_786"
   ]
  },
  {
   "cell_type": "code",
   "execution_count": 3,
   "id": "5dbc6e60-eacb-47f8-a532-774a2976bce2",
   "metadata": {},
   "outputs": [],
   "source": [
    "customer_786[\"oder_item\"] = \"Shoes\""
   ]
  },
  {
   "cell_type": "code",
   "execution_count": 4,
   "id": "f338557b-ed20-40c8-9915-08b1d8b4a3fd",
   "metadata": {},
   "outputs": [
    {
     "data": {
      "text/plain": [
       "{'f_name': 'Qasim',\n",
       " 'l_name': 'Hassan',\n",
       " 'adress': 'Street786',\n",
       " 'order_price': 120,\n",
       " 'oder_item': 'Shoes'}"
      ]
     },
     "execution_count": 4,
     "metadata": {},
     "output_type": "execute_result"
    }
   ],
   "source": [
    "customer_786"
   ]
  },
  {
   "cell_type": "code",
   "execution_count": 5,
   "id": "1de41eef-bca5-4f0f-a2be-1cd9ec2066b7",
   "metadata": {},
   "outputs": [],
   "source": [
    "del customer_786[\"oder_item\"]"
   ]
  },
  {
   "cell_type": "code",
   "execution_count": 6,
   "id": "a9e800e5-53be-496a-ac74-b0a1a87bc850",
   "metadata": {},
   "outputs": [
    {
     "data": {
      "text/plain": [
       "{'f_name': 'Qasim',\n",
       " 'l_name': 'Hassan',\n",
       " 'adress': 'Street786',\n",
       " 'order_price': 120}"
      ]
     },
     "execution_count": 6,
     "metadata": {},
     "output_type": "execute_result"
    }
   ],
   "source": [
    "customer_786"
   ]
  },
  {
   "cell_type": "code",
   "execution_count": 7,
   "id": "1345c984-8c09-4147-8884-8ddd65016e41",
   "metadata": {},
   "outputs": [],
   "source": [
    "customer_786[\"order_item\"] = \"Shoes\""
   ]
  },
  {
   "cell_type": "code",
   "execution_count": 8,
   "id": "f3361d59-1703-4a37-adff-e90b963b79ec",
   "metadata": {},
   "outputs": [],
   "source": [
    "customer_876 = {\"first name\": \"David\",\n",
    "                \"lastname\": \"Elliott\",\n",
    "                \"address\": \"4803 Wellesley St.\"}"
   ]
  },
  {
   "cell_type": "code",
   "execution_count": 12,
   "id": "917c6adf-1673-4660-b852-bb13f9fb9933",
   "metadata": {},
   "outputs": [],
   "source": [
    "# dictioanry of dictionary\n",
    "customer = {\"customer786\":{\"f_name\": \"Qasim\",\n",
    "                           \"l_name\": \"Hassan\",\n",
    "                           \"adress\": \"Street786\",\n",
    "                           \"order_price\": 120}, \n",
    "            \"customer876\": {\"first name\": \"David\",\n",
    "                            \"lastname\": \"Elliott\",\n",
    "                            \"address\": \"4803 Wellesley St.\"}}"
   ]
  },
  {
   "cell_type": "code",
   "execution_count": 10,
   "id": "f4a55299-f738-47b1-a74b-cda679428c45",
   "metadata": {},
   "outputs": [
    {
     "data": {
      "text/plain": [
       "{'customer786': {'f_name': 'Qasim',\n",
       "  'l_name': 'Hassan',\n",
       "  'adress': 'Street786',\n",
       "  'order_price': 120},\n",
       " 'customer876': {'first name': 'David',\n",
       "  'lastname': 'Elliott',\n",
       "  'address': '4803 Wellesley St.'}}"
      ]
     },
     "execution_count": 10,
     "metadata": {},
     "output_type": "execute_result"
    }
   ],
   "source": [
    "customer"
   ]
  },
  {
   "cell_type": "markdown",
   "id": "c0d03483-e96e-4f64-a5bc-c49f6992e323",
   "metadata": {},
   "source": [
    "### Dictionaries: How to pick information out of them"
   ]
  },
  {
   "cell_type": "code",
   "execution_count": 11,
   "id": "c0706b6a-4c4e-4273-abe4-0fe20304aed2",
   "metadata": {},
   "outputs": [
    {
     "data": {
      "text/plain": [
       "{'f_name': 'Qasim',\n",
       " 'l_name': 'Hassan',\n",
       " 'adress': 'Street786',\n",
       " 'order_price': 120}"
      ]
     },
     "execution_count": 11,
     "metadata": {},
     "output_type": "execute_result"
    }
   ],
   "source": [
    "customer[\"customer786\"]"
   ]
  },
  {
   "cell_type": "code",
   "execution_count": 17,
   "id": "6e96b717-e6c8-44af-99f6-0e714b0c1dbe",
   "metadata": {},
   "outputs": [
    {
     "data": {
      "text/plain": [
       "'4803 Wellesley St.'"
      ]
     },
     "execution_count": 17,
     "metadata": {},
     "output_type": "execute_result"
    }
   ],
   "source": [
    "customer[\"customer876\"][\"address\"]"
   ]
  },
  {
   "cell_type": "code",
   "execution_count": 13,
   "id": "59e1eeed-8fba-4955-92d6-48f3c6346661",
   "metadata": {},
   "outputs": [],
   "source": [
    "customer[\"customer876\"]['order_price'] = 120"
   ]
  },
  {
   "cell_type": "code",
   "execution_count": 14,
   "id": "923d03c9-e3c1-45b5-aea7-f79cd4bcc0d2",
   "metadata": {},
   "outputs": [
    {
     "data": {
      "text/plain": [
       "{'customer786': {'f_name': 'Qasim',\n",
       "  'l_name': 'Hassan',\n",
       "  'adress': 'Street786',\n",
       "  'order_price': 120},\n",
       " 'customer876': {'first name': 'David',\n",
       "  'lastname': 'Elliott',\n",
       "  'address': '4803 Wellesley St.',\n",
       "  'order_price': 120}}"
      ]
     },
     "execution_count": 14,
     "metadata": {},
     "output_type": "execute_result"
    }
   ],
   "source": [
    "customer"
   ]
  },
  {
   "cell_type": "markdown",
   "id": "4785d537-5e68-43c4-af79-37b3d1d181a2",
   "metadata": {},
   "source": [
    "### Dictionaries: The versatility of keys and values"
   ]
  },
  {
   "cell_type": "code",
   "execution_count": 19,
   "id": "ce06d9e7-9ba3-4ca6-818b-7005a643ac11",
   "metadata": {},
   "outputs": [],
   "source": [
    "# dictionary can hold multuiple data type\n",
    "\n",
    "my_dictionary = {\"name\": \"Qasim Hassan\",\n",
    "                 \"age\":19,\n",
    "                 \"weight\":19.5,\n",
    "                 \"ispresent\":True}"
   ]
  },
  {
   "cell_type": "code",
   "execution_count": 20,
   "id": "67bd63a4-d088-4c27-b599-39224c2b3011",
   "metadata": {},
   "outputs": [
    {
     "data": {
      "text/plain": [
       "{'name': 'Qasim Hassan', 'age': 19, 'weight': 19.5, 'ispresent': True}"
      ]
     },
     "execution_count": 20,
     "metadata": {},
     "output_type": "execute_result"
    }
   ],
   "source": [
    "my_dictionary"
   ]
  },
  {
   "cell_type": "code",
   "execution_count": 21,
   "id": "047b7a99-6435-4e6a-bf01-f3d1c85f985e",
   "metadata": {},
   "outputs": [],
   "source": [
    "# keys of dictionary can be of any datatype\n",
    "\n",
    "customer_new = {786: customer_786, 876: customer_876}"
   ]
  },
  {
   "cell_type": "code",
   "execution_count": 23,
   "id": "403b2a21-e6cb-4846-88f4-b0ddfcd7fd3b",
   "metadata": {},
   "outputs": [
    {
     "data": {
      "text/plain": [
       "{'f_name': 'Qasim',\n",
       " 'l_name': 'Hassan',\n",
       " 'adress': 'Street786',\n",
       " 'order_price': 120,\n",
       " 'order_item': 'Shoes'}"
      ]
     },
     "execution_count": 23,
     "metadata": {},
     "output_type": "execute_result"
    }
   ],
   "source": [
    "customer_new[786]"
   ]
  },
  {
   "cell_type": "code",
   "execution_count": 24,
   "id": "29179461-ad16-4d36-a50a-82f8ae544fa8",
   "metadata": {},
   "outputs": [],
   "source": [
    "customer_new = {True: customer_786, False: customer_876}"
   ]
  },
  {
   "cell_type": "code",
   "execution_count": 25,
   "id": "66cba23e-1dea-4f35-86f2-a14fc4709c2d",
   "metadata": {},
   "outputs": [
    {
     "data": {
      "text/plain": [
       "{'f_name': 'Qasim',\n",
       " 'l_name': 'Hassan',\n",
       " 'adress': 'Street786',\n",
       " 'order_price': 120,\n",
       " 'order_item': 'Shoes'}"
      ]
     },
     "execution_count": 25,
     "metadata": {},
     "output_type": "execute_result"
    }
   ],
   "source": [
    "customer_new[True]"
   ]
  },
  {
   "cell_type": "markdown",
   "id": "64fefb96-4617-4fcf-b745-4c5a7abe5a1a",
   "metadata": {},
   "source": [
    "### Dictionaries: Looping through values, keys & key-value pairs"
   ]
  },
  {
   "cell_type": "code",
   "execution_count": 26,
   "id": "876d1938-3e23-498d-8b9b-3429e915e70c",
   "metadata": {},
   "outputs": [
    {
     "data": {
      "text/plain": [
       "{'f_name': 'Qasim',\n",
       " 'l_name': 'Hassan',\n",
       " 'adress': 'Street786',\n",
       " 'order_price': 120,\n",
       " 'order_item': 'Shoes'}"
      ]
     },
     "execution_count": 26,
     "metadata": {},
     "output_type": "execute_result"
    }
   ],
   "source": [
    "customer_786"
   ]
  },
  {
   "cell_type": "code",
   "execution_count": 28,
   "id": "54d48e1d-018c-4263-8a5c-f334ac447f20",
   "metadata": {},
   "outputs": [
    {
     "data": {
      "text/plain": [
       "dict_keys(['f_name', 'l_name', 'adress', 'order_price', 'order_item'])"
      ]
     },
     "execution_count": 28,
     "metadata": {},
     "output_type": "execute_result"
    }
   ],
   "source": [
    "customer_786.keys() # return list of keys()"
   ]
  },
  {
   "cell_type": "code",
   "execution_count": 29,
   "id": "1728417f-d122-411d-9535-f87d4b1bdb50",
   "metadata": {},
   "outputs": [
    {
     "data": {
      "text/plain": [
       "dict_values(['Qasim', 'Hassan', 'Street786', 120, 'Shoes'])"
      ]
     },
     "execution_count": 29,
     "metadata": {},
     "output_type": "execute_result"
    }
   ],
   "source": [
    "customer_786.values() # return list of values"
   ]
  },
  {
   "cell_type": "code",
   "execution_count": 30,
   "id": "82b8397a-fc99-4e6a-9de2-abe560a7f5ee",
   "metadata": {},
   "outputs": [
    {
     "data": {
      "text/plain": [
       "dict_items([('f_name', 'Qasim'), ('l_name', 'Hassan'), ('adress', 'Street786'), ('order_price', 120), ('order_item', 'Shoes')])"
      ]
     },
     "execution_count": 30,
     "metadata": {},
     "output_type": "execute_result"
    }
   ],
   "source": [
    "customer_786.items() # list of tuples"
   ]
  },
  {
   "cell_type": "code",
   "execution_count": 33,
   "id": "2fdd4995-ca71-45b4-8b36-e4f7b6b95da5",
   "metadata": {},
   "outputs": [
    {
     "name": "stdout",
     "output_type": "stream",
     "text": [
      "f_name => Qasim\n",
      "l_name => Hassan\n",
      "adress => Street786\n",
      "order_price => 120\n",
      "order_item => Shoes\n"
     ]
    }
   ],
   "source": [
    "# loops always run on iteratables (list, tuple, set, dictionary. range())\n",
    "# task range() is a ?\n",
    "for key, value  in customer_786.items():\n",
    "    print(key,\"=>\", value)\n",
    "\n",
    "# key => value"
   ]
  },
  {
   "cell_type": "code",
   "execution_count": 35,
   "id": "3ab30dbd-6029-4b7b-9dfe-b7c336de4bf5",
   "metadata": {},
   "outputs": [
    {
     "name": "stdout",
     "output_type": "stream",
     "text": [
      "f_name\n",
      "l_name\n",
      "adress\n",
      "order_price\n",
      "order_item\n"
     ]
    }
   ],
   "source": [
    "for key in customer_786.keys():\n",
    "    print(key)"
   ]
  },
  {
   "cell_type": "code",
   "execution_count": 36,
   "id": "a31e7f08-cdf5-47f7-b3b6-8b1005d45f73",
   "metadata": {},
   "outputs": [
    {
     "name": "stdout",
     "output_type": "stream",
     "text": [
      "Qasim\n",
      "Hassan\n",
      "Street786\n",
      "120\n",
      "Shoes\n"
     ]
    }
   ],
   "source": [
    "for key in customer_786.keys():\n",
    "    print(key)"
   ]
  },
  {
   "cell_type": "code",
   "execution_count": 37,
   "id": "70914f62-379e-4a9a-8f55-f79ee731ada1",
   "metadata": {},
   "outputs": [
    {
     "name": "stdout",
     "output_type": "stream",
     "text": [
      "f_name\n",
      "l_name\n",
      "adress\n",
      "order_price\n",
      "order_item\n"
     ]
    }
   ],
   "source": [
    "for key in customer_786:\n",
    "    print(key)"
   ]
  },
  {
   "cell_type": "code",
   "execution_count": 40,
   "id": "e37874a6-8d38-4f99-be31-6a8ceb817d1f",
   "metadata": {},
   "outputs": [
    {
     "data": {
      "text/plain": [
       "\u001b[1;31mType:\u001b[0m        dict\n",
       "\u001b[1;31mString form:\u001b[0m {'customer786': {'f_name': 'Qasim', 'l_name': 'Hassan', 'adress': 'Street786', 'order_price': 120 <...> irst name': 'David', 'lastname': 'Elliott', 'address': '4803 Wellesley St.', 'order_price': 120}}\n",
       "\u001b[1;31mLength:\u001b[0m      2\n",
       "\u001b[1;31mDocstring:\u001b[0m  \n",
       "dict() -> new empty dictionary\n",
       "dict(mapping) -> new dictionary initialized from a mapping object's\n",
       "    (key, value) pairs\n",
       "dict(iterable) -> new dictionary initialized as if via:\n",
       "    d = {}\n",
       "    for k, v in iterable:\n",
       "        d[k] = v\n",
       "dict(**kwargs) -> new dictionary initialized with the name=value pairs\n",
       "    in the keyword argument list.  For example:  dict(one=1, two=2)"
      ]
     },
     "metadata": {},
     "output_type": "display_data"
    }
   ],
   "source": [
    "# help(customer_786)\n",
    "customer?"
   ]
  },
  {
   "cell_type": "markdown",
   "id": "f386f0fb-d220-4f31-9769-8a5b3af8698e",
   "metadata": {},
   "source": [
    "### Creating a dictionary that contains lists"
   ]
  },
  {
   "cell_type": "code",
   "execution_count": 45,
   "id": "c9bce481-2590-4859-af64-353deabecfad",
   "metadata": {},
   "outputs": [],
   "source": [
    "customers_list_of_dict = {\n",
    "    \"f_names\": [\"Qasim\", \"Ayan\", \"Muhammad\"],\n",
    "    \"l_name\": [\"Hassan\", \"Hussain\", \"Uzair\"],\n",
    "    \"adress\" : [\"Stree786\", \"street787\", \"street788\"],\n",
    "    \"order_price\": [120, 130, 140],\n",
    "    \"order_item\": [\"Shoes\", \"Shirt\", \"Cap\"]\n",
    "}"
   ]
  },
  {
   "cell_type": "code",
   "execution_count": 46,
   "id": "3c6b4a84-4fc9-4174-b79e-a66df9f3cdfb",
   "metadata": {},
   "outputs": [
    {
     "data": {
      "text/plain": [
       "{'f_names': ['Qasim', 'Ayan', 'Muhammad'],\n",
       " 'l_name': ['Hassan', 'Hussain', 'Uzair'],\n",
       " 'adress': ['Stree786', 'street787', 'street788'],\n",
       " 'order_price': [120, 130, 140],\n",
       " 'order_item': ['Shoes', 'Shirt', 'Cap']}"
      ]
     },
     "execution_count": 46,
     "metadata": {},
     "output_type": "execute_result"
    }
   ],
   "source": [
    "customers_list_of_dict"
   ]
  },
  {
   "cell_type": "code",
   "execution_count": 70,
   "id": "8fd4c5a9-d103-48f2-a634-5e36acaadc4e",
   "metadata": {},
   "outputs": [
    {
     "name": "stdout",
     "output_type": "stream",
     "text": [
      "\n",
      "Qasim\n",
      "Hassan\n",
      "Stree786\n",
      "120\n",
      "Shoes\n",
      "\n",
      "Ayan\n",
      "Hussain\n",
      "street787\n",
      "130\n",
      "Shirt\n",
      "\n",
      "Muhammad\n",
      "Uzair\n",
      "street788\n",
      "140\n",
      "Cap\n"
     ]
    }
   ],
   "source": [
    "for index in range(3):\n",
    "    print() # 0, 1, 2\n",
    "    for values in customers_list_of_dict.values():\n",
    "        print(values[index])"
   ]
  },
  {
   "cell_type": "code",
   "execution_count": 49,
   "id": "fceb084d-aaeb-432c-b0b3-32c0b2306700",
   "metadata": {},
   "outputs": [
    {
     "name": "stdout",
     "output_type": "stream",
     "text": [
      "\n",
      "Qasim\n",
      "Hassan\n",
      "Stree786\n",
      "120\n",
      "Shoes\n",
      "\n",
      "Ayan\n",
      "Hussain\n",
      "street787\n",
      "130\n",
      "Shirt\n",
      "\n",
      "Muhammad\n",
      "Uzair\n",
      "street788\n",
      "140\n",
      "Cap\n"
     ]
    }
   ],
   "source": [
    "for index in range(3):\n",
    "    print();\n",
    "    for value in customers_list_of_dict.values():\n",
    "        print(value[index]);"
   ]
  },
  {
   "cell_type": "code",
   "execution_count": 63,
   "id": "4a21e04e-6d34-403a-95b0-8aff33153530",
   "metadata": {},
   "outputs": [
    {
     "data": {
      "text/plain": [
       "'Qasim'"
      ]
     },
     "execution_count": 63,
     "metadata": {},
     "output_type": "execute_result"
    }
   ],
   "source": [
    "customers_list_of_dict[\"f_names\"][0]"
   ]
  },
  {
   "cell_type": "code",
   "execution_count": 67,
   "id": "76289eff-1cb9-4180-9e26-bece58c9d98b",
   "metadata": {},
   "outputs": [
    {
     "name": "stdout",
     "output_type": "stream",
     "text": [
      "f_name Qasim\n",
      "l_name Hassan\n",
      "address Stree786\n",
      "---\n",
      "f_name Ayan\n",
      "l_name Hussain\n",
      "address street787\n",
      "---\n",
      "f_name Muhammad\n",
      "l_name Uzair\n",
      "address street788\n",
      "---\n"
     ]
    }
   ],
   "source": [
    "partLen = len(customers_list_of_dict[\"f_names\"])\n",
    "for i in range(partLen):\n",
    "    print(f\"f_name {customers_list_of_dict[\"f_names\"][i]}\")\n",
    "    print(f\"l_name {customers_list_of_dict[\"l_name\"][i]}\")\n",
    "    print(f\"address {customers_list_of_dict[\"adress\"][i]}\")\n",
    "    print(\"---\")"
   ]
  },
  {
   "cell_type": "markdown",
   "id": "fbfa0ec5-8745-4389-b193-818fd2425324",
   "metadata": {},
   "source": [
    "### How to pick information out of a list of dictionaries"
   ]
  },
  {
   "cell_type": "code",
   "execution_count": 71,
   "id": "2763cba3-86e9-4377-bb6e-206f44bb6954",
   "metadata": {},
   "outputs": [
    {
     "data": {
      "text/plain": [
       "{'f_names': ['Qasim', 'Ayan', 'Muhammad'],\n",
       " 'l_name': ['Hassan', 'Hussain', 'Uzair'],\n",
       " 'adress': ['Stree786', 'street787', 'street788'],\n",
       " 'order_price': [120, 130, 140],\n",
       " 'order_item': ['Shoes', 'Shirt', 'Cap']}"
      ]
     },
     "execution_count": 71,
     "metadata": {},
     "output_type": "execute_result"
    }
   ],
   "source": [
    "customers_list_of_dict"
   ]
  },
  {
   "cell_type": "code",
   "execution_count": 72,
   "id": "15714bfd-b7ad-4d1b-9e24-451e1b4b63b7",
   "metadata": {},
   "outputs": [
    {
     "data": {
      "text/plain": [
       "'Cap'"
      ]
     },
     "execution_count": 72,
     "metadata": {},
     "output_type": "execute_result"
    }
   ],
   "source": [
    "customers_list_of_dict['order_item'][2]"
   ]
  },
  {
   "cell_type": "markdown",
   "id": "3c090a7b-bdaa-4e54-a8e7-e84b7b75f834",
   "metadata": {},
   "source": [
    "### list of dictionaries You"
   ]
  },
  {
   "cell_type": "raw",
   "id": "849d198e-f1d6-4209-b1ed-fb3e6d67ecec",
   "metadata": {},
   "source": [
    "{'f_names': ['Qasim', 'Ayan', 'Muhammad'],\n",
    " 'l_name': ['Hassan', 'Hussain', 'Uzair'],\n",
    " 'adress': ['Stree786', 'street787', 'street788'],\n",
    " 'order_price': [120, 130, 140],\n",
    " 'order_item': ['Shoes', 'Shirt', 'Cap']}"
   ]
  },
  {
   "cell_type": "code",
   "execution_count": 74,
   "id": "6042044a-0a81-40d3-9376-9c24a81a0333",
   "metadata": {},
   "outputs": [],
   "source": [
    "customer_opposit_case = [{\"f_name\": \"Qasim\",\n",
    "                         \"l_name\": \"Hassan\",\n",
    "                         \"address\": \"street786\", \n",
    "                         \"oder_price\": 120,\n",
    "                         \"order_item\": \"shoes\" \n",
    "                         },\n",
    "                        {\"f_name\": \"Ayan\",\n",
    "                         \"l_name\": \"Husaain\",\n",
    "                         \"address\": \"street787\", \n",
    "                         \"oder_price\": 130,\n",
    "                         \"order_item\": \"Shirt\"\n",
    "                         },\n",
    "                        {\"f_name\": \"Muhaamad\",\n",
    "                         \"l_name\": \"Uzair\",\n",
    "                         \"address\": \"street788\", \n",
    "                         \"oder_price\": 140,\n",
    "                         \"order_item\": \"Cap\" \n",
    "                         }]"
   ]
  },
  {
   "cell_type": "code",
   "execution_count": 75,
   "id": "a48ed472-e27b-4c0a-80e9-22ebbb0bf537",
   "metadata": {},
   "outputs": [
    {
     "data": {
      "text/plain": [
       "'Shirt'"
      ]
     },
     "execution_count": 75,
     "metadata": {},
     "output_type": "execute_result"
    }
   ],
   "source": [
    "customer_opposit_case[1][\"order_item\"]"
   ]
  },
  {
   "cell_type": "markdown",
   "id": "1dc93a58-271a-433b-899f-03389ba954a2",
   "metadata": {},
   "source": [
    "### How to append a new dictionary to a list of dictionaries"
   ]
  },
  {
   "cell_type": "code",
   "execution_count": 76,
   "id": "85b8de7f-cfa0-420a-827b-e5776f54780d",
   "metadata": {},
   "outputs": [],
   "source": [
    "customer_opposit_case.append( {\"f_name\": \"Ali\",\n",
    "                         \"l_name\": \"Khan\",\n",
    "                         \"address\": \"street789\", \n",
    "                         \"oder_price\": 150,\n",
    "                         \"order_item\": \"Belt\" \n",
    "                         })"
   ]
  },
  {
   "cell_type": "code",
   "execution_count": 77,
   "id": "65067a6f-cde7-4951-a3b0-5f7a0d05ebd3",
   "metadata": {},
   "outputs": [
    {
     "data": {
      "text/plain": [
       "[{'f_name': 'Qasim',\n",
       "  'l_name': 'Hassan',\n",
       "  'address': 'street786',\n",
       "  'oder_price': 120,\n",
       "  'order_item': 'shoes'},\n",
       " {'f_name': 'Ayan',\n",
       "  'l_name': 'Husaain',\n",
       "  'address': 'street787',\n",
       "  'oder_price': 130,\n",
       "  'order_item': 'Shirt'},\n",
       " {'f_name': 'Muhaamad',\n",
       "  'l_name': 'Uzair',\n",
       "  'address': 'street788',\n",
       "  'oder_price': 140,\n",
       "  'order_item': 'Cap'},\n",
       " {'f_name': 'Ali',\n",
       "  'l_name': 'Khan',\n",
       "  'address': 'street789',\n",
       "  'oder_price': 150,\n",
       "  'order_item': 'Belt'}]"
      ]
     },
     "execution_count": 77,
     "metadata": {},
     "output_type": "execute_result"
    }
   ],
   "source": [
    "customer_opposit_case"
   ]
  },
  {
   "cell_type": "code",
   "execution_count": 78,
   "id": "33bcc952-8ad9-487e-b598-cd21b20eb9e3",
   "metadata": {},
   "outputs": [
    {
     "data": {
      "text/plain": [
       "4"
      ]
     },
     "execution_count": 78,
     "metadata": {},
     "output_type": "execute_result"
    }
   ],
   "source": [
    "len(customer_opposit_case)"
   ]
  },
  {
   "cell_type": "code",
   "execution_count": 79,
   "id": "a06a900e-4fac-4d70-8ad1-38b6edd6e705",
   "metadata": {},
   "outputs": [
    {
     "ename": "IndexError",
     "evalue": "list assignment index out of range",
     "output_type": "error",
     "traceback": [
      "\u001b[1;31m---------------------------------------------------------------------------\u001b[0m",
      "\u001b[1;31mIndexError\u001b[0m                                Traceback (most recent call last)",
      "Cell \u001b[1;32mIn[79], line 1\u001b[0m\n\u001b[1;32m----> 1\u001b[0m \u001b[43mcustomer_opposit_case\u001b[49m\u001b[43m[\u001b[49m\u001b[38;5;241;43m4\u001b[39;49m\u001b[43m]\u001b[49m \u001b[38;5;241m=\u001b[39m {\u001b[38;5;124m'\u001b[39m\u001b[38;5;124mf_name\u001b[39m\u001b[38;5;124m'\u001b[39m: \u001b[38;5;124m'\u001b[39m\u001b[38;5;124mNoor\u001b[39m\u001b[38;5;124m'\u001b[39m,\n\u001b[0;32m      2\u001b[0m                               \u001b[38;5;124m'\u001b[39m\u001b[38;5;124ml_name\u001b[39m\u001b[38;5;124m'\u001b[39m: \u001b[38;5;124m'\u001b[39m\u001b[38;5;124mMuhammad\u001b[39m\u001b[38;5;124m'\u001b[39m,\n\u001b[0;32m      3\u001b[0m                               \u001b[38;5;124m'\u001b[39m\u001b[38;5;124maddress\u001b[39m\u001b[38;5;124m'\u001b[39m: \u001b[38;5;124m'\u001b[39m\u001b[38;5;124mstreet790\u001b[39m\u001b[38;5;124m'\u001b[39m,\n\u001b[0;32m      4\u001b[0m                               \u001b[38;5;124m'\u001b[39m\u001b[38;5;124moder_price\u001b[39m\u001b[38;5;124m'\u001b[39m: \u001b[38;5;241m160\u001b[39m,\n\u001b[0;32m      5\u001b[0m                               \u001b[38;5;124m'\u001b[39m\u001b[38;5;124morder_item\u001b[39m\u001b[38;5;124m'\u001b[39m: \u001b[38;5;124m'\u001b[39m\u001b[38;5;124mNothing Air pods\u001b[39m\u001b[38;5;124m'\u001b[39m}\n",
      "\u001b[1;31mIndexError\u001b[0m: list assignment index out of range"
     ]
    }
   ],
   "source": [
    "customer_opposit_case[4] = {'f_name': 'Noor',\n",
    "                              'l_name': 'Muhammad',\n",
    "                              'address': 'street790',\n",
    "                              'oder_price': 160,\n",
    "                              'order_item': 'Nothing Air pods'} # error becuase we dfon't have the  index of four we can use this method to update the value that is already existing in list"
   ]
  },
  {
   "cell_type": "code",
   "execution_count": 83,
   "id": "67501e7b-70c6-4864-a33f-ab326eb09434",
   "metadata": {},
   "outputs": [
    {
     "data": {
      "text/plain": [
       "[{'f_name': 'Qasim',\n",
       "  'l_name': 'Hassan',\n",
       "  'address': 'street786',\n",
       "  'oder_price': 120,\n",
       "  'order_item': 'shoes'},\n",
       " {'f_name': 'Ayan',\n",
       "  'l_name': 'Husaain',\n",
       "  'address': 'street787',\n",
       "  'oder_price': 130,\n",
       "  'order_item': 'Shirt'},\n",
       " {'f_name': 'Muhaamad',\n",
       "  'l_name': 'Uzair',\n",
       "  'address': 'street788',\n",
       "  'oder_price': 140,\n",
       "  'order_item': 'Cap'},\n",
       " {'f_name': 'Ali',\n",
       "  'l_name': 'Khan',\n",
       "  'address': 'street789',\n",
       "  'oder_price': 150,\n",
       "  'order_item': 'Belt'},\n",
       " 'f_name',\n",
       " 'l_name',\n",
       " 'address',\n",
       " 'oder_price',\n",
       " 'order_item',\n",
       " 'f_name',\n",
       " 'l_name',\n",
       " 'address',\n",
       " 'oder_price',\n",
       " 'order_item']"
      ]
     },
     "execution_count": 83,
     "metadata": {},
     "output_type": "execute_result"
    }
   ],
   "source": [
    "customer_opposit_case += {'f_name': 'Noor',\n",
    "                              'l_name': 'Muhammad',\n",
    "                              'address': 'street790',\n",
    "                              'oder_price': 160,\n",
    "                              'order_item': 'Nothing Air pods'} # qwill not work to add dictionary by defaukt it will take the keys only\n",
    "\n",
    "customer_opposit_case"
   ]
  },
  {
   "cell_type": "code",
   "execution_count": 84,
   "id": "00a7cbbe-bfc7-463e-8e17-f4b37db23ddd",
   "metadata": {},
   "outputs": [],
   "source": [
    "del customer_opposit_case[-10:]"
   ]
  },
  {
   "cell_type": "code",
   "execution_count": 86,
   "id": "5af3ef8d-5307-4ce9-8e89-a12416ef81ad",
   "metadata": {},
   "outputs": [],
   "source": [
    "customer_opposit_case += list({'f_name': 'Noor',\n",
    "                              'l_name': 'Muhammad',\n",
    "                              'address': 'street790',\n",
    "                              'oder_price': 160,\n",
    "                              'order_item': 'Nothing Air pods'})"
   ]
  },
  {
   "cell_type": "code",
   "execution_count": 87,
   "id": "3a9b551d-2cf4-4537-a4ce-8e20caffbffe",
   "metadata": {},
   "outputs": [
    {
     "data": {
      "text/plain": [
       "[{'f_name': 'Qasim',\n",
       "  'l_name': 'Hassan',\n",
       "  'address': 'street786',\n",
       "  'oder_price': 120,\n",
       "  'order_item': 'shoes'},\n",
       " {'f_name': 'Ayan',\n",
       "  'l_name': 'Husaain',\n",
       "  'address': 'street787',\n",
       "  'oder_price': 130,\n",
       "  'order_item': 'Shirt'},\n",
       " {'f_name': 'Muhaamad',\n",
       "  'l_name': 'Uzair',\n",
       "  'address': 'street788',\n",
       "  'oder_price': 140,\n",
       "  'order_item': 'Cap'},\n",
       " {'f_name': 'Ali',\n",
       "  'l_name': 'Khan',\n",
       "  'address': 'street789',\n",
       "  'oder_price': 150,\n",
       "  'order_item': 'Belt'},\n",
       " 'f_name',\n",
       " 'l_name',\n",
       " 'address',\n",
       " 'oder_price',\n",
       " 'order_item']"
      ]
     },
     "execution_count": 87,
     "metadata": {},
     "output_type": "execute_result"
    }
   ],
   "source": [
    "customer_opposit_case"
   ]
  },
  {
   "cell_type": "code",
   "execution_count": 90,
   "id": "7b883454-c6e2-48a4-9606-64931462bf39",
   "metadata": {},
   "outputs": [],
   "source": [
    "del customer_opposit_case[-5:]"
   ]
  },
  {
   "cell_type": "code",
   "execution_count": 91,
   "id": "87104ab9-1de1-4c00-be5e-6ca7f6a1922b",
   "metadata": {},
   "outputs": [],
   "source": [
    "customer_opposit_case += [{'f_name': 'Noor',\n",
    "      'l_name': 'Muhammad',\n",
    "       'address': 'street790',\n",
    "       'oder_price': 160,\n",
    "        'order_item': 'Nothing Air pods'}]"
   ]
  },
  {
   "cell_type": "code",
   "execution_count": 92,
   "id": "3dd8511a-dbeb-4245-88bc-4955a60a96d4",
   "metadata": {},
   "outputs": [
    {
     "data": {
      "text/plain": [
       "[{'f_name': 'Qasim',\n",
       "  'l_name': 'Hassan',\n",
       "  'address': 'street786',\n",
       "  'oder_price': 120,\n",
       "  'order_item': 'shoes'},\n",
       " {'f_name': 'Ayan',\n",
       "  'l_name': 'Husaain',\n",
       "  'address': 'street787',\n",
       "  'oder_price': 130,\n",
       "  'order_item': 'Shirt'},\n",
       " {'f_name': 'Muhaamad',\n",
       "  'l_name': 'Uzair',\n",
       "  'address': 'street788',\n",
       "  'oder_price': 140,\n",
       "  'order_item': 'Cap'},\n",
       " {'f_name': 'Ali',\n",
       "  'l_name': 'Khan',\n",
       "  'address': 'street789',\n",
       "  'oder_price': 150,\n",
       "  'order_item': 'Belt'},\n",
       " {'f_name': 'Noor',\n",
       "  'l_name': 'Muhammad',\n",
       "  'address': 'street790',\n",
       "  'oder_price': 160,\n",
       "  'order_item': 'Nothing Air pods'}]"
      ]
     },
     "execution_count": 92,
     "metadata": {},
     "output_type": "execute_result"
    }
   ],
   "source": [
    "customer_opposit_case"
   ]
  },
  {
   "cell_type": "markdown",
   "id": "4e96145c-2d00-4221-a66f-3364381ceaef",
   "metadata": {},
   "source": [
    "### Creating a dictionary that contains a dictionary"
   ]
  },
  {
   "cell_type": "code",
   "execution_count": 95,
   "id": "cc19eb90-69cb-4bee-8f42-cbcc8f6b83ab",
   "metadata": {},
   "outputs": [],
   "source": [
    "customers = {\n",
    "    0: {\n",
    "    \"first name\":\"John\",\n",
    "    \"last name\": \"Ogden\",\n",
    "    \"address\": \"301 Arbor Rd.\",\n",
    "    },\n",
    "    1: {\n",
    "    \"first name\":\"Ann\",\n",
    "    \"last name\": \"Sattermyer\",\n",
    "    \"address\": \"PO Box 1145\",\n",
    "    },\n",
    "    2: {\n",
    "    \"first name\":\"Jill\",\n",
    "    \"last name\": \"Somers\",\n",
    "    \"address\": \"3 Main St.\",\n",
    "    }\n",
    "}"
   ]
  },
  {
   "cell_type": "code",
   "execution_count": 97,
   "id": "797d242e-dfcd-4ce0-8458-9b1d481d632f",
   "metadata": {},
   "outputs": [
    {
     "data": {
      "text/plain": [
       "{0: {'first name': 'John', 'last name': 'Ogden', 'address': '301 Arbor Rd.'},\n",
       " 1: {'first name': 'Ann', 'last name': 'Sattermyer', 'address': 'PO Box 1145'},\n",
       " 2: {'first name': 'Jill', 'last name': 'Somers', 'address': '3 Main St.'}}"
      ]
     },
     "execution_count": 97,
     "metadata": {},
     "output_type": "execute_result"
    }
   ],
   "source": [
    "customers"
   ]
  },
  {
   "cell_type": "markdown",
   "id": "6448be38-3629-4d62-937f-2c837cf6109f",
   "metadata": {},
   "source": [
    "### How to get information out of a dictionary within another dictionary"
   ]
  },
  {
   "cell_type": "code",
   "execution_count": 98,
   "id": "bc908faf-3cd6-4ccf-a7fb-2ad0389f7da9",
   "metadata": {},
   "outputs": [
    {
     "data": {
      "text/plain": [
       "'PO Box 1145'"
      ]
     },
     "execution_count": 98,
     "metadata": {},
     "output_type": "execute_result"
    }
   ],
   "source": [
    "customers[1]['address']"
   ]
  },
  {
   "cell_type": "code",
   "execution_count": null,
   "id": "ca31d07b-cdaa-4a48-ae49-fcdc345d7abf",
   "metadata": {},
   "outputs": [],
   "source": []
  }
 ],
 "metadata": {
  "kernelspec": {
   "display_name": "Python 3 (ipykernel)",
   "language": "python",
   "name": "python3"
  },
  "language_info": {
   "codemirror_mode": {
    "name": "ipython",
    "version": 3
   },
   "file_extension": ".py",
   "mimetype": "text/x-python",
   "name": "python",
   "nbconvert_exporter": "python",
   "pygments_lexer": "ipython3",
   "version": "3.12.7"
  }
 },
 "nbformat": 4,
 "nbformat_minor": 5
}
