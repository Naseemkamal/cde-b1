{
 "cells": [
  {
   "cell_type": "code",
   "execution_count": 2,
   "id": "1cb87049-440c-44f3-8fdf-2cab6349efb2",
   "metadata": {},
   "outputs": [
    {
     "name": "stdout",
     "output_type": "stream",
     "text": [
      "Hello - Saylani CDE batch-1\n"
     ]
    }
   ],
   "source": [
    "print(\"Hello - Saylani CDE batch-1\")"
   ]
  },
  {
   "cell_type": "markdown",
   "id": "d3dcddb8-2dac-4efb-b00c-c5a54dea4ca8",
   "metadata": {},
   "source": [
    "## Expersion"
   ]
  },
  {
   "cell_type": "code",
   "execution_count": 3,
   "id": "46634527-ac57-41b2-a568-3f50525ab486",
   "metadata": {},
   "outputs": [
    {
     "data": {
      "text/plain": [
       "5"
      ]
     },
     "execution_count": 3,
     "metadata": {},
     "output_type": "execute_result"
    }
   ],
   "source": [
    "1+4"
   ]
  },
  {
   "cell_type": "code",
   "execution_count": 4,
   "id": "047e8fcd-1896-4350-8ad2-05728a0877e9",
   "metadata": {},
   "outputs": [
    {
     "data": {
      "text/plain": [
       "3"
      ]
     },
     "execution_count": 4,
     "metadata": {},
     "output_type": "execute_result"
    }
   ],
   "source": [
    "6-3"
   ]
  },
  {
   "cell_type": "code",
   "execution_count": 5,
   "id": "1a03f157-4caa-4ba1-8817-cb9e57d59e1b",
   "metadata": {},
   "outputs": [
    {
     "data": {
      "text/plain": [
       "3.0"
      ]
     },
     "execution_count": 5,
     "metadata": {},
     "output_type": "execute_result"
    }
   ],
   "source": [
    "6/2"
   ]
  },
  {
   "cell_type": "code",
   "execution_count": 6,
   "id": "2372aa59-9305-4950-b5ec-86c4baca5a95",
   "metadata": {},
   "outputs": [
    {
     "data": {
      "text/plain": [
       "3"
      ]
     },
     "execution_count": 6,
     "metadata": {},
     "output_type": "execute_result"
    }
   ],
   "source": [
    "6//2"
   ]
  },
  {
   "cell_type": "code",
   "execution_count": 7,
   "id": "6aa5d843-512c-4484-b35f-09bd48eb5d53",
   "metadata": {},
   "outputs": [
    {
     "data": {
      "text/plain": [
       "6"
      ]
     },
     "execution_count": 7,
     "metadata": {},
     "output_type": "execute_result"
    }
   ],
   "source": [
    "3*2"
   ]
  },
  {
   "cell_type": "code",
   "execution_count": 8,
   "id": "3b24df47-68d8-4fd6-afe1-0c2a639f7229",
   "metadata": {},
   "outputs": [
    {
     "data": {
      "text/plain": [
       "36"
      ]
     },
     "execution_count": 8,
     "metadata": {},
     "output_type": "execute_result"
    }
   ],
   "source": [
    "6**2 # 6 powers 2 => 6 * 6"
   ]
  },
  {
   "cell_type": "code",
   "execution_count": 9,
   "id": "fcf5dd7b-6495-4d1e-84cc-bb7bab3382f1",
   "metadata": {},
   "outputs": [
    {
     "data": {
      "text/plain": [
       "-27"
      ]
     },
     "execution_count": 9,
     "metadata": {},
     "output_type": "execute_result"
    }
   ],
   "source": [
    "# PEMDAS\n",
    "\n",
    "(1-3) - (5**2)"
   ]
  },
  {
   "cell_type": "markdown",
   "id": "3abb5ab3-069b-4d42-8df2-8763195bdaab",
   "metadata": {},
   "source": [
    "## Variables"
   ]
  },
  {
   "cell_type": "code",
   "execution_count": 10,
   "id": "b8ff5167-7fdc-4359-a084-15e14b8d0b56",
   "metadata": {},
   "outputs": [],
   "source": [
    "revenue = 7*14*2"
   ]
  },
  {
   "cell_type": "code",
   "execution_count": 11,
   "id": "4c1821f3-9112-4ce0-9a39-513c2af9d370",
   "metadata": {},
   "outputs": [
    {
     "data": {
      "text/plain": [
       "196"
      ]
     },
     "execution_count": 11,
     "metadata": {},
     "output_type": "execute_result"
    }
   ],
   "source": [
    "revenue"
   ]
  },
  {
   "cell_type": "markdown",
   "id": "f3a43c5c-5437-4c07-bdfe-bdbf662212ca",
   "metadata": {},
   "source": [
    "- INTEGER\n",
    "- FLOAT\n",
    "- STRING\n",
    "- BOOLEAN (True/False)"
   ]
  },
  {
   "cell_type": "code",
   "execution_count": 12,
   "id": "15ff0324-6ee1-40d4-bb62-a2bcccdf53db",
   "metadata": {},
   "outputs": [
    {
     "data": {
      "text/plain": [
       "int"
      ]
     },
     "execution_count": 12,
     "metadata": {},
     "output_type": "execute_result"
    }
   ],
   "source": [
    "type(12)"
   ]
  },
  {
   "cell_type": "code",
   "execution_count": 13,
   "id": "539457ea-0ba5-48a3-9d34-4e1cd8a6a73b",
   "metadata": {},
   "outputs": [
    {
     "data": {
      "text/plain": [
       "float"
      ]
     },
     "execution_count": 13,
     "metadata": {},
     "output_type": "execute_result"
    }
   ],
   "source": [
    "type(12.0)"
   ]
  },
  {
   "cell_type": "code",
   "execution_count": 14,
   "id": "18237696-dec7-4fc3-943f-f88882ed572a",
   "metadata": {},
   "outputs": [
    {
     "data": {
      "text/plain": [
       "str"
      ]
     },
     "execution_count": 14,
     "metadata": {},
     "output_type": "execute_result"
    }
   ],
   "source": [
    "type(\"Hello\")"
   ]
  },
  {
   "cell_type": "code",
   "execution_count": 15,
   "id": "44a34e97-520c-4eed-86ce-656839571b9d",
   "metadata": {},
   "outputs": [
    {
     "data": {
      "text/plain": [
       "bool"
      ]
     },
     "execution_count": 15,
     "metadata": {},
     "output_type": "execute_result"
    }
   ],
   "source": [
    "type(True)"
   ]
  },
  {
   "cell_type": "code",
   "execution_count": 21,
   "id": "07614ee3-0c75-4a1a-b910-1f5a6361c372",
   "metadata": {},
   "outputs": [
    {
     "name": "stdout",
     "output_type": "stream",
     "text": [
      "Qasim Hassan\n"
     ]
    }
   ],
   "source": [
    "name = \"Qasim Hassan\"\n",
    "print(name)"
   ]
  },
  {
   "cell_type": "code",
   "execution_count": 18,
   "id": "60a12698-0423-4ac5-9aba-ffaef0ce0dea",
   "metadata": {},
   "outputs": [],
   "source": [
    "weight = 40.5"
   ]
  },
  {
   "cell_type": "code",
   "execution_count": 19,
   "id": "3c9db507-fa98-41c1-bcd8-31239d52e96e",
   "metadata": {},
   "outputs": [],
   "source": [
    "age = 20"
   ]
  },
  {
   "cell_type": "code",
   "execution_count": 20,
   "id": "68c09890-6161-4fd6-8dc0-05ff3fd26e86",
   "metadata": {},
   "outputs": [],
   "source": [
    "present = True"
   ]
  },
  {
   "cell_type": "markdown",
   "id": "58ea403b-28fd-4a15-852f-7bc066134bc1",
   "metadata": {},
   "source": [
    "### Best practices:\n",
    "- name should be precise\n",
    "- variavle shouldn't contain any sepecial character i:e., \"-, $ # ...\" expect \"_\"\n",
    "- variable name cannot be start with numbers i:e., 0-9"
   ]
  },
  {
   "cell_type": "code",
   "execution_count": null,
   "id": "6b2f3299-d2f4-42b6-857d-53a354c62411",
   "metadata": {},
   "outputs": [],
   "source": []
  }
 ],
 "metadata": {
  "kernelspec": {
   "display_name": "Python 3 (ipykernel)",
   "language": "python",
   "name": "python3"
  },
  "language_info": {
   "codemirror_mode": {
    "name": "ipython",
    "version": 3
   },
   "file_extension": ".py",
   "mimetype": "text/x-python",
   "name": "python",
   "nbconvert_exporter": "python",
   "pygments_lexer": "ipython3",
   "version": "3.12.7"
  }
 },
 "nbformat": 4,
 "nbformat_minor": 5
}
