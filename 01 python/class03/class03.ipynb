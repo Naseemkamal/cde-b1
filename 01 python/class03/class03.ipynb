{
 "cells": [
  {
   "cell_type": "markdown",
   "id": "3dfe1746-5c86-4ed9-a95d-77c5e7ee4871",
   "metadata": {},
   "source": [
    "### Conditional Statements: if elif else"
   ]
  },
  {
   "cell_type": "raw",
   "id": "8e5cd530-f0cc-4fcb-8c31-4528dbfdd8f2",
   "metadata": {},
   "source": [
    "syntax:\n",
    "-------\n",
    "\n",
    "if <condition-TRUE>:\n",
    "    <if-body>\n",
    "else:\n",
    "    <second-body>\n",
    "\n",
    "- body of if-else alweays have 4 spaces/indented\n",
    "- after colon the body will start"
   ]
  },
  {
   "cell_type": "code",
   "execution_count": 6,
   "id": "6de0e86e-650e-4d3b-8f4b-ec740e4002e9",
   "metadata": {},
   "outputs": [
    {
     "name": "stdout",
     "output_type": "stream",
     "text": [
      "True\n",
      "False\n",
      "False\n",
      "True\n",
      "True\n",
      "True\n"
     ]
    }
   ],
   "source": [
    "# conditions operators >, <, ==, >=, <=, !=\n",
    "\n",
    "print(\"Qasim\" == \"Qasim\")\n",
    "print(\"Qasim\" == \"Hassan\")\n",
    "print(18>=22)\n",
    "print(18>=18)\n",
    "print(18<=22)\n",
    "print(\"Qasim\" != \"Hassan\")"
   ]
  },
  {
   "cell_type": "code",
   "execution_count": 13,
   "id": "2e709102-6415-4004-9639-49aee60c53b6",
   "metadata": {},
   "outputs": [
    {
     "name": "stdout",
     "output_type": "stream",
     "text": [
      "True\n",
      "True\n",
      "False\n",
      "True\n",
      "False\n",
      "True\n"
     ]
    }
   ],
   "source": [
    "# logical operartors AND, OR, NOT\n",
    "\n",
    "# AND OPERATOR\n",
    "(\"Qasim\" == \"Qasim\") and (\"Qasim\" != \"Hassan\") # TRUE AND TRUE => TRUE\n",
    "(\"Qasim\" == \"Qasim\") and (\"Qasim\" == \"Hassan\") # TRUE AND FALSE => FALSE\n",
    "(\"Qasim\" == \"Qasim\") and (\"Qasim\" == \"Hassan\") # FALSE AND FALSE => FALSE\n",
    "(\"Qasim\" != \"Qasim\") and (\"Qasim\" != \"Hassan\") # FALSE AND TRUE => FALSE\n",
    "\n",
    "\n",
    "# OR OPERATOR\n",
    "print((\"Qasim\" == \"Qasim\") or (\"Qasim\" != \"Hassan\")) # TRUE AND TRUE => TRUE\n",
    "print((\"Qasim\" == \"Qasim\") or (\"Qasim\" == \"Hassan\")) # TRUE AND FALSE => TURE\n",
    "print((\"Qasim\" != \"Qasim\") or (\"Qasim\" == \"Hassan\")) # FALSE AND FALSE => FALSE\n",
    "print((\"Qasim\" != \"Qasim\") or (\"Qasim\" != \"Hassan\")) # FALSE AND TRUE => TRUE\n",
    "\n",
    "# NOT Operator\n",
    "\n",
    "print(not True)\n",
    "print(not False)"
   ]
  },
  {
   "cell_type": "code",
   "execution_count": 15,
   "id": "b728ef70-8d7e-43c7-9a2e-e727e5957d30",
   "metadata": {},
   "outputs": [
    {
     "name": "stdout",
     "output_type": "stream",
     "text": [
      "Student\n"
     ]
    }
   ],
   "source": [
    "name = \"Hassan\"\n",
    "\n",
    "if name == \"Qasim\":\n",
    "    print(\"Trainer\")\n",
    "else:\n",
    "    print(\"Student\")"
   ]
  },
  {
   "cell_type": "code",
   "execution_count": 17,
   "id": "b4ecbddc-4e7f-4e03-a791-c23253dec4eb",
   "metadata": {},
   "outputs": [
    {
     "name": "stdout",
     "output_type": "stream",
     "text": [
      "staff\n"
     ]
    }
   ],
   "source": [
    "name = \"Shan\"\n",
    "\n",
    "if name == \"Qasim\":\n",
    "    print(\"Trainer\")\n",
    "elif name == \"Shan\":\n",
    "    print(\"Staff\")\n",
    "else:\n",
    "    print(\"Student\")"
   ]
  },
  {
   "cell_type": "code",
   "execution_count": 19,
   "id": "c5b5cb43-7060-40a3-80cb-43bf5d759dc2",
   "metadata": {},
   "outputs": [
    {
     "name": "stdin",
     "output_type": "stream",
     "text": [
      "Enter your name:  Qasim\n"
     ]
    }
   ],
   "source": [
    "# to read docuementation of any function => SHIFT + TAB\n",
    "# by default anythign that input function take is in STRING datatype\n",
    "name = input(\"Enter your name: \")"
   ]
  },
  {
   "cell_type": "code",
   "execution_count": 22,
   "id": "7b192754-0f9b-4c08-9a0b-276cb373cc90",
   "metadata": {},
   "outputs": [
    {
     "name": "stdin",
     "output_type": "stream",
     "text": [
      "Enter your name:  Hassan\n"
     ]
    },
    {
     "name": "stdout",
     "output_type": "stream",
     "text": [
      "Student\n"
     ]
    }
   ],
   "source": [
    "name = input(\"Enter your name: \")\n",
    "\n",
    "if name == \"Qasim\":\n",
    "    print(\"Trainer\")\n",
    "elif name == \"Shan\":\n",
    "    print(\"Staff\")\n",
    "else:\n",
    "    print(\"Student\")"
   ]
  },
  {
   "cell_type": "markdown",
   "id": "fb6700d9-07b9-4e55-b047-9cd27347442a",
   "metadata": {},
   "source": [
    "A company decided to give bonus of 5% to employee if his/her year of service is more than 5 years. Ask user for their salary and year of service and print the net bonus amount."
   ]
  },
  {
   "cell_type": "code",
   "execution_count": 29,
   "id": "a440da6d-817e-4390-b734-1b34bb138f97",
   "metadata": {},
   "outputs": [
    {
     "name": "stdin",
     "output_type": "stream",
     "text": [
      "Write your working experience  3\n"
     ]
    },
    {
     "name": "stdout",
     "output_type": "stream",
     "text": [
      "you are not eligible for bonus\n"
     ]
    }
   ],
   "source": [
    "yearOfExperience = int(input('Write your working experience '))\n",
    "\n",
    "if(yearOfExperience > 5):\n",
    "    salary = int(input('what is your salary '))\n",
    "    print('Your Bonus will be ', 0.05 * salary)\n",
    "else:\n",
    "    print('you are not eligible for bonus')"
   ]
  },
  {
   "cell_type": "markdown",
   "id": "1448d04c-e408-44c8-8cf8-599f9a0570ca",
   "metadata": {},
   "source": [
    "Write a program to check whether a person is eligible for voting or not. (accept age from user) if age is greater than 18 eligible otherwise not eligible"
   ]
  },
  {
   "cell_type": "code",
   "execution_count": 30,
   "id": "4418dfd6-e153-4624-a82b-c2e552eda939",
   "metadata": {},
   "outputs": [
    {
     "name": "stdin",
     "output_type": "stream",
     "text": [
      "Enter your age:  18\n"
     ]
    },
    {
     "name": "stdout",
     "output_type": "stream",
     "text": [
      "yes, You're eligible\n"
     ]
    }
   ],
   "source": [
    "age = int(input(\"Enter your age: \"))\n",
    "\n",
    "if age >=18:\n",
    "    print(\"Yes, You're eligible\")\n",
    "else:\n",
    "    print(\"Nope, You're not eligible\")"
   ]
  },
  {
   "cell_type": "markdown",
   "id": "b35325d9-6f8b-418d-97d3-a01e72772d8f",
   "metadata": {},
   "source": [
    "Write a program to display \"Hello\" if a number entered by user is a multiple of five , otherwise print \"Bye\"."
   ]
  },
  {
   "cell_type": "code",
   "execution_count": 34,
   "id": "22dc6b8c-54d3-4cbd-8d63-8c869f5cb117",
   "metadata": {},
   "outputs": [
    {
     "name": "stdin",
     "output_type": "stream",
     "text": [
      "Enter any number that is divisible by 5:  26\n"
     ]
    },
    {
     "name": "stdout",
     "output_type": "stream",
     "text": [
      "bye\n"
     ]
    }
   ],
   "source": [
    "number = int(input(\"Enter any number that is divisible by 5: \"))\n",
    "\n",
    "if number % 5 == 0:\n",
    "    print(\"hello\")\n",
    "else:\n",
    "    print(\"bye\")"
   ]
  },
  {
   "cell_type": "markdown",
   "id": "04764f90-54e6-4205-a247-a968d589b5e3",
   "metadata": {},
   "source": [
    "A school has following rules for grading system:\n",
    "\n",
    "- Below 25 - F\n",
    "- 25 to 45 - E\n",
    "- 45 to 50 - D\n",
    "- 50 to 60 - C\n",
    "- 60 to 80 - B\n",
    "- Above 80 - A\n",
    "\n",
    "Ask user to enter marks and print the corresponding grade."
   ]
  },
  {
   "cell_type": "code",
   "execution_count": 39,
   "id": "a77ba68c-2242-4613-8703-30b316ee14c2",
   "metadata": {},
   "outputs": [
    {
     "name": "stdin",
     "output_type": "stream",
     "text": [
      "Enter your marks:  80\n"
     ]
    },
    {
     "name": "stdout",
     "output_type": "stream",
     "text": [
      "Grade: A\n"
     ]
    }
   ],
   "source": [
    "marks = int(input(\"Enter your marks: \"))\n",
    "\n",
    "if marks > 80 and marks <= 100:\n",
    "    print(\"Grade: A\")\n",
    "elif marks >= 60 and marks <= 80:\n",
    "    print(\"Grade: B\")\n",
    "elif marks >= 50 and marks < 60:\n",
    "    print(\"Grade: C\")\n",
    "elif marks >= 45 and marks < 50:\n",
    "    print(\"Grade: D\")\n",
    "elif marks >= 25 and marks < 45:\n",
    "    print(\"Grade: E\")\n",
    "elif marks <25 and marks >= 0:\n",
    "    print(\"Grade: F\")\n",
    "else:\n",
    "    print(\"Invalid Input\")"
   ]
  },
  {
   "cell_type": "markdown",
   "id": "aa18dd46-7f3a-46a6-9eae-8667ac8f4604",
   "metadata": {},
   "source": [
    "#### Nested if-else statements"
   ]
  },
  {
   "cell_type": "raw",
   "id": "b3d658d7-0034-4102-9c71-eccacc9f7c50",
   "metadata": {},
   "source": [
    "syntax:\n",
    "-------\n",
    "\n",
    "if <condition-TRUE>:\n",
    "\n",
    "    if <condition-TRUE>:\n",
    "    else:\n",
    "        <second-body>\n",
    "    \n",
    "else:\n",
    "    <second-body>\n",
    "\n",
    "- body of if-else alweays have 4 spaces/indented\n",
    "- after colon the body will start"
   ]
  },
  {
   "cell_type": "code",
   "execution_count": 42,
   "id": "95585456-805c-4554-9bed-2a7c280de5ba",
   "metadata": {},
   "outputs": [
    {
     "name": "stdin",
     "output_type": "stream",
     "text": [
      "Enter your nationality:  Pakistani\n",
      "Enter your age:  12\n"
     ]
    },
    {
     "name": "stdout",
     "output_type": "stream",
     "text": [
      "You're not eligible...\n"
     ]
    }
   ],
   "source": [
    "nationality = input(\"Enter your nationality: \")\n",
    "\n",
    "if nationality.lower() == \"pakistani\":\n",
    "    #nested if\n",
    "    age = int(input(\"Enter your age: \"))\n",
    "    if age >=18:\n",
    "        print(\"You're eligible...\")\n",
    "    else:\n",
    "    print(\"You're not eligible...\")\n",
    "else:\n",
    "    print(\"should be Pakistani to cast VOTE\")"
   ]
  },
  {
   "cell_type": "markdown",
   "id": "0099cc73-a5a8-4059-90c8-40b61956b13a",
   "metadata": {},
   "source": [
    "Ask user to enter age, gender ( M or F ) and then using following rules print their place of service.\n",
    "\n",
    "- if employee is female, then she will work only in urban areas.\n",
    "- if employee is a male and age is in between 20 to 40 then he may work in anywhere\n",
    "- if employee is male and age is in between 40 t0 60 then he will work in urban areas only.\n",
    "\n",
    "And any other input of age should print \"ERROR\""
   ]
  },
  {
   "cell_type": "code",
   "execution_count": 50,
   "id": "495da8c7-1ebc-4ea4-a3be-b8fd025f1686",
   "metadata": {},
   "outputs": [
    {
     "name": "stdin",
     "output_type": "stream",
     "text": [
      "Enter your gender (M or F):  M\n",
      "Enter your age:  19\n"
     ]
    },
    {
     "name": "stdout",
     "output_type": "stream",
     "text": [
      "ERROR: You should be Under age or Should get retired\n"
     ]
    }
   ],
   "source": [
    "gender = input(\"Enter your gender (M or F): \")\n",
    "\n",
    "if gender == \"F\":\n",
    "    print(\"can work only in urban areas.\")\n",
    "else:\n",
    "    age = int(input(\"Enter your age: \"))\n",
    "    if age >= 40 and age <=60:\n",
    "        print(\"Can work in urban areas only.\")\n",
    "    elif age >=20 and age < 40:\n",
    "        print(\"can work anywhere\")\n",
    "    else: \n",
    "        print(\"ERROR: You should be Under age or Should get retired\")"
   ]
  },
  {
   "cell_type": "code",
   "execution_count": 49,
   "id": "b2e17863-b18f-4b7d-a7ee-b4aa166fec74",
   "metadata": {},
   "outputs": [],
   "source": [
    "# comment can be added for docummentation"
   ]
  },
  {
   "cell_type": "code",
   "execution_count": 53,
   "id": "7fe5a377-1980-4f64-b9d9-2ef348f8c298",
   "metadata": {},
   "outputs": [
    {
     "name": "stdout",
     "output_type": "stream",
     "text": [
      "Hello, world!\n"
     ]
    }
   ],
   "source": [
    "\"\"\"\n",
    "this is also comment \n",
    "but it is a multipline comment\n",
    "\"\"\"\n",
    "print(\"Hello, world!\")"
   ]
  },
  {
   "cell_type": "markdown",
   "id": "812aac87-1b73-438a-8693-b95c17a5eece",
   "metadata": {},
   "source": [
    "## Lists"
   ]
  },
  {
   "cell_type": "code",
   "execution_count": 54,
   "id": "c544731f-e066-4f18-8055-47880835ce9e",
   "metadata": {},
   "outputs": [],
   "source": [
    "# How to store sample collection of multiple values\n",
    "city_0 = \"Atlanta\"\n",
    "city_1 = \"Baltimore\"\n",
    "city_2 = \"Chicago\"\n",
    "city_3 = \"Denver\"\n",
    "city_4 = \"Los Angeles\"\n",
    "city_5 = \"Seattle\" # this apporch is not recomended"
   ]
  },
  {
   "cell_type": "code",
   "execution_count": 56,
   "id": "38cf8a7f-ec50-4514-b56e-f1632b4174b0",
   "metadata": {},
   "outputs": [],
   "source": [
    "# list always starts with []\n",
    "# values can be seperated by ,\n",
    "cities = [\"Atlanta\", \"Baltimore\", \"Chicago\", \"Denver\", \"Los Angeles\"]"
   ]
  },
  {
   "cell_type": "code",
   "execution_count": 57,
   "id": "ee1be69f-555e-4dfc-bfbf-1c5723801f58",
   "metadata": {},
   "outputs": [
    {
     "data": {
      "text/plain": [
       "['Atlanta', 'Baltimore', 'Chicago', 'Denver', 'Los Angeles']"
      ]
     },
     "execution_count": 57,
     "metadata": {},
     "output_type": "execute_result"
    }
   ],
   "source": [
    "cities"
   ]
  },
  {
   "cell_type": "markdown",
   "id": "8a83055a-e41c-4f47-a72c-0dd9579ea1eb",
   "metadata": {},
   "source": [
    "### Lists: Taking slices out of them"
   ]
  },
  {
   "cell_type": "code",
   "execution_count": null,
   "id": "3153255a-906b-4fdc-a9cb-d0419f6e981e",
   "metadata": {},
   "outputs": [],
   "source": [
    "#     -5        -4           -3         -2          -1 ( right to left)\n",
    "# ['Atlanta', 'Baltimore', 'Chicago', 'Denver', 'Los Angeles']\n",
    "#    0           1             2         3           4 ( left to right  )"
   ]
  },
  {
   "cell_type": "code",
   "execution_count": 58,
   "id": "c5805184-61a2-4497-a7fa-e50da2f75fba",
   "metadata": {},
   "outputs": [
    {
     "data": {
      "text/plain": [
       "'Denver'"
      ]
     },
     "execution_count": 58,
     "metadata": {},
     "output_type": "execute_result"
    }
   ],
   "source": [
    "cities[3]"
   ]
  },
  {
   "cell_type": "code",
   "execution_count": 59,
   "id": "333d2003-a2fc-43fd-a0d7-a87d0c355f81",
   "metadata": {},
   "outputs": [
    {
     "data": {
      "text/plain": [
       "'Los Angeles'"
      ]
     },
     "execution_count": 59,
     "metadata": {},
     "output_type": "execute_result"
    }
   ],
   "source": [
    "cities[-1]"
   ]
  },
  {
   "cell_type": "code",
   "execution_count": 60,
   "id": "51bf610f-faef-44a8-aa58-20c1a776f8ca",
   "metadata": {},
   "outputs": [
    {
     "data": {
      "text/plain": [
       "['Chicago', 'Denver', 'Los Angeles']"
      ]
     },
     "execution_count": 60,
     "metadata": {},
     "output_type": "execute_result"
    }
   ],
   "source": [
    "cities[2:]"
   ]
  },
  {
   "cell_type": "code",
   "execution_count": 61,
   "id": "c7999b87-8547-4c2c-9132-e588bdbbc64a",
   "metadata": {},
   "outputs": [
    {
     "data": {
      "text/plain": [
       "['Chicago', 'Denver']"
      ]
     },
     "execution_count": 61,
     "metadata": {},
     "output_type": "execute_result"
    }
   ],
   "source": [
    "# slicing\n",
    "# starting value is always been included\n",
    "# end values is always been not included\n",
    "cities[2:4] "
   ]
  },
  {
   "cell_type": "markdown",
   "id": "31ba24fa-3f01-45c4-9fdf-d38ad33c6d9a",
   "metadata": {},
   "source": [
    "### Lists: Adding and changing elements"
   ]
  },
  {
   "cell_type": "code",
   "execution_count": 63,
   "id": "f82b352f-be88-4b13-b21e-cd18ea920d17",
   "metadata": {},
   "outputs": [],
   "source": [
    "cities[0] = \"Karachi\""
   ]
  },
  {
   "cell_type": "code",
   "execution_count": 64,
   "id": "90289930-ebe9-471f-a33c-13f2d490db96",
   "metadata": {},
   "outputs": [
    {
     "data": {
      "text/plain": [
       "['Karachi', 'Baltimore', 'Chicago', 'Denver', 'Los Angeles']"
      ]
     },
     "execution_count": 64,
     "metadata": {},
     "output_type": "execute_result"
    }
   ],
   "source": [
    "cities"
   ]
  },
  {
   "cell_type": "code",
   "execution_count": 67,
   "id": "d0a1b50a-f986-4d3c-99a0-2bfa730f1707",
   "metadata": {},
   "outputs": [],
   "source": [
    "cities = cities + [city_5]"
   ]
  },
  {
   "cell_type": "code",
   "execution_count": 68,
   "id": "c8a0b6f9-19c0-4955-8a49-b840a30a60e6",
   "metadata": {},
   "outputs": [
    {
     "data": {
      "text/plain": [
       "['Karachi', 'Baltimore', 'Chicago', 'Denver', 'Los Angeles', 'Seattle']"
      ]
     },
     "execution_count": 68,
     "metadata": {},
     "output_type": "execute_result"
    }
   ],
   "source": [
    "cities"
   ]
  },
  {
   "cell_type": "code",
   "execution_count": 69,
   "id": "5c04bce7-b1e4-44c9-96e7-1ab4fd06461e",
   "metadata": {},
   "outputs": [],
   "source": [
    "cities.append(\"Atlanta\")"
   ]
  },
  {
   "cell_type": "code",
   "execution_count": 71,
   "id": "9d5b3cb7-cbd3-4db2-9935-2bddbc1a5505",
   "metadata": {},
   "outputs": [
    {
     "name": "stdout",
     "output_type": "stream",
     "text": [
      "['Karachi', 'Baltimore', 'Chicago', 'Denver', 'Los Angeles', 'Seattle', 'Atlanta']\n"
     ]
    }
   ],
   "source": [
    "print(cities)"
   ]
  },
  {
   "cell_type": "markdown",
   "id": "f7a8252e-5740-48bf-a019-3b7f55b7c821",
   "metadata": {},
   "source": [
    "### Lists: Deleting and removing elements"
   ]
  },
  {
   "cell_type": "code",
   "execution_count": 72,
   "id": "addea70f-1c94-4d87-9de4-5e5712da6add",
   "metadata": {},
   "outputs": [
    {
     "data": {
      "text/plain": [
       "['Karachi',\n",
       " 'Baltimore',\n",
       " 'Chicago',\n",
       " 'Denver',\n",
       " 'Los Angeles',\n",
       " 'Seattle',\n",
       " 'Atlanta']"
      ]
     },
     "execution_count": 72,
     "metadata": {},
     "output_type": "execute_result"
    }
   ],
   "source": [
    "cities"
   ]
  },
  {
   "cell_type": "code",
   "execution_count": 73,
   "id": "df4e6b87-cfa7-4c61-831c-671bfab03a55",
   "metadata": {},
   "outputs": [],
   "source": [
    "cities.remove(\"Atlanta\")"
   ]
  },
  {
   "cell_type": "code",
   "execution_count": 74,
   "id": "ec5f86d9-4363-40ad-bc30-b0431ffb562f",
   "metadata": {},
   "outputs": [
    {
     "data": {
      "text/plain": [
       "['Karachi', 'Baltimore', 'Chicago', 'Denver', 'Los Angeles', 'Seattle']"
      ]
     },
     "execution_count": 74,
     "metadata": {},
     "output_type": "execute_result"
    }
   ],
   "source": [
    "cities"
   ]
  },
  {
   "cell_type": "code",
   "execution_count": 75,
   "id": "0a73e9b7-8b21-4b03-95f8-a56c06f2f10d",
   "metadata": {},
   "outputs": [],
   "source": [
    "del cities[-1]"
   ]
  },
  {
   "cell_type": "code",
   "execution_count": 76,
   "id": "c94028c9-ad8f-42f7-9d77-12893e2984c6",
   "metadata": {},
   "outputs": [
    {
     "data": {
      "text/plain": [
       "['Karachi', 'Baltimore', 'Chicago', 'Denver', 'Los Angeles']"
      ]
     },
     "execution_count": 76,
     "metadata": {},
     "output_type": "execute_result"
    }
   ],
   "source": [
    "cities"
   ]
  },
  {
   "cell_type": "markdown",
   "id": "3fd6ae5a-0012-4b3c-8bdf-5d9187c2c31d",
   "metadata": {},
   "source": [
    "### Lists: popping elements"
   ]
  },
  {
   "cell_type": "code",
   "execution_count": 77,
   "id": "e728554e-3aba-40a4-b39b-c95beb861176",
   "metadata": {},
   "outputs": [
    {
     "data": {
      "text/plain": [
       "'Los Angeles'"
      ]
     },
     "execution_count": 77,
     "metadata": {},
     "output_type": "execute_result"
    }
   ],
   "source": [
    "cities.pop()"
   ]
  },
  {
   "cell_type": "code",
   "execution_count": 78,
   "id": "5ccaf0aa-9a25-475b-98e2-82f91d52489d",
   "metadata": {},
   "outputs": [
    {
     "data": {
      "text/plain": [
       "['Karachi', 'Baltimore', 'Chicago', 'Denver']"
      ]
     },
     "execution_count": 78,
     "metadata": {},
     "output_type": "execute_result"
    }
   ],
   "source": [
    "cities"
   ]
  },
  {
   "cell_type": "code",
   "execution_count": 79,
   "id": "bef1b981-0b3c-4682-a0f0-aaa732110ec0",
   "metadata": {},
   "outputs": [],
   "source": [
    "tasks = [\"email Frank\", \"call Sarah\", \"meet with Zach\"]"
   ]
  },
  {
   "cell_type": "code",
   "execution_count": 80,
   "id": "aed93d5d-4208-4e3c-998a-429caa955408",
   "metadata": {},
   "outputs": [],
   "source": [
    "task_done = []"
   ]
  },
  {
   "cell_type": "code",
   "execution_count": 81,
   "id": "4cf44217-aac8-49c5-b7c1-d5ba5abd1a2e",
   "metadata": {},
   "outputs": [],
   "source": [
    "task_done.append(tasks.pop())"
   ]
  },
  {
   "cell_type": "code",
   "execution_count": 82,
   "id": "dec28594-86ae-46ad-9514-a9a3fb7067c6",
   "metadata": {},
   "outputs": [
    {
     "data": {
      "text/plain": [
       "['meet with Zach']"
      ]
     },
     "execution_count": 82,
     "metadata": {},
     "output_type": "execute_result"
    }
   ],
   "source": [
    "task_done"
   ]
  },
  {
   "cell_type": "code",
   "execution_count": 83,
   "id": "74a43a6e-977a-46c5-b640-a4c6a2f85164",
   "metadata": {},
   "outputs": [
    {
     "data": {
      "text/plain": [
       "['email Frank', 'call Sarah']"
      ]
     },
     "execution_count": 83,
     "metadata": {},
     "output_type": "execute_result"
    }
   ],
   "source": [
    "tasks"
   ]
  },
  {
   "cell_type": "code",
   "execution_count": 84,
   "id": "4eaf2811-519e-403e-9f25-eb50d8b2ff54",
   "metadata": {},
   "outputs": [],
   "source": [
    "task_done.append(tasks.pop())"
   ]
  },
  {
   "cell_type": "code",
   "execution_count": 85,
   "id": "7967430e-d869-4db2-b0ad-28ccd48bb0b6",
   "metadata": {},
   "outputs": [
    {
     "data": {
      "text/plain": [
       "['meet with Zach', 'call Sarah']"
      ]
     },
     "execution_count": 85,
     "metadata": {},
     "output_type": "execute_result"
    }
   ],
   "source": [
    "task_done"
   ]
  },
  {
   "cell_type": "code",
   "execution_count": 86,
   "id": "d8000d65-f222-407a-9801-5b6e44ce26ae",
   "metadata": {},
   "outputs": [
    {
     "data": {
      "text/plain": [
       "['email Frank']"
      ]
     },
     "execution_count": 86,
     "metadata": {},
     "output_type": "execute_result"
    }
   ],
   "source": [
    "tasks"
   ]
  },
  {
   "cell_type": "markdown",
   "id": "c8b88970-d006-49d1-8601-ffe7756449b2",
   "metadata": {},
   "source": [
    "### List: Misc"
   ]
  },
  {
   "cell_type": "code",
   "execution_count": 87,
   "id": "a3f15fd9-87da-4a0e-a7d5-ec3fb58610b0",
   "metadata": {},
   "outputs": [],
   "source": [
    "task_done.clear()"
   ]
  },
  {
   "cell_type": "code",
   "execution_count": 88,
   "id": "12fcdd94-069b-4e2d-8ea8-adadea17a784",
   "metadata": {},
   "outputs": [
    {
     "data": {
      "text/plain": [
       "[]"
      ]
     },
     "execution_count": 88,
     "metadata": {},
     "output_type": "execute_result"
    }
   ],
   "source": [
    "task_done"
   ]
  },
  {
   "cell_type": "code",
   "execution_count": 89,
   "id": "a1a0f718-fb3d-41ca-80ea-1dd195b84a8c",
   "metadata": {},
   "outputs": [
    {
     "data": {
      "text/plain": [
       "1"
      ]
     },
     "execution_count": 89,
     "metadata": {},
     "output_type": "execute_result"
    }
   ],
   "source": [
    "cities.count(\"Karachi\")"
   ]
  },
  {
   "cell_type": "code",
   "execution_count": null,
   "id": "11f0bee8-22a1-4263-b2a2-90b7c2daebce",
   "metadata": {},
   "outputs": [],
   "source": []
  }
 ],
 "metadata": {
  "kernelspec": {
   "display_name": "Python 3 (ipykernel)",
   "language": "python",
   "name": "python3"
  },
  "language_info": {
   "codemirror_mode": {
    "name": "ipython",
    "version": 3
   },
   "file_extension": ".py",
   "mimetype": "text/x-python",
   "name": "python",
   "nbconvert_exporter": "python",
   "pygments_lexer": "ipython3",
   "version": "3.12.7"
  }
 },
 "nbformat": 4,
 "nbformat_minor": 5
}
