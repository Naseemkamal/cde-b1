{
 "cells": [
  {
   "cell_type": "markdown",
   "id": "4a5edaf0-ee7c-4c7b-befd-eba1e2fb2bf9",
   "metadata": {},
   "source": [
    "## While Loop"
   ]
  },
  {
   "cell_type": "raw",
   "id": "d3dfddef-9267-456b-b0cf-f2ac3ac63304",
   "metadata": {},
   "source": [
    "syntax:\n",
    "-------\n",
    "\n",
    "while <cond-true>:\n",
    "    <body>"
   ]
  },
  {
   "cell_type": "code",
   "execution_count": 2,
   "id": "41b8988e-d9cb-4287-bada-4b9d91d1fbdf",
   "metadata": {},
   "outputs": [
    {
     "name": "stdin",
     "output_type": "stream",
     "text": [
      "enter a city name:  quette\n"
     ]
    },
    {
     "name": "stdout",
     "output_type": "stream",
     "text": [
      "quette is not a clean city\n"
     ]
    },
    {
     "name": "stdin",
     "output_type": "stream",
     "text": [
      "enter a city name:  peshawar\n"
     ]
    },
    {
     "name": "stdout",
     "output_type": "stream",
     "text": [
      "peshawar is not a clean city\n"
     ]
    },
    {
     "name": "stdin",
     "output_type": "stream",
     "text": [
      "enter a city name:  karachi\n"
     ]
    },
    {
     "name": "stdout",
     "output_type": "stream",
     "text": [
      "karachi is a clean city\n"
     ]
    }
   ],
   "source": [
    "clean_cities = ['karachi', 'lahore',  'islamabad']\n",
    "\n",
    "temp= True\n",
    "while temp:\n",
    "    city = input(\"enter a city name: \")\n",
    "    if city in clean_cities:\n",
    "        print(f'{city} is a clean city')\n",
    "        temp = False\n",
    "    else:\n",
    "        print(f'{city} is not a clean city')"
   ]
  },
  {
   "cell_type": "raw",
   "id": "6ef353b1-a866-4f26-a05e-1c8deb27669b",
   "metadata": {},
   "source": [
    "Question: Write a program that print +\n",
    "the factorical of a number using while loop."
   ]
  },
  {
   "cell_type": "code",
   "execution_count": 6,
   "id": "adb82705-8354-4286-ad81-86cd51e0734e",
   "metadata": {},
   "outputs": [
    {
     "name": "stdin",
     "output_type": "stream",
     "text": [
      "enter the number: 5\n"
     ]
    },
    {
     "name": "stdout",
     "output_type": "stream",
     "text": [
      "120\n"
     ]
    }
   ],
   "source": [
    "number=int(input(\"enter the number:\")) # 5 4 3 2 1\n",
    "fac=1\n",
    "while number >1:\n",
    "    fac*=number\n",
    "    number-=1\n",
    "print(fac)"
   ]
  },
  {
   "cell_type": "raw",
   "id": "64555104-be9e-4b98-a8eb-331e1d18f13d",
   "metadata": {},
   "source": [
    "Question: Write a program to enter the number till the user enter ZERO and at the end it should display the count of positive and negative numbers entered."
   ]
  },
  {
   "cell_type": "code",
   "execution_count": 4,
   "id": "8479d16d-f728-4a9d-8044-3982facc2fba",
   "metadata": {},
   "outputs": [
    {
     "name": "stdin",
     "output_type": "stream",
     "text": [
      "Enter the number:  1\n",
      "Enter the number:  2\n",
      "Enter the number:  3\n",
      "Enter the number:  4\n",
      "Enter the number:  5\n",
      "Enter the number:  0\n"
     ]
    },
    {
     "name": "stdout",
     "output_type": "stream",
     "text": [
      "15\n"
     ]
    }
   ],
   "source": [
    "flag = True\n",
    "sum = 0\n",
    "while(flag):\n",
    "    num = int(input(\"Enter the number: \"))\n",
    "    if(num !=0):\n",
    "        sum+=num\n",
    "    else:\n",
    "        flag = False\n",
    "\n",
    "print(sum)\n",
    "    "
   ]
  },
  {
   "cell_type": "raw",
   "id": "a7c8df56-ff33-429e-b7cd-22f8b7760bcb",
   "metadata": {},
   "source": [
    "Question: Write a program to check to keep on checking the the word until the word is palindrome."
   ]
  },
  {
   "cell_type": "code",
   "execution_count": 5,
   "id": "8ce897f6-01b3-4948-8aff-c79f825400e0",
   "metadata": {
    "scrolled": true
   },
   "outputs": [
    {
     "name": "stdin",
     "output_type": "stream",
     "text": [
      "Enter word asher\n",
      "Enter word rehman\n",
      "Enter word civic\n"
     ]
    },
    {
     "name": "stdout",
     "output_type": "stream",
     "text": [
      "civic palindrome found\n"
     ]
    }
   ],
   "source": [
    "while True:\n",
    "    inp = input(\"Enter word\")\n",
    "    if inp == inp[::-1]:\n",
    "        print(f\"{inp} palindrome found\")\n",
    "        break\n",
    "    else:\n",
    "        continue"
   ]
  },
  {
   "cell_type": "markdown",
   "id": "56f97154-a5dc-409d-a79d-03e7cddc2398",
   "metadata": {},
   "source": [
    "## Data files"
   ]
  },
  {
   "cell_type": "raw",
   "id": "6714a610-88ed-46db-b4e6-9d785ae8751a",
   "metadata": {},
   "source": [
    "========= ===============================================================\n",
    "Character Meaning\n",
    "--------- ---------------------------------------------------------------\n",
    "'r'       open for reading (default)\n",
    "'w'       open for writing, truncating the file first\n",
    "'x'       create a new file and open it for writing\n",
    "'a'       open for writing, appending to the end of the file if it exists\n",
    "'w+'      Write and Read Mode in Python\n",
    "'a+'      Append and Read Mode in Python\n",
    "'r+'      Read and apppend Mode in Python\n",
    "'b'       binary mode\n",
    "'t'       text mode (default)\n",
    "'+'       open a disk file for updating (reading and writing)\n",
    "========= ==============================================================="
   ]
  },
  {
   "cell_type": "markdown",
   "id": "e37b8481-d5e3-4447-8533-7df1b1b52f34",
   "metadata": {},
   "source": [
    "### Writing data"
   ]
  },
  {
   "cell_type": "code",
   "execution_count": 15,
   "id": "ef446c27-7aeb-404a-b48c-d5ec4deae681",
   "metadata": {},
   "outputs": [],
   "source": [
    "with open('../class08/file_handling.txt', 'w') as file:\n",
    "    file.write('writing into file with w as input')"
   ]
  },
  {
   "cell_type": "markdown",
   "id": "d3f7ea5c-6298-425c-b1a0-519dd997e62c",
   "metadata": {},
   "source": [
    "### Appending data"
   ]
  },
  {
   "cell_type": "code",
   "execution_count": 25,
   "id": "bc0e8442-991c-41dc-a090-fb3897604a88",
   "metadata": {},
   "outputs": [],
   "source": [
    "with open('../class08/file_handling.txt', 'a') as file:\n",
    "    # print('writing into file with a (append) as input', file=file)\n",
    "    file.writelines('writing into file with a (append) as input\\n')"
   ]
  },
  {
   "cell_type": "markdown",
   "id": "504364b5-bbb9-42b6-8f98-0a1625ab3bbe",
   "metadata": {},
   "source": [
    "### Reading data"
   ]
  },
  {
   "cell_type": "code",
   "execution_count": 27,
   "id": "aa88294f-da9a-4bb7-ac4d-386bc610eff9",
   "metadata": {},
   "outputs": [],
   "source": [
    "with open('../class08/file_handling.txt', 'r') as file:\n",
    "    file_content = file.read()"
   ]
  },
  {
   "cell_type": "code",
   "execution_count": 28,
   "id": "770c6012-c385-4c86-8e72-cb94fda807c5",
   "metadata": {},
   "outputs": [
    {
     "name": "stdout",
     "output_type": "stream",
     "text": [
      "writing into file with a (append) as input\n",
      "writing into file with a (append) as input\n",
      "writing into file with a (append) as input\n",
      "writing into file with a (append) as input\n",
      "\n"
     ]
    }
   ],
   "source": [
    "print(file_content)"
   ]
  },
  {
   "cell_type": "code",
   "execution_count": 29,
   "id": "d728be2b-5670-4ff3-93c2-546c4e2ff93b",
   "metadata": {},
   "outputs": [
    {
     "data": {
      "text/plain": [
       "str"
      ]
     },
     "execution_count": 29,
     "metadata": {},
     "output_type": "execute_result"
    }
   ],
   "source": [
    "type(file_content)"
   ]
  },
  {
   "cell_type": "raw",
   "id": "c5ea85e5-b890-4d11-b352-7b14532815ac",
   "metadata": {},
   "source": [
    "Question: Write a Python program to count the number of lines in a text file."
   ]
  },
  {
   "cell_type": "raw",
   "id": "c441254a-ae11-4090-81ba-11a0fe12dcb1",
   "metadata": {},
   "source": [
    "Question: Write a Python program to copy the contents of a file to another file ."
   ]
  },
  {
   "cell_type": "raw",
   "id": "b8ba913d-d2b0-4790-aeed-e298a2dbca09",
   "metadata": {},
   "source": [
    "Question: Write a Python program to replace () with [] in a file."
   ]
  },
  {
   "cell_type": "code",
   "execution_count": 36,
   "id": "31308b5f-979c-432a-a375-b762c6f3dee6",
   "metadata": {},
   "outputs": [],
   "source": [
    "with open(\"../class08/file_handling.txt\",\"r\") as file:\n",
    "    a = file.read().replace(\"(append)\",\"[append]\")\n",
    "    with open(\"../class08/file_handling.txt\",\"w\") as file:\n",
    "        file.write(a)"
   ]
  },
  {
   "cell_type": "markdown",
   "id": "c8c88c88-6b4c-4388-8a1c-75613d80d06f",
   "metadata": {},
   "source": [
    "### Write and Read Mode in Python with ‘w+’"
   ]
  },
  {
   "cell_type": "code",
   "execution_count": 37,
   "id": "b628b8aa-3ff1-473c-9d68-c0eafe038db3",
   "metadata": {},
   "outputs": [
    {
     "name": "stdout",
     "output_type": "stream",
     "text": [
      "This will overwrite existing content\n"
     ]
    }
   ],
   "source": [
    "with open('example.txt', 'w+') as file:\n",
    "    file.write('This will overwrite existing content')\n",
    "    file.seek(0)  # Move the pointer to the beginning\n",
    "    content = file.read()\n",
    "    print(content)"
   ]
  },
  {
   "cell_type": "markdown",
   "id": "67a96bf3-7f61-42eb-a1e6-68d4fd5298fa",
   "metadata": {},
   "source": [
    "### Append and Read Mode in Python with ‘a+’"
   ]
  },
  {
   "cell_type": "code",
   "execution_count": 39,
   "id": "2ca38d79-b399-4ebf-8d5e-d720047f3068",
   "metadata": {},
   "outputs": [
    {
     "name": "stdout",
     "output_type": "stream",
     "text": [
      "This will overwrite existing content\n",
      "This will apppend content with exixting content\n"
     ]
    }
   ],
   "source": [
    "with open('example.txt', 'a+') as file:\n",
    "    file.write('\\nThis will apppend content with exixting content')\n",
    "    file.seek(0)  # Move the pointer to the beginning\n",
    "    content = file.read()\n",
    "    print(content)"
   ]
  },
  {
   "cell_type": "markdown",
   "id": "5899da87-48d6-4a2e-a2e6-1b68e0021eaf",
   "metadata": {},
   "source": [
    "### Read and Write(apppend) Mode in Python with ‘r+’"
   ]
  },
  {
   "cell_type": "code",
   "execution_count": 40,
   "id": "796e9042-7f44-4c7b-8724-5b1c3b2ca176",
   "metadata": {},
   "outputs": [
    {
     "name": "stdout",
     "output_type": "stream",
     "text": [
      "This will overwrite existing content\n",
      "This will apppend content with exixting content\n"
     ]
    }
   ],
   "source": [
    "with open('example.txt', 'r+') as file:\n",
    "    content = file.read()\n",
    "    print(content)\n",
    "    file.write('\\nAppending new content')"
   ]
  },
  {
   "cell_type": "markdown",
   "id": "6ccaa689-4a49-4e79-aab4-accc9bf13ede",
   "metadata": {},
   "source": [
    "## Modules"
   ]
  },
  {
   "cell_type": "code",
   "execution_count": 41,
   "id": "ec0dc1eb-8cce-4a1a-b50e-679d2b930365",
   "metadata": {},
   "outputs": [
    {
     "name": "stdin",
     "output_type": "stream",
     "text": [
      "Enter your Salary:  50000\n"
     ]
    },
    {
     "data": {
      "text/plain": [
       "57500.0"
      ]
     },
     "execution_count": 41,
     "metadata": {},
     "output_type": "execute_result"
    }
   ],
   "source": [
    "from calculations import calculate_salary\n",
    "\n",
    "salary = float(input(\"Enter your Salary: \"))\n",
    "calculate_salary(salary=salary)"
   ]
  },
  {
   "cell_type": "markdown",
   "id": "cfee585c-5b2b-4ac1-8246-176af99b1e96",
   "metadata": {},
   "source": [
    "## CSV files\n",
    "- comma seperated files"
   ]
  },
  {
   "cell_type": "markdown",
   "id": "ceef6a61-8eea-4109-827d-92fb6cb501a9",
   "metadata": {},
   "source": [
    "### reading"
   ]
  },
  {
   "cell_type": "code",
   "execution_count": 43,
   "id": "0ad3bed2-8a5e-43cc-a9a2-dd194fbadd13",
   "metadata": {},
   "outputs": [
    {
     "name": "stdout",
     "output_type": "stream",
     "text": [
      "Year,Event,Winner\n",
      "1995,Best-Kept Lawn,None\n",
      "1999,Gobstones,Welch Nationional\n",
      "2006,World Cup,Burkina Faso\n"
     ]
    }
   ],
   "source": [
    "# same as previous\n",
    "with open('./data.csv') as file: # by default mode='r'\n",
    "    content = file.read()\n",
    "    print(content)"
   ]
  },
  {
   "cell_type": "code",
   "execution_count": 47,
   "id": "e3a50de4-f6d2-4a9a-8c3b-f0b2bff31298",
   "metadata": {},
   "outputs": [],
   "source": [
    "# METHOD:II with module csv\n",
    "import csv\n",
    "with open('./data.csv') as file: # by default mode='r'\n",
    "    content_obj = csv.reader(file)\n",
    "    content = []\n",
    "    for line in content_obj:\n",
    "        content.append(line)"
   ]
  },
  {
   "cell_type": "code",
   "execution_count": 48,
   "id": "b87eab45-8297-410e-b76a-386d451f62dd",
   "metadata": {},
   "outputs": [
    {
     "data": {
      "text/plain": [
       "[['Year', 'Event', 'Winner'],\n",
       " ['1995', 'Best-Kept Lawn', 'None'],\n",
       " ['1999', 'Gobstones', 'Welch Nationional'],\n",
       " ['2006', 'World Cup', 'Burkina Faso']]"
      ]
     },
     "execution_count": 48,
     "metadata": {},
     "output_type": "execute_result"
    }
   ],
   "source": [
    "content"
   ]
  },
  {
   "cell_type": "code",
   "execution_count": 50,
   "id": "c2bf2741-b569-4d22-975e-bd56f51e1092",
   "metadata": {},
   "outputs": [
    {
     "data": {
      "text/plain": [
       "['2006', 'World Cup', 'Burkina Faso']"
      ]
     },
     "execution_count": 50,
     "metadata": {},
     "output_type": "execute_result"
    }
   ],
   "source": [
    "content[3]"
   ]
  },
  {
   "cell_type": "code",
   "execution_count": 51,
   "id": "3fd9b156-b430-4869-b780-85e4c83f8f92",
   "metadata": {},
   "outputs": [
    {
     "data": {
      "text/plain": [
       "'Best-Kept Lawn'"
      ]
     },
     "execution_count": 51,
     "metadata": {},
     "output_type": "execute_result"
    }
   ],
   "source": [
    "content[1][1]"
   ]
  },
  {
   "cell_type": "markdown",
   "id": "7a946c62-c5ed-41c4-a80e-756540eae0c0",
   "metadata": {},
   "source": [
    "### writing"
   ]
  },
  {
   "cell_type": "code",
   "execution_count": 56,
   "id": "f093376b-bc9a-45bb-a869-b70fdedabc93",
   "metadata": {},
   "outputs": [],
   "source": [
    "import csv\n",
    "row = [['Year', 'Event', 'Winner'],\n",
    "       ['1995', 'Best-Kept Lawn', 'None'],\n",
    "       ['1999', 'Gobstones', 'Welch Nationional'],\n",
    "       ['2006', 'World Cup', 'Burkina Faso']]\n",
    "with open('./data.csv', 'w') as file:\n",
    "    writer_obj = csv.writer(file)\n",
    "    writer_obj.writerows(row)"
   ]
  },
  {
   "cell_type": "markdown",
   "id": "28276877-f39d-4ca3-b7a8-150fd16d916e",
   "metadata": {},
   "source": [
    "### append"
   ]
  },
  {
   "cell_type": "code",
   "execution_count": 57,
   "id": "1dd9b46e-e74b-4e2d-b97a-9e856b122b97",
   "metadata": {},
   "outputs": [],
   "source": [
    "import csv\n",
    "row = ['2007', 'Saylani Competition', 'Huzaifa']\n",
    "with open('./data.csv', 'a') as file:\n",
    "    writer_obj = csv.writer(file)\n",
    "    writer_obj.writerow(row)"
   ]
  },
  {
   "cell_type": "code",
   "execution_count": null,
   "id": "1078b454-34ea-4d15-8306-a3ef42f16e7b",
   "metadata": {},
   "outputs": [],
   "source": []
  }
 ],
 "metadata": {
  "kernelspec": {
   "display_name": "Python 3 (ipykernel)",
   "language": "python",
   "name": "python3"
  },
  "language_info": {
   "codemirror_mode": {
    "name": "ipython",
    "version": 3
   },
   "file_extension": ".py",
   "mimetype": "text/x-python",
   "name": "python",
   "nbconvert_exporter": "python",
   "pygments_lexer": "ipython3",
   "version": "3.12.7"
  }
 },
 "nbformat": 4,
 "nbformat_minor": 5
}
