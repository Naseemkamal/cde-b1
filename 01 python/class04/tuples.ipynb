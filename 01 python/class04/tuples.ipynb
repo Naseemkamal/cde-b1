{
 "cells": [
  {
   "cell_type": "markdown",
   "id": "ee189ddd-0e43-403d-88b2-9e43333dafb3",
   "metadata": {},
   "source": [
    "Tuples"
   ]
  },
  {
   "cell_type": "code",
   "execution_count": 1,
   "id": "c8c79c46-89b8-413a-8605-da1826cf9da6",
   "metadata": {},
   "outputs": [],
   "source": [
    "# Start with ()\n",
    "# Immutable, can't change \n",
    "# Ordered elements "
   ]
  },
  {
   "cell_type": "code",
   "execution_count": 3,
   "id": "ffe9d88d-abed-4bff-8846-ec3fff09ddd7",
   "metadata": {},
   "outputs": [
    {
     "data": {
      "text/plain": [
       "(1, 2, 3, 4)"
      ]
     },
     "execution_count": 3,
     "metadata": {},
     "output_type": "execute_result"
    }
   ],
   "source": [
    "first_tuple = (1,2,3,4)\n",
    "first_tuple"
   ]
  },
  {
   "cell_type": "code",
   "execution_count": 7,
   "id": "5c0e9a4c-4d32-4a74-ac80-d575f041ef3f",
   "metadata": {},
   "outputs": [],
   "source": [
    "multiple_datatype =  (1,\"tuple\",0.32)"
   ]
  },
  {
   "cell_type": "code",
   "execution_count": 9,
   "id": "cddd51db-b1f3-42d2-957d-567f298da91e",
   "metadata": {},
   "outputs": [
    {
     "name": "stdout",
     "output_type": "stream",
     "text": [
      "<class 'tuple'>\n"
     ]
    }
   ],
   "source": [
    "print(type(multiple_datatype))"
   ]
  },
  {
   "cell_type": "code",
   "execution_count": 11,
   "id": "c18ee2ce-2bb0-4eb2-99b3-4b6c87e3aeb0",
   "metadata": {},
   "outputs": [
    {
     "name": "stdout",
     "output_type": "stream",
     "text": [
      "<class 'int'>\n"
     ]
    }
   ],
   "source": [
    "single_tuple = (1)\n",
    "print(type(single_tuple))"
   ]
  },
  {
   "cell_type": "code",
   "execution_count": 12,
   "id": "66f28b21-bc66-4854-a244-2257d42b42c3",
   "metadata": {},
   "outputs": [
    {
     "name": "stdout",
     "output_type": "stream",
     "text": [
      "<class 'tuple'>\n"
     ]
    }
   ],
   "source": [
    "single_tuple = (1,)\n",
    "print(type(single_tuple))"
   ]
  },
  {
   "cell_type": "code",
   "execution_count": 18,
   "id": "56e202ce-5895-483c-b96b-d15e0d87b27e",
   "metadata": {},
   "outputs": [],
   "source": [
    "new_tuple = (\"Qasim\",\"Ayan\",\"Faisal\",\"Uzair\",\"hamza\")"
   ]
  },
  {
   "cell_type": "code",
   "execution_count": 15,
   "id": "cb6823ab-06ad-47c5-a2ad-6b16b0103f3d",
   "metadata": {},
   "outputs": [
    {
     "data": {
      "text/plain": [
       "'hamza'"
      ]
     },
     "execution_count": 15,
     "metadata": {},
     "output_type": "execute_result"
    }
   ],
   "source": [
    "new_tuple[4]"
   ]
  },
  {
   "cell_type": "code",
   "execution_count": 17,
   "id": "95296f8d-39dc-480f-8aaf-60937404ab9f",
   "metadata": {},
   "outputs": [
    {
     "data": {
      "text/plain": [
       "('Ayan', 'Faisal', 'Uzair', 'hamza')"
      ]
     },
     "execution_count": 17,
     "metadata": {},
     "output_type": "execute_result"
    }
   ],
   "source": [
    "new_tuple[1:]"
   ]
  },
  {
   "cell_type": "code",
   "execution_count": 19,
   "id": "60fd03c6-819d-4796-9ad2-e71320647b9c",
   "metadata": {},
   "outputs": [
    {
     "data": {
      "text/plain": [
       "('Qasim', 'Ayan', 'Faisal')"
      ]
     },
     "execution_count": 19,
     "metadata": {},
     "output_type": "execute_result"
    }
   ],
   "source": [
    "new_tuple[:3]"
   ]
  },
  {
   "cell_type": "code",
   "execution_count": 26,
   "id": "05c13e86-19d0-432f-8901-7a7e486c8255",
   "metadata": {},
   "outputs": [
    {
     "data": {
      "text/plain": [
       "('hamza', 'Uzair', 'Faisal')"
      ]
     },
     "execution_count": 26,
     "metadata": {},
     "output_type": "execute_result"
    }
   ],
   "source": [
    "new_tuple[-1:-4:-1]"
   ]
  },
  {
   "cell_type": "code",
   "execution_count": 27,
   "id": "fb30812c-8831-4da8-bffd-6b1fa581be34",
   "metadata": {},
   "outputs": [
    {
     "ename": "TypeError",
     "evalue": "'tuple' object does not support item assignment",
     "output_type": "error",
     "traceback": [
      "\u001b[1;31m---------------------------------------------------------------------------\u001b[0m",
      "\u001b[1;31mTypeError\u001b[0m                                 Traceback (most recent call last)",
      "Cell \u001b[1;32mIn[27], line 1\u001b[0m\n\u001b[1;32m----> 1\u001b[0m \u001b[43mnew_tuple\u001b[49m\u001b[43m[\u001b[49m\u001b[38;5;241;43m0\u001b[39;49m\u001b[43m]\u001b[49m\u001b[38;5;241m=\u001b[39m\u001b[38;5;124m'\u001b[39m\u001b[38;5;124mUzair\u001b[39m\u001b[38;5;124m'\u001b[39m\n",
      "\u001b[1;31mTypeError\u001b[0m: 'tuple' object does not support item assignment"
     ]
    }
   ],
   "source": [
    "new_tuple[0]='Uzair'"
   ]
  },
  {
   "cell_type": "markdown",
   "id": "c2fa19ab-d36d-436a-9a38-19ffec90457a",
   "metadata": {},
   "source": [
    "Functionalities"
   ]
  },
  {
   "cell_type": "code",
   "execution_count": 32,
   "id": "b20b6ef1-273f-4ab8-b2a8-1c07ff680b1e",
   "metadata": {},
   "outputs": [
    {
     "name": "stdout",
     "output_type": "stream",
     "text": [
      "104\n",
      "80\n"
     ]
    }
   ],
   "source": [
    "import sys \n",
    "\n",
    "listt = [\"Qasim\",\"Ayan\",\"Faisal\",\"Uzair\",\"hamza\"]\n",
    "tupple = (\"Qasim\",\"Qasim\",\"Faisal\",\"Uzair\",\"hamza\")\n",
    "\n",
    "print(sys.getsizeof(listt))\n",
    "print(sys.getsizeof(tupple))"
   ]
  },
  {
   "cell_type": "markdown",
   "id": "17556b90-a9c8-4540-8752-0daeef12891e",
   "metadata": {},
   "source": [
    "tuple is more faster and efficient"
   ]
  },
  {
   "cell_type": "code",
   "execution_count": 33,
   "id": "d5bb62e8-62b1-4012-875d-efe9611fc789",
   "metadata": {},
   "outputs": [
    {
     "data": {
      "text/plain": [
       "2"
      ]
     },
     "execution_count": 33,
     "metadata": {},
     "output_type": "execute_result"
    }
   ],
   "source": [
    "tupple.count(\"Qasim\")"
   ]
  },
  {
   "cell_type": "code",
   "execution_count": 34,
   "id": "9a3fa563-9e74-4266-a29a-15bd558bfd1d",
   "metadata": {},
   "outputs": [
    {
     "data": {
      "text/plain": [
       "2"
      ]
     },
     "execution_count": 34,
     "metadata": {},
     "output_type": "execute_result"
    }
   ],
   "source": [
    "tupple.index(\"Faisal\")"
   ]
  },
  {
   "cell_type": "markdown",
   "id": "54878a1d-bb13-418d-98ef-a6c7f5477f32",
   "metadata": {},
   "source": [
    "Nested tuple"
   ]
  },
  {
   "cell_type": "code",
   "execution_count": 35,
   "id": "be597b13-fe60-4166-b997-7ad03cd2ebca",
   "metadata": {},
   "outputs": [],
   "source": [
    "# [1,2,[5,6,6],2,3] Nested List\n",
    "# (1,2,3,(6,7,8,9),012) nested tuple"
   ]
  },
  {
   "cell_type": "code",
   "execution_count": 38,
   "id": "c5124d6d-5755-48c8-9b0c-648069d5b55e",
   "metadata": {},
   "outputs": [
    {
     "data": {
      "text/plain": [
       "(6, 7, 8, 9)"
      ]
     },
     "execution_count": 38,
     "metadata": {},
     "output_type": "execute_result"
    }
   ],
   "source": [
    "nested_tuple  = (1,2,3,(6,7,8,9),12)\n",
    "nested_tuple[3]"
   ]
  },
  {
   "cell_type": "code",
   "execution_count": 40,
   "id": "bebfbec8-9006-4b5a-bdec-96b7de14746d",
   "metadata": {},
   "outputs": [
    {
     "data": {
      "text/plain": [
       "8"
      ]
     },
     "execution_count": 40,
     "metadata": {},
     "output_type": "execute_result"
    }
   ],
   "source": [
    "nested_tuple[3][2]"
   ]
  },
  {
   "cell_type": "code",
   "execution_count": 41,
   "id": "a02402ce-8466-4361-96bb-a224f96d04ef",
   "metadata": {},
   "outputs": [
    {
     "data": {
      "text/plain": [
       "9"
      ]
     },
     "execution_count": 41,
     "metadata": {},
     "output_type": "execute_result"
    }
   ],
   "source": [
    "nested_tuple[3][3]"
   ]
  },
  {
   "cell_type": "markdown",
   "id": "9a9e9a20-a29e-406f-baa3-9c8918dcb9e4",
   "metadata": {},
   "source": [
    "SETS"
   ]
  },
  {
   "cell_type": "code",
   "execution_count": 42,
   "id": "76af2eed-146b-4124-98fe-322f4ef47b85",
   "metadata": {},
   "outputs": [
    {
     "data": {
      "text/plain": [
       "{1, 2, 5, 34}"
      ]
     },
     "execution_count": 42,
     "metadata": {},
     "output_type": "execute_result"
    }
   ],
   "source": [
    "# unordered\n",
    "# Unique values\n",
    "\n",
    "first_set={1,2,34,5,1} # Fist method\n",
    "first_set\n"
   ]
  },
  {
   "cell_type": "code",
   "execution_count": 46,
   "id": "e5c04196-f45e-4c97-8aea-a1a189f998ca",
   "metadata": {},
   "outputs": [
    {
     "data": {
      "text/plain": [
       "{1, 2, 5, 34}"
      ]
     },
     "execution_count": 46,
     "metadata": {},
     "output_type": "execute_result"
    }
   ],
   "source": [
    "first_set"
   ]
  },
  {
   "cell_type": "code",
   "execution_count": 47,
   "id": "65343353-33b0-4cc5-b8aa-dccff2b6e04d",
   "metadata": {},
   "outputs": [
    {
     "data": {
      "text/plain": [
       "{1, 2, 5, 34}"
      ]
     },
     "execution_count": 47,
     "metadata": {},
     "output_type": "execute_result"
    }
   ],
   "source": [
    "# 2nd Method \n",
    "\n",
    "second_set = set([1,2,34,5,1])\n",
    "second_set\n"
   ]
  },
  {
   "cell_type": "code",
   "execution_count": 48,
   "id": "1dab69df-699e-4e60-a3f8-95596a33e180",
   "metadata": {},
   "outputs": [
    {
     "ename": "TypeError",
     "evalue": "'set' object is not subscriptable",
     "output_type": "error",
     "traceback": [
      "\u001b[1;31m---------------------------------------------------------------------------\u001b[0m",
      "\u001b[1;31mTypeError\u001b[0m                                 Traceback (most recent call last)",
      "Cell \u001b[1;32mIn[48], line 1\u001b[0m\n\u001b[1;32m----> 1\u001b[0m \u001b[43msecond_set\u001b[49m\u001b[43m[\u001b[49m\u001b[38;5;241;43m0\u001b[39;49m\u001b[43m]\u001b[49m\n",
      "\u001b[1;31mTypeError\u001b[0m: 'set' object is not subscriptable"
     ]
    }
   ],
   "source": [
    "second_set[0]"
   ]
  },
  {
   "cell_type": "markdown",
   "id": "a4a0fddf-6412-49af-a684-4d4d04696522",
   "metadata": {},
   "source": [
    "For Loops"
   ]
  },
  {
   "cell_type": "code",
   "execution_count": null,
   "id": "4b4cd3fc-8a7e-45d5-a671-768c2490b74a",
   "metadata": {},
   "outputs": [],
   "source": [
    "# Syntax\n",
    "\n",
    "# for variable in iterator:\n",
    "#     code block"
   ]
  },
  {
   "cell_type": "code",
   "execution_count": 57,
   "id": "273f1d60-2e9a-4d17-8880-f1271b08eb20",
   "metadata": {},
   "outputs": [
    {
     "name": "stdout",
     "output_type": "stream",
     "text": [
      "Qasim\n",
      "Ayan\n",
      "Faisal\n",
      "Uzair\n",
      "hamza\n"
     ]
    }
   ],
   "source": [
    "listt = [\"Qasim\",\"Ayan\",\"Faisal\",\"Uzair\",\"hamza\"]\n",
    "\n",
    "for i in listt:\n",
    "    print(i)"
   ]
  },
  {
   "cell_type": "code",
   "execution_count": 58,
   "id": "ad0845e2-d217-486f-8143-64d55dab8dd9",
   "metadata": {},
   "outputs": [
    {
     "name": "stdout",
     "output_type": "stream",
     "text": [
      "5\n"
     ]
    }
   ],
   "source": [
    "print(len(listt))"
   ]
  },
  {
   "cell_type": "code",
   "execution_count": 59,
   "id": "3872c246-a5d7-4ded-bde7-a8503befb6b7",
   "metadata": {},
   "outputs": [
    {
     "name": "stdout",
     "output_type": "stream",
     "text": [
      "0\n",
      "1\n",
      "2\n",
      "3\n",
      "4\n",
      "5\n",
      "6\n",
      "7\n",
      "8\n",
      "9\n",
      "10\n"
     ]
    }
   ],
   "source": [
    "# range function \n",
    "for i in range(11): # 0 to 9\n",
    "    print(i)"
   ]
  },
  {
   "cell_type": "code",
   "execution_count": 64,
   "id": "b526a6c5-e3ec-4a72-bd00-fcb8551bb8ad",
   "metadata": {},
   "outputs": [
    {
     "name": "stdout",
     "output_type": "stream",
     "text": [
      "0 Qasim\n",
      "1 Ayan\n",
      "2 Faisal\n",
      "3 Uzair\n",
      "4 hamza\n"
     ]
    }
   ],
   "source": [
    "import time\n",
    "for i in range(len(listt)): \n",
    "    print(i, listt[i])\n",
    "    time.sleep(5)\n",
    "    # print('sleeping')"
   ]
  },
  {
   "cell_type": "code",
   "execution_count": 66,
   "id": "f17e3d2f-6b9e-4fda-a3a8-84afbbbdf6bf",
   "metadata": {},
   "outputs": [
    {
     "name": "stdout",
     "output_type": "stream",
     "text": [
      "S\n",
      "M\n",
      "I\n",
      "T\n",
      "D\n",
      "E\n",
      "C\n",
      "L\n",
      "A\n",
      "S\n",
      "S\n"
     ]
    }
   ],
   "source": [
    "var = \"SMITDECLASS\"\n",
    "for i in var:\n",
    "    print(i)"
   ]
  },
  {
   "cell_type": "markdown",
   "id": "70a2881a-7683-4af4-bc08-3cd4d8375736",
   "metadata": {},
   "source": [
    "Take 5 input names, store them into a list and then print one by one"
   ]
  },
  {
   "cell_type": "code",
   "execution_count": 69,
   "id": "649dcb0b-951c-458a-8867-b089a08bb765",
   "metadata": {},
   "outputs": [
    {
     "name": "stdin",
     "output_type": "stream",
     "text": [
      "Enter your name:  ayan\n"
     ]
    },
    {
     "name": "stdout",
     "output_type": "stream",
     "text": [
      "['ayan']\n"
     ]
    },
    {
     "name": "stdin",
     "output_type": "stream",
     "text": [
      "Enter your name:  uzair\n"
     ]
    },
    {
     "name": "stdout",
     "output_type": "stream",
     "text": [
      "['ayan', 'uzair']\n",
      "ayan\n",
      "uzair\n"
     ]
    }
   ],
   "source": [
    "names = []\n",
    "\n",
    "for i in range(2): \n",
    "    name = input(\"Enter your name: \" )\n",
    "    names.append(name)\n",
    "    print(names)\n",
    "\n",
    "for i in names:\n",
    "    print(i)"
   ]
  },
  {
   "cell_type": "code",
   "execution_count": 71,
   "id": "b9f2e9ce-8eb0-4388-8432-091c148c051b",
   "metadata": {},
   "outputs": [
    {
     "name": "stdout",
     "output_type": "stream",
     "text": [
      "2\n",
      "3\n",
      "4\n",
      "5\n",
      "6\n",
      "7\n",
      "8\n",
      "9\n"
     ]
    }
   ],
   "source": [
    "for i in range(2,10):# \n",
    "    print(i)"
   ]
  },
  {
   "cell_type": "markdown",
   "id": "4d7c084b-3a36-402b-83f1-0648413476ce",
   "metadata": {},
   "source": [
    "Nested loops"
   ]
  },
  {
   "cell_type": "code",
   "execution_count": 84,
   "id": "b6840f6f-66fa-4c6a-b098-2ee5f49c85a1",
   "metadata": {},
   "outputs": [
    {
     "name": "stdout",
     "output_type": "stream",
     "text": [
      "[1, 2, 4, 5, 6, 89, 9]\n",
      "1\n",
      "2\n",
      "4\n",
      "5\n",
      "6\n",
      "89\n",
      "9\n",
      "[1, 4, 67, 9, 9, 8, 9, 10, 2, 3]\n",
      "1\n",
      "4\n",
      "67\n",
      "9\n",
      "9\n",
      "8\n",
      "9\n",
      "10\n",
      "2\n",
      "3\n",
      "['Starc', 'Kohli', 'Root']\n",
      "Starc\n",
      "Kohli\n",
      "Root\n"
     ]
    }
   ],
   "source": [
    "nested_lists = [[1,2,4,5,6,89,9],[1,4,67,9,9,8,9,10,2,3],[\"Starc\",\"Kohli\",\"Root\"]]\n",
    "\n",
    "# elements in first list 3\n",
    "for i in nested_lists:\n",
    "    print(i)\n",
    "    # 1st iteration [1,2,4,5,6,89,9]\n",
    "    # 2nd iteration [1,4,67,9,9,8,9,10,2,3]\n",
    "    # 3rd iteration [\"Starc\",\"Kohli\",\"Root\"]\n",
    "    for j in i:\n",
    "        print(j)\n",
    "        \n"
   ]
  },
  {
   "cell_type": "code",
   "execution_count": null,
   "id": "bb352112-25dd-4a24-bfa5-15da61d914c3",
   "metadata": {},
   "outputs": [],
   "source": [
    "# first loop 3 times:\n",
    "    # 1st iterationn \n",
    "    # for j in nested_lists:\n",
    "        # this loop will execute 3 times\n",
    "\n",
    "    # 2ND ITERATION\n",
    "     # J 3 TIMES \n",
    "\n",
    "    # 3 3RD ITERATION \n",
    "    # J 3 TIMES"
   ]
  },
  {
   "cell_type": "code",
   "execution_count": 79,
   "id": "1289c989-8b2d-4729-89f7-39acc1660c1d",
   "metadata": {},
   "outputs": [
    {
     "name": "stdout",
     "output_type": "stream",
     "text": [
      "i  1 j  1\n",
      "i  1 j  2\n",
      "i  2 j  1\n",
      "i  2 j  2\n"
     ]
    }
   ],
   "source": [
    "simple_list = [1,2]\n",
    "for i in simple_list:\n",
    "    # print(i)\n",
    "    for j in simple_list:\n",
    "        print(\"i \",i,\"j \",  j)"
   ]
  },
  {
   "cell_type": "code",
   "execution_count": null,
   "id": "5821ab0d-a52b-43ec-8908-bead93132158",
   "metadata": {},
   "outputs": [],
   "source": [
    " * * * * *\n",
    " * * * * *\n",
    " * * * * *\n",
    " * * * * *\n",
    " * * * * *"
   ]
  },
  {
   "cell_type": "code",
   "execution_count": 99,
   "id": "4138a26e-f630-4215-9779-a474e0546aa5",
   "metadata": {},
   "outputs": [
    {
     "name": "stdout",
     "output_type": "stream",
     "text": [
      "* * * * * * \n",
      "* * * * * * \n",
      "* * * * * * \n",
      "* * * * * * \n",
      "* * * * * * \n",
      "* * * * * * \n",
      "* * * * * * \n"
     ]
    }
   ],
   "source": [
    "for i in range(7):\n",
    "    for j in range(6):\n",
    "        print(\"*\", end=\" \")\n",
    "    print()"
   ]
  },
  {
   "cell_type": "markdown",
   "id": "26be900b-7fc8-4414-b71a-f3c5ae89edef",
   "metadata": {},
   "source": [
    "Home Tasks"
   ]
  },
  {
   "cell_type": "code",
   "execution_count": null,
   "id": "548f364e-f036-43b2-9710-cce75719b48e",
   "metadata": {},
   "outputs": [],
   "source": [
    "*\n",
    "**\n",
    "***\n",
    "****\n",
    "*****"
   ]
  },
  {
   "cell_type": "code",
   "execution_count": null,
   "id": "04f180b1-c4ee-4b9b-be5e-9a25a721165a",
   "metadata": {},
   "outputs": [],
   "source": [
    "*****\n",
    "****\n",
    "***\n",
    "**\n",
    "*\n"
   ]
  },
  {
   "cell_type": "markdown",
   "id": "9439142f-7afd-41cf-a19d-6f6f2f295b10",
   "metadata": {},
   "source": [
    "Conditional Statements"
   ]
  },
  {
   "cell_type": "code",
   "execution_count": 104,
   "id": "b39dd5ee-679a-4fbd-9a3b-ddfe2336ba94",
   "metadata": {},
   "outputs": [
    {
     "name": "stdout",
     "output_type": "stream",
     "text": [
      "0\n",
      "1\n",
      "2\n",
      "3\n"
     ]
    }
   ],
   "source": [
    "# break\n",
    "\n",
    "for i in range(10): # 0 to 9 \n",
    "    print(i)\n",
    "    if i == 3:\n",
    "        break\n"
   ]
  },
  {
   "cell_type": "code",
   "execution_count": 110,
   "id": "447ea29a-b6e4-433f-b727-328eb96d46f3",
   "metadata": {},
   "outputs": [
    {
     "name": "stdout",
     "output_type": "stream",
     "text": [
      "0\n",
      "Hello\n",
      "1\n",
      "Hello\n",
      "2\n",
      "Hello\n",
      "3\n",
      "4\n",
      "5\n",
      "Hello\n"
     ]
    }
   ],
   "source": [
    "# continue\n",
    "\n",
    "for i in range(6): # 0 to 11 \n",
    "    print(i)\n",
    "    if i == 3 or i == 4:\n",
    "        continue\n",
    "    print(\"Hello\")\n"
   ]
  },
  {
   "cell_type": "code",
   "execution_count": 111,
   "id": "53504b9d-eba6-41c1-9200-42b637da8f96",
   "metadata": {},
   "outputs": [
    {
     "name": "stdout",
     "output_type": "stream",
     "text": [
      "ayan hussain\n"
     ]
    }
   ],
   "source": [
    "name = \"Ayan Hussain\"\n",
    "print(name.lower())\n"
   ]
  },
  {
   "cell_type": "code",
   "execution_count": 112,
   "id": "b1ae641d-c23a-48e0-92e7-a99a8d250270",
   "metadata": {},
   "outputs": [
    {
     "name": "stdout",
     "output_type": "stream",
     "text": [
      "AYAN HUSSAIN\n"
     ]
    }
   ],
   "source": [
    "\n",
    "print(name.upper())\n"
   ]
  },
  {
   "cell_type": "code",
   "execution_count": 113,
   "id": "7396eb90-aba6-424d-914d-4e2f61de75f0",
   "metadata": {},
   "outputs": [
    {
     "name": "stdout",
     "output_type": "stream",
     "text": [
      "Ayan Hussain\n"
     ]
    }
   ],
   "source": [
    "name = 'ayan hussain'\n",
    "# print Ayan Hussain\n",
    "print(name.title())"
   ]
  },
  {
   "cell_type": "code",
   "execution_count": null,
   "id": "0b4e67dd-7ab2-484c-9480-7a72c34a1470",
   "metadata": {},
   "outputs": [],
   "source": []
  }
 ],
 "metadata": {
  "kernelspec": {
   "display_name": "Python 3 (ipykernel)",
   "language": "python",
   "name": "python3"
  },
  "language_info": {
   "codemirror_mode": {
    "name": "ipython",
    "version": 3
   },
   "file_extension": ".py",
   "mimetype": "text/x-python",
   "name": "python",
   "nbconvert_exporter": "python",
   "pygments_lexer": "ipython3",
   "version": "3.12.7"
  }
 },
 "nbformat": 4,
 "nbformat_minor": 5
}
