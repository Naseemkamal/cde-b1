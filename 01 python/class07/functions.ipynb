{
 "cells": [
  {
   "cell_type": "markdown",
   "id": "42e1123d-6325-4078-83da-8fac98922713",
   "metadata": {},
   "source": [
    "### Functions\n",
    "- Passing them information\n",
    "- Passing information to them a different way\n",
    "- Assigning a default value to a parameter\n",
    "- Mixing positional and keyword arguments\n",
    "- Dealing with an unknown number of arguments\n",
    "- Passing information back from them\n",
    "- Using functions as variables (which is what they really are)\n",
    "- Local vs. global variables\n",
    "- Functions within functions"
   ]
  },
  {
   "cell_type": "raw",
   "id": "a1dc81a2-7c58-48d8-b7f7-01f1081397c6",
   "metadata": {},
   "source": [
    "functions syntax\n",
    "-----------------\n",
    "\n",
    "def <function-name>(<params>):\n",
    "    <body>"
   ]
  },
  {
   "cell_type": "code",
   "execution_count": 1,
   "id": "6ed3bc27-5341-42ce-8108-2fb57ca3101c",
   "metadata": {},
   "outputs": [],
   "source": [
    "def greet_saylani():\n",
    "    print(\"Welcome to Saylani ZA IT park\")"
   ]
  },
  {
   "cell_type": "code",
   "execution_count": 2,
   "id": "b14afcba-7dbc-4098-9aff-d5c9ef783ba2",
   "metadata": {},
   "outputs": [
    {
     "name": "stdout",
     "output_type": "stream",
     "text": [
      "Welcome to Saylani ZA IT park\n"
     ]
    }
   ],
   "source": [
    "greet_saylani()"
   ]
  },
  {
   "cell_type": "code",
   "execution_count": 3,
   "id": "7f0d94a4-b5b0-426f-8d31-5fbf0ea8b4af",
   "metadata": {},
   "outputs": [
    {
     "name": "stdout",
     "output_type": "stream",
     "text": [
      "Welcome to Saylani ZA IT park\n"
     ]
    }
   ],
   "source": [
    "greet_saylani()"
   ]
  },
  {
   "cell_type": "markdown",
   "id": "fc185711-d422-43cc-9261-a08813defef1",
   "metadata": {},
   "source": [
    "### Functions: Passing them information"
   ]
  },
  {
   "cell_type": "code",
   "execution_count": 4,
   "id": "725f086b-fcfc-4c21-b354-36fc19a5ad9a",
   "metadata": {},
   "outputs": [],
   "source": [
    "def addition(num1, num2):\n",
    "    sum = num1 + num2\n",
    "    print(sum)"
   ]
  },
  {
   "cell_type": "code",
   "execution_count": 6,
   "id": "d6b2d470-2a68-41f7-be84-62bed8fd2fc4",
   "metadata": {},
   "outputs": [
    {
     "name": "stdout",
     "output_type": "stream",
     "text": [
      "13\n"
     ]
    }
   ],
   "source": [
    "addition(11,2)"
   ]
  },
  {
   "cell_type": "code",
   "execution_count": 7,
   "id": "0192e846-aedc-403e-8a73-d4b69e21c84e",
   "metadata": {},
   "outputs": [
    {
     "ename": "TypeError",
     "evalue": "addition() missing 1 required positional argument: 'num2'",
     "output_type": "error",
     "traceback": [
      "\u001b[1;31m---------------------------------------------------------------------------\u001b[0m",
      "\u001b[1;31mTypeError\u001b[0m                                 Traceback (most recent call last)",
      "Cell \u001b[1;32mIn[7], line 1\u001b[0m\n\u001b[1;32m----> 1\u001b[0m \u001b[43maddition\u001b[49m\u001b[43m(\u001b[49m\u001b[38;5;241;43m2\u001b[39;49m\u001b[43m)\u001b[49m\n",
      "\u001b[1;31mTypeError\u001b[0m: addition() missing 1 required positional argument: 'num2'"
     ]
    }
   ],
   "source": [
    "addition(2)"
   ]
  },
  {
   "cell_type": "markdown",
   "id": "cb4810fe-3c51-49f1-b0db-a06ce9faab8b",
   "metadata": {},
   "source": [
    "### Functions: Passing information to them a different way"
   ]
  },
  {
   "cell_type": "code",
   "execution_count": 9,
   "id": "090267e4-b7ed-41be-a3cc-db129f292dd9",
   "metadata": {},
   "outputs": [],
   "source": [
    "def addition(num1 = 0, num2 = 0):\n",
    "    print(num1+num2)"
   ]
  },
  {
   "cell_type": "code",
   "execution_count": 11,
   "id": "4d5f223f-0da1-4f32-9b7d-14e382934cde",
   "metadata": {},
   "outputs": [
    {
     "name": "stdout",
     "output_type": "stream",
     "text": [
      "2\n"
     ]
    }
   ],
   "source": [
    "addition(2)"
   ]
  },
  {
   "cell_type": "markdown",
   "id": "f7a7cc2c-2412-4d6e-9609-73e4de4365c3",
   "metadata": {},
   "source": [
    "### Functions: Mixing positional and keyword arguments"
   ]
  },
  {
   "cell_type": "code",
   "execution_count": 12,
   "id": "251854cd-0732-4a37-a3ae-43c8adf52f81",
   "metadata": {},
   "outputs": [],
   "source": [
    "def salary_cal(salary, bonus=0.15):\n",
    "    new_salary = salary + (salary*bonus)\n",
    "    print(new_salary)"
   ]
  },
  {
   "cell_type": "code",
   "execution_count": 13,
   "id": "43459aee-b695-4407-bb73-f8838dce5873",
   "metadata": {},
   "outputs": [
    {
     "name": "stdout",
     "output_type": "stream",
     "text": [
      "5750.0\n"
     ]
    }
   ],
   "source": [
    "salary_cal(5000)"
   ]
  },
  {
   "cell_type": "code",
   "execution_count": 14,
   "id": "c7928f92-82b8-4f54-952b-ec7ddaf28b0d",
   "metadata": {},
   "outputs": [
    {
     "ename": "SyntaxError",
     "evalue": "parameter without a default follows parameter with a default (346597511.py, line 1)",
     "output_type": "error",
     "traceback": [
      "\u001b[1;36m  Cell \u001b[1;32mIn[14], line 1\u001b[1;36m\u001b[0m\n\u001b[1;33m    def salary_cal(bonus=0.15, salary):\u001b[0m\n\u001b[1;37m                               ^\u001b[0m\n\u001b[1;31mSyntaxError\u001b[0m\u001b[1;31m:\u001b[0m parameter without a default follows parameter with a default\n"
     ]
    }
   ],
   "source": [
    "def salary_cal(bonus=0.15, salary):\n",
    "    new_salary = salary + (salary*bonus)\n",
    "    print(new_salary)"
   ]
  },
  {
   "cell_type": "raw",
   "id": "bf106bca-3264-4c76-9e15-33d42794b4c1",
   "metadata": {},
   "source": [
    "QUESTION: Write a Python function that accepts a string and counts the number of upper and lower case letters.\n",
    "\n",
    "Sample String : 'The quick Brow Fox'\n",
    "Expected Output :\n",
    "No. of Upper case characters : 3\n",
    "No. of Lower case Characters : 12"
   ]
  },
  {
   "cell_type": "code",
   "execution_count": 16,
   "id": "9692ee88-929e-4839-8d2c-c8f5558e9003",
   "metadata": {},
   "outputs": [
    {
     "name": "stdout",
     "output_type": "stream",
     "text": [
      "Uppercase  3\n",
      "Lowercase  17\n"
     ]
    }
   ],
   "source": [
    "def checkString(text):\n",
    "    countupper = 0\n",
    "    countlower = 0\n",
    "    for i in text:\n",
    "        if i>='a' and i<='z':\n",
    "            countlower+=1\n",
    "        elif i>='A' and i<='Z':\n",
    "            countupper +=1\n",
    "        else:\n",
    "            continue\n",
    "    return [countupper, countlower]\n",
    "\n",
    "text = \"Saylani Mass it Program\"\n",
    "counts = checkString(text)\n",
    "print(\"Uppercase \", counts[0])\n",
    "print(\"Lowercase \", counts[1] )"
   ]
  },
  {
   "cell_type": "code",
   "execution_count": 19,
   "id": "46e66adb-7d8a-46f2-8f34-7190e39d8853",
   "metadata": {},
   "outputs": [
    {
     "name": "stdout",
     "output_type": "stream",
     "text": [
      "4\n",
      "12\n"
     ]
    }
   ],
   "source": [
    "def count(i):\n",
    "    upper=0\n",
    "    lower=0\n",
    "    for char in i:\n",
    "        if char.isupper():\n",
    "            upper +=1\n",
    "        elif char.islower():\n",
    "            lower +=1\n",
    "\n",
    "    print(upper)\n",
    "    print(lower)\n",
    "    \n",
    "count(\"The Quick Brown Fox\")"
   ]
  },
  {
   "cell_type": "markdown",
   "id": "504483a5-a622-4d41-b935-cb1db3f56183",
   "metadata": {},
   "source": [
    "### Functions: Dealing with an unknown number of arguments"
   ]
  },
  {
   "cell_type": "code",
   "execution_count": 20,
   "id": "58bb00ff-e264-4ad7-a940-d1f759cbe113",
   "metadata": {},
   "outputs": [],
   "source": [
    "def display_result(winner, score):\n",
    "    print(\"The winner was \" + winner)\n",
    "    print(\"The score was \" + score)"
   ]
  },
  {
   "cell_type": "code",
   "execution_count": 21,
   "id": "74ca6637-abc0-443f-bfed-67d63e09d0d3",
   "metadata": {},
   "outputs": [
    {
     "name": "stdout",
     "output_type": "stream",
     "text": [
      "The winner was Real Madrid\n",
      "The score was 1-0\n"
     ]
    }
   ],
   "source": [
    "display_result(winner=\"Real Madrid\", score=\"1-0\")"
   ]
  },
  {
   "cell_type": "code",
   "execution_count": 22,
   "id": "bd8160a5-c9c3-457f-b020-306edf0d318b",
   "metadata": {},
   "outputs": [
    {
     "ename": "TypeError",
     "evalue": "display_result() got an unexpected keyword argument 'overtime'",
     "output_type": "error",
     "traceback": [
      "\u001b[1;31m---------------------------------------------------------------------------\u001b[0m",
      "\u001b[1;31mTypeError\u001b[0m                                 Traceback (most recent call last)",
      "Cell \u001b[1;32mIn[22], line 1\u001b[0m\n\u001b[1;32m----> 1\u001b[0m \u001b[43mdisplay_result\u001b[49m\u001b[43m(\u001b[49m\u001b[43mwinner\u001b[49m\u001b[38;5;241;43m=\u001b[39;49m\u001b[38;5;124;43m\"\u001b[39;49m\u001b[38;5;124;43mReal Madrid\u001b[39;49m\u001b[38;5;124;43m\"\u001b[39;49m\u001b[43m,\u001b[49m\u001b[43m \u001b[49m\u001b[43mscore\u001b[49m\u001b[38;5;241;43m=\u001b[39;49m\u001b[38;5;124;43m\"\u001b[39;49m\u001b[38;5;124;43m1-0\u001b[39;49m\u001b[38;5;124;43m\"\u001b[39;49m\u001b[43m,\u001b[49m\u001b[43m \u001b[49m\u001b[43movertime\u001b[49m\u001b[43m \u001b[49m\u001b[38;5;241;43m=\u001b[39;49m\u001b[38;5;124;43m\"\u001b[39;49m\u001b[38;5;124;43myes\u001b[39;49m\u001b[38;5;124;43m\"\u001b[39;49m\u001b[43m,\u001b[49m\u001b[43m \u001b[49m\u001b[43minjuries\u001b[49m\u001b[38;5;241;43m=\u001b[39;49m\u001b[38;5;124;43m\"\u001b[39;49m\u001b[38;5;124;43mnone\u001b[39;49m\u001b[38;5;124;43m\"\u001b[39;49m\u001b[43m)\u001b[49m\n",
      "\u001b[1;31mTypeError\u001b[0m: display_result() got an unexpected keyword argument 'overtime'"
     ]
    }
   ],
   "source": [
    "display_result(winner=\"Real Madrid\", score=\"1-0\", overtime =\"yes\", injuries=\"none\")"
   ]
  },
  {
   "cell_type": "code",
   "execution_count": 27,
   "id": "53d20194-3f7e-4830-824e-65351be8c56e",
   "metadata": {},
   "outputs": [],
   "source": [
    "def display_result(winner, score, **kwargs):\n",
    "    print(\"The winner was \" + winner)\n",
    "    print(\"The score was \" + score)\n",
    "    print(kwargs)"
   ]
  },
  {
   "cell_type": "code",
   "execution_count": 28,
   "id": "57b468b9-2563-4748-993a-aa23924972b9",
   "metadata": {},
   "outputs": [
    {
     "name": "stdout",
     "output_type": "stream",
     "text": [
      "The winner was Real Madrid\n",
      "The score was 1-0\n",
      "{'overtime': 'yes', 'injuries': 'none'}\n"
     ]
    }
   ],
   "source": [
    "display_result(winner=\"Real Madrid\", score=\"1-0\", overtime =\"yes\", injuries=\"none\")"
   ]
  },
  {
   "cell_type": "code",
   "execution_count": 32,
   "id": "bf657a38-93ec-43e3-b2b5-c71057f5b9b8",
   "metadata": {},
   "outputs": [],
   "source": [
    "def display_result(winner, score, *args):\n",
    "    print(\"The winner was \" + winner)\n",
    "    print(\"The score was \" + score)\n",
    "    print(args)"
   ]
  },
  {
   "cell_type": "code",
   "execution_count": 36,
   "id": "24c5ead9-b659-4c9a-9458-3e08956b4620",
   "metadata": {},
   "outputs": [
    {
     "name": "stdout",
     "output_type": "stream",
     "text": [
      "The winner was Real Madrid\n",
      "The score was 1-0\n",
      "('yes', 'none')\n"
     ]
    }
   ],
   "source": [
    "display_result(\"Real Madrid\", \"1-0\", \"yes\", \"none\")"
   ]
  },
  {
   "cell_type": "code",
   "execution_count": 40,
   "id": "ec6f45e7-fb25-4085-8542-972176538336",
   "metadata": {},
   "outputs": [
    {
     "name": "stdout",
     "output_type": "stream",
     "text": [
      "Qasim Mehmood 20\n"
     ]
    }
   ],
   "source": [
    "# poasitional arguments\n",
    "\n",
    "# name = \"Qasim\", \"Hassan\", age=20\n",
    "\n",
    "def details(last_name, first_name, age=20):\n",
    "    print(first_name, last_name, age)\n",
    "\n",
    "details(\"Mehmood\", \"Qasim\")"
   ]
  },
  {
   "cell_type": "markdown",
   "id": "c0eccc36-6b07-4615-b118-50c6579e761f",
   "metadata": {},
   "source": [
    "NOTES:\n",
    "- Keywords arguments will always be at last.\n",
    "- if we have last argument as *args before that we can't use kwargs"
   ]
  },
  {
   "cell_type": "markdown",
   "id": "f3d1343e-a9f0-476a-a9f0-d947cbc49dee",
   "metadata": {},
   "source": [
    "### Functions: Passing information back from them"
   ]
  },
  {
   "cell_type": "code",
   "execution_count": 41,
   "id": "dd4bd59b-45be-4943-a0a6-7d42c6302ed4",
   "metadata": {},
   "outputs": [],
   "source": [
    "def count(i):\n",
    "    upper=0\n",
    "    lower=0\n",
    "    for char in i:\n",
    "        if char.isupper():\n",
    "            upper +=1\n",
    "        elif char.islower():\n",
    "            lower +=1\n",
    "\n",
    "    return upper, lower"
   ]
  },
  {
   "cell_type": "code",
   "execution_count": 42,
   "id": "a7ee5523-4efe-4f92-ab44-f761e146c2fa",
   "metadata": {},
   "outputs": [
    {
     "data": {
      "text/plain": [
       "(4, 12)"
      ]
     },
     "execution_count": 42,
     "metadata": {},
     "output_type": "execute_result"
    }
   ],
   "source": [
    "count(\"The Quick Brown Fox\")"
   ]
  },
  {
   "cell_type": "markdown",
   "id": "63c391ec-c480-4d29-b1ba-5a85765cd76c",
   "metadata": {},
   "source": [
    "### Using functions as variables (which is what they really are)"
   ]
  },
  {
   "cell_type": "code",
   "execution_count": 43,
   "id": "401f4e5d-1338-4adc-9a7d-720f0ba4cc60",
   "metadata": {},
   "outputs": [],
   "source": [
    "upper, lower = count(\"The Quick Brown Fox\")"
   ]
  },
  {
   "cell_type": "code",
   "execution_count": 44,
   "id": "ea45370a-8757-4cc1-8bfc-2d83f7c305e2",
   "metadata": {},
   "outputs": [
    {
     "name": "stdout",
     "output_type": "stream",
     "text": [
      "4\n",
      "12\n"
     ]
    }
   ],
   "source": [
    "print(upper)\n",
    "print(lower)"
   ]
  },
  {
   "cell_type": "raw",
   "id": "183637b5-3826-4f17-977a-ebc273d4da4d",
   "metadata": {},
   "source": [
    "Write a Python function to multiply all the numbers in a list.\n",
    "Sample List : (8, 2, 3, -1, 7)\n",
    "Expected Output : -336"
   ]
  },
  {
   "cell_type": "code",
   "execution_count": 46,
   "id": "1febad1b-bbbb-467b-9d41-dd6dc711dced",
   "metadata": {},
   "outputs": [
    {
     "name": "stdout",
     "output_type": "stream",
     "text": [
      "-336\n"
     ]
    }
   ],
   "source": [
    "def multiply(n):\n",
    "    value = 1\n",
    "    for i in n:\n",
    "        value = value * i\n",
    "    print(value)\n",
    "multiply([8,2,3,-1,7])    "
   ]
  },
  {
   "cell_type": "markdown",
   "id": "1369de75-0047-496e-97c6-1ba401aa8fad",
   "metadata": {},
   "source": [
    "Write a Python program to reverse a string.\n",
    "Sample String : \"1234abcd\"\n",
    "Expected Output : \"dcba4321\""
   ]
  },
  {
   "cell_type": "code",
   "execution_count": 48,
   "id": "f70257f9-3d9a-4e84-b5ce-41aec328611d",
   "metadata": {},
   "outputs": [
    {
     "data": {
      "text/plain": [
       "'jdsdsyuM'"
      ]
     },
     "execution_count": 48,
     "metadata": {},
     "output_type": "execute_result"
    }
   ],
   "source": [
    "def My_str(str):\n",
    "    return str[::-1]\n",
    "My_str(\"Muysdsdj\")"
   ]
  },
  {
   "cell_type": "markdown",
   "id": "f0ea2f73-5f81-4dfc-a334-a1454565dfae",
   "metadata": {},
   "source": [
    "### Functions: Local vs. global variables"
   ]
  },
  {
   "cell_type": "code",
   "execution_count": 53,
   "id": "60cd0c55-72d1-47f8-97ff-848f303e9c7f",
   "metadata": {},
   "outputs": [
    {
     "name": "stdout",
     "output_type": "stream",
     "text": [
      "Qasim\n"
     ]
    },
    {
     "data": {
      "text/plain": [
       "'Qasim'"
      ]
     },
     "execution_count": 53,
     "metadata": {},
     "output_type": "execute_result"
    }
   ],
   "source": [
    "f_name = \"Qasim\"\n",
    "def details():\n",
    "    l_name= \"Hassan\"\n",
    "    print(f_name)\n",
    "\n",
    "details()\n",
    "f_name"
   ]
  },
  {
   "cell_type": "code",
   "execution_count": 55,
   "id": "e3ba4118-0f31-412f-9667-525d380d8c0d",
   "metadata": {},
   "outputs": [
    {
     "name": "stdout",
     "output_type": "stream",
     "text": [
      "Qasim\n"
     ]
    },
    {
     "data": {
      "text/plain": [
       "'Qasim'"
      ]
     },
     "execution_count": 55,
     "metadata": {},
     "output_type": "execute_result"
    }
   ],
   "source": [
    "def details():\n",
    "    global f_name\n",
    "    f_name = \"Qasim\"\n",
    "    l_name= \"Hassan\"\n",
    "    print(f_name)\n",
    "\n",
    "details()\n",
    "f_name"
   ]
  },
  {
   "cell_type": "markdown",
   "id": "3fc6f4d5-55ee-4c62-bc15-2ed819649b89",
   "metadata": {},
   "source": [
    "### Functions within functions"
   ]
  },
  {
   "cell_type": "raw",
   "id": "94eee9fe-68e8-408e-83ec-d05c2d3da1f4",
   "metadata": {},
   "source": [
    "Write a function that first detect even/odd and if number is even then it takes the factorical of it."
   ]
  },
  {
   "cell_type": "code",
   "execution_count": 69,
   "id": "7c41dcbb-7bf4-4f6b-baf3-bba1a01b9c74",
   "metadata": {},
   "outputs": [],
   "source": [
    "def fac(n): # 4 -> 4*3*2*1\n",
    "    if n == 1:\n",
    "        return n\n",
    "    return n*fac(n-1)\n",
    "    \n",
    "def evenOdd(n):\n",
    "    if n%2 == 0:\n",
    "        return fac(n)\n",
    "    else: \n",
    "        return \"number is odd\""
   ]
  },
  {
   "cell_type": "code",
   "execution_count": 64,
   "id": "c5b879c8-11a0-47e4-9cde-5c348f333f5c",
   "metadata": {},
   "outputs": [
    {
     "data": {
      "text/plain": [
       "'number is odd'"
      ]
     },
     "execution_count": 64,
     "metadata": {},
     "output_type": "execute_result"
    }
   ],
   "source": [
    "evenOdd(5)"
   ]
  },
  {
   "cell_type": "code",
   "execution_count": 70,
   "id": "a4e62203-ec55-4afd-857c-ade7c2c87964",
   "metadata": {},
   "outputs": [
    {
     "data": {
      "text/plain": [
       "24"
      ]
     },
     "execution_count": 70,
     "metadata": {},
     "output_type": "execute_result"
    }
   ],
   "source": [
    "evenOdd(4)"
   ]
  },
  {
   "cell_type": "markdown",
   "id": "4baf7f2e-09b8-4316-b470-e69f5b4b1a4a",
   "metadata": {},
   "source": [
    "## While loop"
   ]
  },
  {
   "cell_type": "code",
   "execution_count": null,
   "id": "e879f5a8-fd48-4760-8f97-242d039d071b",
   "metadata": {},
   "outputs": [],
   "source": [
    "syntax:\n",
    "--------\n",
    "\n",
    "while <cond not true>:\n",
    "    <execute node>"
   ]
  }
 ],
 "metadata": {
  "kernelspec": {
   "display_name": "Python 3 (ipykernel)",
   "language": "python",
   "name": "python3"
  },
  "language_info": {
   "codemirror_mode": {
    "name": "ipython",
    "version": 3
   },
   "file_extension": ".py",
   "mimetype": "text/x-python",
   "name": "python",
   "nbconvert_exporter": "python",
   "pygments_lexer": "ipython3",
   "version": "3.12.7"
  }
 },
 "nbformat": 4,
 "nbformat_minor": 5
}
