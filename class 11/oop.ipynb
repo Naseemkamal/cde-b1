{
 "cells": [
  {
   "cell_type": "code",
   "execution_count": 1,
   "id": "fc6f6faf-18c5-498f-9231-878e67198f22",
   "metadata": {},
   "outputs": [],
   "source": [
    "class parent():\n",
    "    def __init__(self):\n",
    "        self.haricolor = \"brown\"\n",
    "        self.eyecolor = \"brown\"\n",
    "\n",
    "    def property(self):\n",
    "        print(f\"Have a car\")\n",
    "\n",
    "class child(parent):\n",
    "    def __init__(self, height):\n",
    "        super().__init__()\n",
    "        self.height = height\n",
    "\n",
    "    def drive(self):\n",
    "        print(\"Can drive a car.\")"
   ]
  },
  {
   "cell_type": "markdown",
   "id": "d5bad747-9695-4bc0-82b8-9b0eb20153a7",
   "metadata": {},
   "source": [
    "## multi-class inhertiance"
   ]
  },
  {
   "cell_type": "code",
   "execution_count": 5,
   "id": "74eb798b-ce12-47e0-aa25-68cadf060336",
   "metadata": {},
   "outputs": [],
   "source": [
    "class father():\n",
    "    def __init__(self, haircolor):\n",
    "        self.haircolor = haircolor\n",
    "\n",
    "    def drive(self):\n",
    "        print(\"Can drive\")\n",
    "\n",
    "class mother():\n",
    "    def __init__(self, eyecolor):\n",
    "        self.eyecolor = eyecolor\n",
    "\n",
    "    def cooking(self):\n",
    "        print(\"Can do cooking\")\n",
    "\n",
    "class child(father, mother):\n",
    "    def __init__(self, name, haircolor, eyecolor):\n",
    "        father.__init__(self, haircolor)\n",
    "        mother.__init__(self, eyecolor)\n",
    "        self.name = name\n",
    "\n",
    "    def play_football(self):\n",
    "        print(\"Can play football\")"
   ]
  },
  {
   "cell_type": "code",
   "execution_count": 6,
   "id": "bf580846-28eb-44c3-b7da-bd3c04e246bc",
   "metadata": {},
   "outputs": [],
   "source": [
    "child_obj = child(\"qasim\", \"brown\", \"black\")"
   ]
  },
  {
   "cell_type": "code",
   "execution_count": 7,
   "id": "6511d5f1-f48d-4a9e-94f3-e9cc56fbdbbb",
   "metadata": {},
   "outputs": [
    {
     "data": {
      "text/plain": [
       "'qasim'"
      ]
     },
     "execution_count": 7,
     "metadata": {},
     "output_type": "execute_result"
    }
   ],
   "source": [
    "child_obj.name"
   ]
  },
  {
   "cell_type": "code",
   "execution_count": 8,
   "id": "152eba36-ad2d-4627-a971-b1a25f05e69b",
   "metadata": {},
   "outputs": [
    {
     "data": {
      "text/plain": [
       "'brown'"
      ]
     },
     "execution_count": 8,
     "metadata": {},
     "output_type": "execute_result"
    }
   ],
   "source": [
    "child_obj.haircolor"
   ]
  },
  {
   "cell_type": "code",
   "execution_count": 9,
   "id": "8cd8f90c-a3f2-4b30-afb0-4d10f3788505",
   "metadata": {},
   "outputs": [
    {
     "data": {
      "text/plain": [
       "'black'"
      ]
     },
     "execution_count": 9,
     "metadata": {},
     "output_type": "execute_result"
    }
   ],
   "source": [
    "child_obj.eyecolor"
   ]
  },
  {
   "cell_type": "code",
   "execution_count": 10,
   "id": "87a42db2-4eee-4c85-9a66-0c6e7749fc5d",
   "metadata": {},
   "outputs": [
    {
     "name": "stdout",
     "output_type": "stream",
     "text": [
      "Can play football\n"
     ]
    }
   ],
   "source": [
    "child_obj.play_football()"
   ]
  },
  {
   "cell_type": "code",
   "execution_count": 11,
   "id": "678856b9-0c4c-41a2-8717-6e0ad64de06d",
   "metadata": {},
   "outputs": [
    {
     "name": "stdout",
     "output_type": "stream",
     "text": [
      "Can drive\n"
     ]
    }
   ],
   "source": [
    "child_obj.drive()"
   ]
  },
  {
   "cell_type": "code",
   "execution_count": 12,
   "id": "e16fc9b3-4a75-42d6-aa85-85678e449534",
   "metadata": {},
   "outputs": [
    {
     "name": "stdout",
     "output_type": "stream",
     "text": [
      "Can do cooking\n"
     ]
    }
   ],
   "source": [
    "child_obj.cooking()"
   ]
  },
  {
   "cell_type": "code",
   "execution_count": 13,
   "id": "a07a1a57-0c51-4b13-b057-2d600c14af88",
   "metadata": {},
   "outputs": [],
   "source": [
    "mother_obj = mother(\"red\")"
   ]
  },
  {
   "cell_type": "code",
   "execution_count": 15,
   "id": "ec81a87e-862f-4922-b842-17caf394a695",
   "metadata": {},
   "outputs": [
    {
     "name": "stdout",
     "output_type": "stream",
     "text": [
      "Can do cooking\n"
     ]
    }
   ],
   "source": [
    "mother_obj.cooking()"
   ]
  },
  {
   "cell_type": "code",
   "execution_count": 16,
   "id": "20dced0e-51f7-4e59-8ba7-683bb258ffd8",
   "metadata": {},
   "outputs": [
    {
     "data": {
      "text/plain": [
       "'red'"
      ]
     },
     "execution_count": 16,
     "metadata": {},
     "output_type": "execute_result"
    }
   ],
   "source": [
    "mother_obj.eyecolor"
   ]
  },
  {
   "attachments": {
    "69f83053-4738-4e2a-87e0-23aab32611ca.png": {
     "image/png": "[encoded data removed]"
    }
   },
   "cell_type": "markdown",
   "id": "329f3671-8200-4a38-82fc-b36cdfbce55a",
   "metadata": {},
   "source": [
    "![image.png](attachment:69f83053-4738-4e2a-87e0-23aab32611ca.png)"
   ]
  },
  {
   "cell_type": "code",
   "execution_count": 5,
   "id": "4557a726-f0e6-49ad-bc39-a882903f6b9b",
   "metadata": {},
   "outputs": [],
   "source": [
    "class Vehicle():\n",
    "    def __init__(self):\n",
    "        self.started = \"Yes\"\n",
    "        self.speed = 120\n",
    "\n",
    "class Car(Vehicle):\n",
    "    def __init__(self, open_trunk, close_trunk):\n",
    "        super().__init__()\n",
    "        self.open_trunk = open_trunk\n",
    "        self.close_trunk = close_trunk\n",
    "\n",
    "class Motorcycle(Vehicle):\n",
    "    def __init__(self, center_stand_out):\n",
    "        super().__init__()\n",
    "        self.center_stand_out = center_stand_out\n"
   ]
  },
  {
   "cell_type": "code",
   "execution_count": 6,
   "id": "26c1940f-9728-4d94-a674-45af2841c6fc",
   "metadata": {},
   "outputs": [],
   "source": [
    "car_obj = Car(\"Yes\" , \"No\")"
   ]
  },
  {
   "cell_type": "code",
   "execution_count": 7,
   "id": "15603922-0e66-4381-a5cc-383df036a700",
   "metadata": {},
   "outputs": [],
   "source": [
    "motorcycle_obj = Motorcycle(\"xyz\")"
   ]
  },
  {
   "cell_type": "code",
   "execution_count": 8,
   "id": "a0f804d4-8059-437b-81e6-bb7ded95ecfe",
   "metadata": {},
   "outputs": [
    {
     "data": {
      "text/plain": [
       "'Yes'"
      ]
     },
     "execution_count": 8,
     "metadata": {},
     "output_type": "execute_result"
    }
   ],
   "source": [
    "car_obj.started"
   ]
  },
  {
   "cell_type": "code",
   "execution_count": 9,
   "id": "16ca7344-f6bc-4ca6-a1a8-fc2bf6c3e48f",
   "metadata": {},
   "outputs": [
    {
     "data": {
      "text/plain": [
       "120"
      ]
     },
     "execution_count": 9,
     "metadata": {},
     "output_type": "execute_result"
    }
   ],
   "source": [
    "motorcycle_obj.speed"
   ]
  },
  {
   "cell_type": "markdown",
   "id": "d0c04b61-67dd-44b9-aea8-5ad48f4d175b",
   "metadata": {},
   "source": [
    "## Absraction\n",
    "\n",
    "The concept of `hiding the complex reality while exposing only the necessary parts`. It helps to reduce programming complexity and effort.\n",
    "\n",
    "A class that consists of one or more abstract method is called the abstract class.\n",
    "\n",
    "- Abstract methods `do not contain their implementation`.\n",
    "- Abstract class can be `inherited by the subclass` and abstract method gets its definition in the subclass.\n",
    "- Abstraction classes are meant to be the `blueprint` of the other class.\n",
    "- An abstract class can be `useful when we are designing large functions`.\n",
    "\n",
    "NOTE: Python provides the abc module to use the abstraction in the Python program.\n",
    "\n",
    "Let's see the following syntax."
   ]
  },
  {
   "cell_type": "code",
   "execution_count": 10,
   "id": "871e4a50-ebea-4c05-9914-7fed2d8980d7",
   "metadata": {},
   "outputs": [],
   "source": [
    "class shapes():\n",
    "    #abstract method\n",
    "    def sides(self):\n",
    "        pass"
   ]
  },
  {
   "cell_type": "code",
   "execution_count": 12,
   "id": "2b528420-b570-4880-b0aa-ac4082f94c2b",
   "metadata": {},
   "outputs": [],
   "source": [
    "class triangle(shapes):\n",
    "    def sides(self):\n",
    "        print('Triangle has 3 sides...') # implemntation\n",
    "\n",
    "class square(shapes):\n",
    "    def sides(self):\n",
    "        print(\"Square has four sides...\")      "
   ]
  },
  {
   "cell_type": "code",
   "execution_count": 15,
   "id": "cde0a8ea-1f45-4a9a-969f-932453c6194a",
   "metadata": {},
   "outputs": [
    {
     "name": "stdout",
     "output_type": "stream",
     "text": [
      "Square has four sides...\n"
     ]
    }
   ],
   "source": [
    "square_obj = square()\n",
    "square_obj.sides()"
   ]
  },
  {
   "cell_type": "markdown",
   "id": "f3eee2d4-1f4c-4a99-962c-69f52ff6ab30",
   "metadata": {},
   "source": [
    "## Ploymorphsim\n",
    "\n",
    "`The ability of different classes to respond to the same message (method call) in different ways. This allows for code to work with objects of various classes as if they were objects of a common superclass.`"
   ]
  },
  {
   "cell_type": "code",
   "execution_count": 28,
   "id": "06575259-da54-40f2-9232-3224ab4cacb0",
   "metadata": {},
   "outputs": [],
   "source": [
    "class Animal(): # parent\n",
    "    def eating(self):\n",
    "        print(\"Animal is eating food\")\n",
    "\n",
    "class Bird(Animal):\n",
    "    pass # child\n",
    "    #def eating(self): # same method as in parent class\n",
    "        #print(\"Bird is eating food\") # child method override the parents method"
   ]
  },
  {
   "cell_type": "code",
   "execution_count": 29,
   "id": "2d3c1005-7e42-4ce5-bfbf-a983d8396308",
   "metadata": {},
   "outputs": [
    {
     "name": "stdout",
     "output_type": "stream",
     "text": [
      "Animal is eating food\n"
     ]
    }
   ],
   "source": [
    "animal_obj = Animal()\n",
    "animal_obj.eating()"
   ]
  },
  {
   "cell_type": "code",
   "execution_count": 30,
   "id": "1671d5fe-af19-4a9c-9828-cf8afadcfd7a",
   "metadata": {},
   "outputs": [
    {
     "name": "stdout",
     "output_type": "stream",
     "text": [
      "Animal is eating food\n"
     ]
    }
   ],
   "source": [
    "bird_obj = Bird()\n",
    "bird_obj.eating() # what should be printed out & why ?"
   ]
  },
  {
   "cell_type": "code",
   "execution_count": 22,
   "id": "a3651064-3050-4f88-9dcc-a2987184a139",
   "metadata": {},
   "outputs": [],
   "source": [
    "num = 10"
   ]
  },
  {
   "cell_type": "code",
   "execution_count": 23,
   "id": "96362a85-498f-4ed5-81b1-bdcbdda5cc4b",
   "metadata": {},
   "outputs": [
    {
     "data": {
      "text/plain": [
       "10"
      ]
     },
     "execution_count": 23,
     "metadata": {},
     "output_type": "execute_result"
    }
   ],
   "source": [
    "num"
   ]
  },
  {
   "cell_type": "code",
   "execution_count": 24,
   "id": "287408ab-13e7-4742-b651-580e1bbed93b",
   "metadata": {},
   "outputs": [],
   "source": [
    "num = 12"
   ]
  },
  {
   "cell_type": "code",
   "execution_count": 25,
   "id": "b4f7a7fc-5747-490c-a5a3-bc05ac4a093f",
   "metadata": {},
   "outputs": [
    {
     "data": {
      "text/plain": [
       "12"
      ]
     },
     "execution_count": 25,
     "metadata": {},
     "output_type": "execute_result"
    }
   ],
   "source": [
    "num"
   ]
  },
  {
   "attachments": {
    "81006965-6ac7-45e4-92d5-e6436c15ed26.png": {
     "image/png": "[encoded data removed]"
    }
   },
   "cell_type": "markdown",
   "id": "e48f09e1-cce4-47a9-856e-93f6db622f39",
   "metadata": {},
   "source": [
    "![image.png](attachment:81006965-6ac7-45e4-92d5-e6436c15ed26.png)"
   ]
  },
  {
   "cell_type": "code",
   "execution_count": 38,
   "id": "52c72c50-159c-489a-b72b-dd3d2305239e",
   "metadata": {},
   "outputs": [],
   "source": [
    "class vehicle():\n",
    "    def __init__(self, speed):\n",
    "        self.speed = speed\n",
    "        \n",
    "    def max_speed(self):\n",
    "        print(\"the max speed is 150\")\n",
    "        \n",
    "    def gear(self):\n",
    "        print(\"the gears are 5\")\n",
    "        \n",
    "    def show(self):\n",
    "        print(f\"the speed is {self.speed}\")\n",
    "        \n",
    "class car(vehicle):\n",
    "    def __init__(self, speed):\n",
    "        super().__init__(speed)\n",
    "        \n",
    "    def gear(self):\n",
    "        print(\"the gears are 6\")\n",
    "        \n",
    "    def max_speed(self):\n",
    "        print(\"the max speed of the car is 240\")\n",
    "        \n",
    "class truck(vehicle):\n",
    "    def __init__(self, speed):\n",
    "        super().__init__(speed)\n",
    "        \n",
    "    def gear(self):\n",
    "        print(\"the gears are 8\")\n",
    "        \n",
    "    def max_speed(self):\n",
    "        print(\"the max speed of the car is 200\")"
   ]
  },
  {
   "cell_type": "code",
   "execution_count": 39,
   "id": "bf3a78ab-61e8-483c-b1a8-41b5097e668f",
   "metadata": {},
   "outputs": [],
   "source": [
    "c1 = car(24)\n"
   ]
  },
  {
   "cell_type": "code",
   "execution_count": 40,
   "id": "63385bbf-2716-4582-b477-4c8151a166a3",
   "metadata": {},
   "outputs": [
    {
     "name": "stdout",
     "output_type": "stream",
     "text": [
      "the gears are 6\n"
     ]
    }
   ],
   "source": [
    "c1.gear()"
   ]
  },
  {
   "cell_type": "code",
   "execution_count": 41,
   "id": "69d35a13-2b4b-4f1f-8e03-95ddb7348f51",
   "metadata": {},
   "outputs": [
    {
     "name": "stdout",
     "output_type": "stream",
     "text": [
      "the max speed of the car is 240\n"
     ]
    }
   ],
   "source": [
    "c1.max_speed()"
   ]
  },
  {
   "cell_type": "code",
   "execution_count": 43,
   "id": "6ddd4ef3-ce74-4a23-afad-2f6cb99ba257",
   "metadata": {},
   "outputs": [
    {
     "name": "stdout",
     "output_type": "stream",
     "text": [
      "the speed is 24\n"
     ]
    }
   ],
   "source": [
    "c1.show()"
   ]
  },
  {
   "cell_type": "code",
   "execution_count": 44,
   "id": "262a3435-1254-4237-b2f5-e45213d4d37c",
   "metadata": {},
   "outputs": [],
   "source": [
    "t1 = truck(100)"
   ]
  },
  {
   "cell_type": "code",
   "execution_count": 45,
   "id": "13438f75-756a-4d81-ab44-7f468dfc5946",
   "metadata": {},
   "outputs": [
    {
     "name": "stdout",
     "output_type": "stream",
     "text": [
      "the gears are 8\n"
     ]
    }
   ],
   "source": [
    "t1.gear()"
   ]
  },
  {
   "cell_type": "code",
   "execution_count": 46,
   "id": "2247f923-00d1-43e8-991a-a111fd411b9f",
   "metadata": {},
   "outputs": [
    {
     "name": "stdout",
     "output_type": "stream",
     "text": [
      "the max speed of the car is 200\n"
     ]
    }
   ],
   "source": [
    "t1.max_speed()"
   ]
  },
  {
   "cell_type": "markdown",
   "id": "5f09594a-6f6d-4199-b2bf-884cf141fa8a",
   "metadata": {},
   "source": [
    "## Encapsulation\n",
    "\n",
    "- The methodolody/process of hiding attributes/methods i called Encapsulation\n",
    "    1. public\n",
    "    2. protected (_)\n",
    "    3. Private (__)"
   ]
  },
  {
   "cell_type": "code",
   "execution_count": 51,
   "id": "8c33fa6a-bc70-4df2-b1b7-b9051e2dcce0",
   "metadata": {},
   "outputs": [],
   "source": [
    "class Saylani():\n",
    "    def __init__(self):\n",
    "        self.campus = \"Zatoon Ashraf\"\n",
    "        self._helpline = \"090078601\" # protected\n",
    "        self.__staff_conatct = \"0300-123456\" # privated"
   ]
  },
  {
   "cell_type": "code",
   "execution_count": 52,
   "id": "72f2d0d3-1d55-45f4-91d0-3786f7a2b5c8",
   "metadata": {},
   "outputs": [],
   "source": [
    "saylani_obj = Saylani()"
   ]
  },
  {
   "cell_type": "code",
   "execution_count": 53,
   "id": "c3b4f9db-02ce-4b05-8fb0-679d0867703f",
   "metadata": {},
   "outputs": [
    {
     "data": {
      "text/plain": [
       "'Zatoon Ashraf'"
      ]
     },
     "execution_count": 53,
     "metadata": {},
     "output_type": "execute_result"
    }
   ],
   "source": [
    "saylani_obj.campus"
   ]
  },
  {
   "cell_type": "code",
   "execution_count": 57,
   "id": "dbd11fcf-7eac-4573-80d5-3361afeaec8b",
   "metadata": {},
   "outputs": [
    {
     "data": {
      "text/plain": [
       "'090078601'"
      ]
     },
     "execution_count": 57,
     "metadata": {},
     "output_type": "execute_result"
    }
   ],
   "source": [
    "saylani_obj._helpline # protected"
   ]
  },
  {
   "cell_type": "code",
   "execution_count": 58,
   "id": "a1b7369b-54ee-4089-b2dd-1b7e1c925368",
   "metadata": {},
   "outputs": [
    {
     "ename": "AttributeError",
     "evalue": "'Saylani' object has no attribute '__staff_conatct'",
     "output_type": "error",
     "traceback": [
      "\u001b[1;31m---------------------------------------------------------------------------\u001b[0m",
      "\u001b[1;31mAttributeError\u001b[0m                            Traceback (most recent call last)",
      "Cell \u001b[1;32mIn[58], line 1\u001b[0m\n\u001b[1;32m----> 1\u001b[0m \u001b[43msaylani_obj\u001b[49m\u001b[38;5;241;43m.\u001b[39;49m\u001b[43m__staff_conatct\u001b[49m\n",
      "\u001b[1;31mAttributeError\u001b[0m: 'Saylani' object has no attribute '__staff_conatct'"
     ]
    }
   ],
   "source": [
    "saylani_obj.__staff_conatct"
   ]
  },
  {
   "cell_type": "code",
   "execution_count": 60,
   "id": "eb758d50-3523-4c31-b3b9-678349418534",
   "metadata": {},
   "outputs": [
    {
     "data": {
      "text/plain": [
       "'0300-123456'"
      ]
     },
     "execution_count": 60,
     "metadata": {},
     "output_type": "execute_result"
    }
   ],
   "source": [
    "saylani_obj._Saylani__staff_conatct"
   ]
  },
  {
   "cell_type": "markdown",
   "id": "fc5dcf30-6950-4203-ad5b-4262681885b4",
   "metadata": {},
   "source": [
    "### Example: Encapsulation\n",
    "\n",
    "Task: Create a Login class that sues the concepts of encapsultaion & do validation befoere login & also provide the capability to update the passowrd"
   ]
  },
  {
   "cell_type": "code",
   "execution_count": 67,
   "id": "25379510-703e-40af-8b79-6b97b14721a1",
   "metadata": {},
   "outputs": [],
   "source": [
    "class login():\n",
    "    def __init__(self):\n",
    "        self._user_name = \"Admin\"\n",
    "        self._password = \"Admin\"\n",
    "\n",
    "    def __dbconnectivity(self, user_name, password):\n",
    "        if user_name == self._user_name and password == self._password:\n",
    "            print(\"Database connected\")\n",
    "            print(\"Login Successfully\")\n",
    "        else:\n",
    "            print(\"Login Failed\")\n",
    "\n",
    "    def update_password(self, new_pass):\n",
    "        self._password = new_pass\n",
    "        print(\"password updated\")\n",
    "\n",
    "    def login(self, user_name, password):\n",
    "        self.__dbconnectivity(user_name, password)"
   ]
  },
  {
   "cell_type": "code",
   "execution_count": 69,
   "id": "49602151-33aa-4389-897e-03a0b3f8996b",
   "metadata": {},
   "outputs": [
    {
     "name": "stdout",
     "output_type": "stream",
     "text": [
      "Database connected\n",
      "Login Successfully\n",
      "Login Failed\n"
     ]
    }
   ],
   "source": [
    "user = login()\n",
    "user.login('Admin', 'Admin')\n",
    "user.login('Admin', 'Admin12')"
   ]
  },
  {
   "cell_type": "markdown",
   "id": "015ce3c3-c73c-4083-9d0e-0dd95a5249d1",
   "metadata": {},
   "source": [
    "### Method Overloading"
   ]
  },
  {
   "cell_type": "code",
   "execution_count": 72,
   "id": "48de078f-afed-446c-b99b-68a03140b172",
   "metadata": {},
   "outputs": [
    {
     "name": "stdout",
     "output_type": "stream",
     "text": [
      "3\n",
      "4.0\n",
      "Hello, world!\n"
     ]
    }
   ],
   "source": [
    "from typing import overload\n",
    "\n",
    "class Addition():\n",
    "\n",
    "    @overload\n",
    "    def add(self, x:int ,y:int) -> int:\n",
    "        ...\n",
    "\n",
    "    @overload\n",
    "    def add(self, x:float ,y:float) -> float:\n",
    "        ...\n",
    "\n",
    "    @overload\n",
    "    def add(self, x:str ,y:str) -> str:\n",
    "        ...\n",
    "\n",
    "    def add(self, x, y):\n",
    "        if isinstance(x, int) and isinstance(y, int):\n",
    "            return x + y\n",
    "        elif isinstance(x, float) and isinstance(y, float):\n",
    "            return x + y\n",
    "        elif isinstance(x, str) and isinstance(y, str):\n",
    "            return x + y\n",
    "        else:\n",
    "            raise TypeError(\"Invalid argument types!\")\n",
    "\n",
    "# Usage examples\n",
    "adder = Addition()\n",
    "result1 = adder.add(1, 2)  # Should return 3\n",
    "result2 = adder.add(1.5, 2.5)  # Should return 4.0\n",
    "result3 = adder.add(\"Hello, \", \"world!\")  # Should return \"Hello, world!\"\n",
    "\n",
    "# Overridding & polymorphism\n",
    "print(result1)\n",
    "print(result2)\n",
    "print(result3)"
   ]
  },
  {
   "cell_type": "markdown",
   "id": "306ad8b6-ffde-4532-a142-e22014255a20",
   "metadata": {},
   "source": [
    "### Function Overloading"
   ]
  },
  {
   "cell_type": "code",
   "execution_count": 74,
   "id": "d04b0cff-691a-4c51-abdd-fea1cd393514",
   "metadata": {},
   "outputs": [
    {
     "name": "stdout",
     "output_type": "stream",
     "text": [
      "3\n",
      "4.0\n",
      "Hello, world!\n"
     ]
    }
   ],
   "source": [
    "@overload\n",
    "def add( x:int ,y:int) -> int:\n",
    "    ...\n",
    "\n",
    "@overload\n",
    "def add( x:float ,y:float) -> float:\n",
    "    ...\n",
    "\n",
    "@overload\n",
    "def add( x:str ,y:str) -> str:\n",
    "    ...\n",
    "\n",
    "def add(x, y):\n",
    "    if isinstance(x, int) and isinstance(y, int):\n",
    "        return x + y\n",
    "    elif isinstance(x, float) and isinstance(y, float):\n",
    "        return x + y\n",
    "    elif isinstance(x, str) and isinstance(y, str):\n",
    "        return x + y\n",
    "    else:\n",
    "        raise TypeError(\"Invalid argument types!\")\n",
    "\n",
    "# Usage examples\n",
    "result1 = add(1, 2)  # Should return 3\n",
    "result2 = add(1.5, 2.5)  # Should return 4.0\n",
    "result3 = add(\"Hello, \", \"world!\")  # Should return \"Hello, world!\"\n",
    "\n",
    "# Overridding & polymorphism\n",
    "print(result1)\n",
    "print(result2)\n",
    "print(result3)"
   ]
  },
  {
   "cell_type": "code",
   "execution_count": null,
   "id": "b56d8ed9-e855-4f60-9842-25d137cf3841",
   "metadata": {},
   "outputs": [],
   "source": []
  }
 ],
 "metadata": {
  "kernelspec": {
   "display_name": "Python 3 (ipykernel)",
   "language": "python",
   "name": "python3"
  },
  "language_info": {
   "codemirror_mode": {
    "name": "ipython",
    "version": 3
   },
   "file_extension": ".py",
   "mimetype": "text/x-python",
   "name": "python",
   "nbconvert_exporter": "python",
   "pygments_lexer": "ipython3",
   "version": "3.12.7"
  }
 },
 "nbformat": 4,
 "nbformat_minor": 5
}
